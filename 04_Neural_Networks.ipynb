{
  "nbformat": 4,
  "nbformat_minor": 0,
  "metadata": {
    "colab": {
      "provenance": [],
      "collapsed_sections": [],
      "authorship_tag": "ABX9TyPX9K8otGOz+oE7wc+m8rDp",
      "include_colab_link": true
    },
    "kernelspec": {
      "name": "python3",
      "display_name": "Python 3"
    },
    "language_info": {
      "name": "python"
    }
  },
  "cells": [
    {
      "cell_type": "markdown",
      "metadata": {
        "id": "view-in-github",
        "colab_type": "text"
      },
      "source": [
        "<a href=\"https://colab.research.google.com/github/myacarrizosa/Airbnb-Rating-Prediction/blob/main/04_Neural_Networks.ipynb\" target=\"_parent\"><img src=\"https://colab.research.google.com/assets/colab-badge.svg\" alt=\"Open In Colab\"/></a>"
      ]
    },
    {
      "cell_type": "markdown",
      "source": [
        "# Neural Networks"
      ],
      "metadata": {
        "id": "zVwE0_ZbdNlx"
      }
    },
    {
      "cell_type": "code",
      "execution_count": null,
      "metadata": {
        "id": "K9twLBDK7FGR"
      },
      "outputs": [],
      "source": [
        "import pandas as pd\n",
        "import numpy as np\n",
        "import matplotlib.pyplot as plt\n",
        "\n",
        "from sklearn.preprocessing import StandardScaler\n",
        "\n",
        "from tensorflow.keras.preprocessing.text import Tokenizer\n",
        "from tensorflow.keras.preprocessing.sequence import pad_sequences\n",
        "\n",
        "from tensorflow.keras.models import Sequential\n",
        "from tensorflow.keras.layers import Dense\n",
        "from tensorflow.keras.regularizers import l2\n",
        "from tensorflow.keras.layers import Dropout\n",
        "from tensorflow.keras.callbacks import EarlyStopping\n",
        "\n",
        "from sklearn.metrics import confusion_matrix, ConfusionMatrixDisplay\n",
        "\n",
        "import random\n",
        "random.seed(222)"
      ]
    },
    {
      "cell_type": "code",
      "source": [
        "X_train = pd.read_csv(\"https://media.githubusercontent.com/media/myacarrizosa/Airbnb-Rating-Prediction/main/data/X_train_r.csv\")\n",
        "X_test = pd.read_csv(\"https://media.githubusercontent.com/media/myacarrizosa/Airbnb-Rating-Prediction/main/data/X_test_r.csv\")\n",
        "y_train = pd.read_csv(\"https://media.githubusercontent.com/media/myacarrizosa/Airbnb-Rating-Prediction/main/data/y_train_r.csv\")\n",
        "y_test = pd.read_csv(\"https://media.githubusercontent.com/media/myacarrizosa/Airbnb-Rating-Prediction/main/data/y_test_r.csv\")"
      ],
      "metadata": {
        "id": "MT97BljrLt08"
      },
      "execution_count": null,
      "outputs": []
    },
    {
      "cell_type": "code",
      "source": [
        "X_train = X_train['lem_comments']\n",
        "X_test = X_test['lem_comments']\n",
        "\n",
        "y_train = y_train['type']\n",
        "y_test = y_test['type']"
      ],
      "metadata": {
        "id": "8hLgn14S8mTe"
      },
      "execution_count": null,
      "outputs": []
    },
    {
      "cell_type": "code",
      "source": [
        "nn_y_train = y_train.values\n",
        "nn_y_test = y_test.values"
      ],
      "metadata": {
        "id": "y1rK3ca68Rrm"
      },
      "execution_count": null,
      "outputs": []
    },
    {
      "cell_type": "code",
      "source": [
        "num_words = 2000\n",
        "oov_token = '<UNK>'\n",
        "pad_type = 'post'\n",
        "trunc_type = 'post'"
      ],
      "metadata": {
        "id": "HkAFc8yl8ZCv"
      },
      "execution_count": null,
      "outputs": []
    },
    {
      "cell_type": "code",
      "source": [
        "tokenizer = Tokenizer(num_words=num_words, oov_token=oov_token)\n",
        "tokenizer.fit_on_texts(X_train)"
      ],
      "metadata": {
        "id": "l_VWo-GW8kCz"
      },
      "execution_count": null,
      "outputs": []
    },
    {
      "cell_type": "code",
      "source": [
        "train_sequences = tokenizer.texts_to_sequences(X_train)\n",
        "maxlen = max([len(x) for x in train_sequences])\n",
        "train_padded = pad_sequences(train_sequences, padding=pad_type, truncating=trunc_type, maxlen=maxlen)"
      ],
      "metadata": {
        "id": "guWmbi2189eV"
      },
      "execution_count": null,
      "outputs": []
    },
    {
      "cell_type": "code",
      "source": [
        "test_sequences = tokenizer.texts_to_sequences(X_test)\n",
        "test_padded = pad_sequences(test_sequences, padding=pad_type, truncating=trunc_type, maxlen=maxlen)"
      ],
      "metadata": {
        "id": "aAqPnTi89E1Y"
      },
      "execution_count": null,
      "outputs": []
    },
    {
      "cell_type": "code",
      "source": [
        "train_padded.shape, test_padded.shape"
      ],
      "metadata": {
        "colab": {
          "base_uri": "https://localhost:8080/"
        },
        "id": "uGvSpLDx9IGw",
        "outputId": "ad8461f2-d0b0-4ac1-fe98-d6fd2e6e4edb"
      },
      "execution_count": null,
      "outputs": [
        {
          "output_type": "execute_result",
          "data": {
            "text/plain": [
              "((24510, 1004), (8171, 1004))"
            ]
          },
          "metadata": {},
          "execution_count": 11
        }
      ]
    },
    {
      "cell_type": "markdown",
      "source": [
        "We ran our text data through the tensorflow keras tokenizer tool to get it processed to be run through the neural network models."
      ],
      "metadata": {
        "id": "JPeGL-J6dVoR"
      }
    },
    {
      "cell_type": "markdown",
      "source": [
        "Code adapted from: https://www.kdnuggets.com/2020/03/tensorflow-keras-tokenization-text-data-prep.html"
      ],
      "metadata": {
        "id": "z92Ji6Jy9Szu"
      }
    },
    {
      "cell_type": "code",
      "source": [
        "ss = StandardScaler()\n",
        "X_train_sc = ss.fit_transform(train_padded)\n",
        "X_test_sc = ss.transform(test_padded)"
      ],
      "metadata": {
        "id": "BKBdSiDy9KUJ"
      },
      "execution_count": null,
      "outputs": []
    },
    {
      "cell_type": "code",
      "source": [
        "X_train_sc.shape, X_test_sc.shape"
      ],
      "metadata": {
        "colab": {
          "base_uri": "https://localhost:8080/"
        },
        "id": "xVrbHyui9Y8_",
        "outputId": "c255cc4e-bd99-47c5-b1a3-fcca89d5fad6"
      },
      "execution_count": null,
      "outputs": [
        {
          "output_type": "execute_result",
          "data": {
            "text/plain": [
              "((24510, 1004), (8171, 1004))"
            ]
          },
          "metadata": {},
          "execution_count": 13
        }
      ]
    },
    {
      "cell_type": "markdown",
      "source": [
        "We then standardized our data "
      ],
      "metadata": {
        "id": "-pvlqXpBeC1R"
      }
    },
    {
      "cell_type": "markdown",
      "source": [
        "### **MODEL 1**"
      ],
      "metadata": {
        "id": "jSvxPWUk_pZR"
      }
    },
    {
      "cell_type": "code",
      "source": [
        "model1 = Sequential()\n",
        "\n",
        "model1.add(Dense(64, activation = 'relu',\n",
        "                input_shape = (1004,)))\n",
        "model1.add(Dense(32, activation = 'relu'))\n",
        "\n",
        "model1.add(Dense(1, activation = 'sigmoid'))\n",
        "\n",
        "model1.compile(loss = 'bce', optimizer = 'adam', metrics = ['accuracy'])\n",
        "\n",
        "\n",
        "res1 = model1.fit(X_train_sc, nn_y_train,\n",
        "                epochs = 100,\n",
        "                batch_size = 64,\n",
        "                validation_data = (X_test_sc, nn_y_test),\n",
        "                verbose = 1) "
      ],
      "metadata": {
        "colab": {
          "base_uri": "https://localhost:8080/"
        },
        "id": "JX6xNHNs9dI-",
        "outputId": "eb4e224e-8bbc-4fa8-add1-0498b5054847"
      },
      "execution_count": null,
      "outputs": [
        {
          "output_type": "stream",
          "name": "stdout",
          "text": [
            "Epoch 1/100\n",
            "383/383 [==============================] - 3s 5ms/step - loss: 0.7047 - accuracy: 0.5454 - val_loss: 1.3047 - val_accuracy: 0.5507\n",
            "Epoch 2/100\n",
            "383/383 [==============================] - 2s 4ms/step - loss: 0.6721 - accuracy: 0.5792 - val_loss: 1.5677 - val_accuracy: 0.5624\n",
            "Epoch 3/100\n",
            "383/383 [==============================] - 4s 9ms/step - loss: 0.6588 - accuracy: 0.5956 - val_loss: 1.4018 - val_accuracy: 0.5490\n",
            "Epoch 4/100\n",
            "383/383 [==============================] - 4s 9ms/step - loss: 0.6458 - accuracy: 0.6096 - val_loss: 1.7296 - val_accuracy: 0.5501\n",
            "Epoch 5/100\n",
            "383/383 [==============================] - 3s 9ms/step - loss: 0.6326 - accuracy: 0.6222 - val_loss: 2.3654 - val_accuracy: 0.5513\n",
            "Epoch 6/100\n",
            "383/383 [==============================] - 3s 8ms/step - loss: 0.6189 - accuracy: 0.6317 - val_loss: 2.8521 - val_accuracy: 0.5532\n",
            "Epoch 7/100\n",
            "383/383 [==============================] - 3s 8ms/step - loss: 0.6049 - accuracy: 0.6451 - val_loss: 2.9312 - val_accuracy: 0.5447\n",
            "Epoch 8/100\n",
            "383/383 [==============================] - 3s 7ms/step - loss: 0.5938 - accuracy: 0.6569 - val_loss: 3.8575 - val_accuracy: 0.5515\n",
            "Epoch 9/100\n",
            "383/383 [==============================] - 2s 5ms/step - loss: 0.5929 - accuracy: 0.6586 - val_loss: 4.3511 - val_accuracy: 0.5446\n",
            "Epoch 10/100\n",
            "383/383 [==============================] - 2s 6ms/step - loss: 0.5757 - accuracy: 0.6697 - val_loss: 4.4835 - val_accuracy: 0.5497\n",
            "Epoch 11/100\n",
            "383/383 [==============================] - 2s 4ms/step - loss: 0.5618 - accuracy: 0.6824 - val_loss: 5.7170 - val_accuracy: 0.5462\n",
            "Epoch 12/100\n",
            "383/383 [==============================] - 3s 7ms/step - loss: 0.5520 - accuracy: 0.6847 - val_loss: 5.8398 - val_accuracy: 0.5501\n",
            "Epoch 13/100\n",
            "383/383 [==============================] - 2s 4ms/step - loss: 0.5435 - accuracy: 0.6918 - val_loss: 6.4859 - val_accuracy: 0.5431\n",
            "Epoch 14/100\n",
            "383/383 [==============================] - 2s 4ms/step - loss: 0.5454 - accuracy: 0.6933 - val_loss: 6.1971 - val_accuracy: 0.5515\n",
            "Epoch 15/100\n",
            "383/383 [==============================] - 2s 4ms/step - loss: 0.5404 - accuracy: 0.6971 - val_loss: 7.9043 - val_accuracy: 0.5395\n",
            "Epoch 16/100\n",
            "383/383 [==============================] - 2s 6ms/step - loss: 0.5308 - accuracy: 0.7049 - val_loss: 7.8045 - val_accuracy: 0.5434\n",
            "Epoch 17/100\n",
            "383/383 [==============================] - 2s 4ms/step - loss: 0.5172 - accuracy: 0.7105 - val_loss: 8.1315 - val_accuracy: 0.5439\n",
            "Epoch 18/100\n",
            "383/383 [==============================] - 2s 5ms/step - loss: 0.5091 - accuracy: 0.7142 - val_loss: 8.6088 - val_accuracy: 0.5480\n",
            "Epoch 19/100\n",
            "383/383 [==============================] - 2s 4ms/step - loss: 0.5038 - accuracy: 0.7196 - val_loss: 9.3663 - val_accuracy: 0.5430\n",
            "Epoch 20/100\n",
            "383/383 [==============================] - 2s 4ms/step - loss: 0.4994 - accuracy: 0.7234 - val_loss: 9.6476 - val_accuracy: 0.5449\n",
            "Epoch 21/100\n",
            "383/383 [==============================] - 2s 5ms/step - loss: 0.4944 - accuracy: 0.7267 - val_loss: 10.0676 - val_accuracy: 0.5451\n",
            "Epoch 22/100\n",
            "383/383 [==============================] - 2s 4ms/step - loss: 0.4892 - accuracy: 0.7290 - val_loss: 10.6934 - val_accuracy: 0.5417\n",
            "Epoch 23/100\n",
            "383/383 [==============================] - 2s 4ms/step - loss: 0.4846 - accuracy: 0.7311 - val_loss: 11.0471 - val_accuracy: 0.5413\n",
            "Epoch 24/100\n",
            "383/383 [==============================] - 2s 4ms/step - loss: 0.4816 - accuracy: 0.7346 - val_loss: 11.7759 - val_accuracy: 0.5428\n",
            "Epoch 25/100\n",
            "383/383 [==============================] - 2s 4ms/step - loss: 0.4755 - accuracy: 0.7373 - val_loss: 11.8491 - val_accuracy: 0.5464\n",
            "Epoch 26/100\n",
            "383/383 [==============================] - 2s 4ms/step - loss: 0.4790 - accuracy: 0.7341 - val_loss: 11.3002 - val_accuracy: 0.5442\n",
            "Epoch 27/100\n",
            "383/383 [==============================] - 2s 4ms/step - loss: 0.4790 - accuracy: 0.7409 - val_loss: 12.5545 - val_accuracy: 0.5404\n",
            "Epoch 28/100\n",
            "383/383 [==============================] - 2s 4ms/step - loss: 0.4673 - accuracy: 0.7455 - val_loss: 11.2563 - val_accuracy: 0.5422\n",
            "Epoch 29/100\n",
            "383/383 [==============================] - 2s 4ms/step - loss: 0.4611 - accuracy: 0.7467 - val_loss: 12.3799 - val_accuracy: 0.5400\n",
            "Epoch 30/100\n",
            "383/383 [==============================] - 2s 4ms/step - loss: 0.4554 - accuracy: 0.7519 - val_loss: 12.3106 - val_accuracy: 0.5382\n",
            "Epoch 31/100\n",
            "383/383 [==============================] - 1s 4ms/step - loss: 0.4530 - accuracy: 0.7526 - val_loss: 12.0375 - val_accuracy: 0.5485\n",
            "Epoch 32/100\n",
            "383/383 [==============================] - 2s 4ms/step - loss: 0.4519 - accuracy: 0.7526 - val_loss: 12.3727 - val_accuracy: 0.5417\n",
            "Epoch 33/100\n",
            "383/383 [==============================] - 1s 4ms/step - loss: 0.4476 - accuracy: 0.7554 - val_loss: 13.0779 - val_accuracy: 0.5419\n",
            "Epoch 34/100\n",
            "383/383 [==============================] - 2s 4ms/step - loss: 0.4453 - accuracy: 0.7578 - val_loss: 13.2164 - val_accuracy: 0.5371\n",
            "Epoch 35/100\n",
            "383/383 [==============================] - 2s 4ms/step - loss: 0.4431 - accuracy: 0.7601 - val_loss: 13.3655 - val_accuracy: 0.5386\n",
            "Epoch 36/100\n",
            "383/383 [==============================] - 2s 4ms/step - loss: 0.4409 - accuracy: 0.7583 - val_loss: 13.4415 - val_accuracy: 0.5381\n",
            "Epoch 37/100\n",
            "383/383 [==============================] - 1s 4ms/step - loss: 0.4682 - accuracy: 0.7570 - val_loss: 15.0250 - val_accuracy: 0.5415\n",
            "Epoch 38/100\n",
            "383/383 [==============================] - 2s 4ms/step - loss: 0.4523 - accuracy: 0.7592 - val_loss: 14.5125 - val_accuracy: 0.5440\n",
            "Epoch 39/100\n",
            "383/383 [==============================] - 2s 4ms/step - loss: 0.4468 - accuracy: 0.7629 - val_loss: 21.4913 - val_accuracy: 0.5419\n",
            "Epoch 40/100\n",
            "383/383 [==============================] - 2s 4ms/step - loss: 0.4399 - accuracy: 0.7672 - val_loss: 18.8804 - val_accuracy: 0.5348\n",
            "Epoch 41/100\n",
            "383/383 [==============================] - 2s 4ms/step - loss: 0.4293 - accuracy: 0.7689 - val_loss: 18.2142 - val_accuracy: 0.5358\n",
            "Epoch 42/100\n",
            "383/383 [==============================] - 2s 4ms/step - loss: 0.4233 - accuracy: 0.7723 - val_loss: 18.0783 - val_accuracy: 0.5389\n",
            "Epoch 43/100\n",
            "383/383 [==============================] - 2s 4ms/step - loss: 0.4211 - accuracy: 0.7715 - val_loss: 18.9983 - val_accuracy: 0.5424\n",
            "Epoch 44/100\n",
            "383/383 [==============================] - 2s 4ms/step - loss: 0.4187 - accuracy: 0.7731 - val_loss: 19.4883 - val_accuracy: 0.5352\n",
            "Epoch 45/100\n",
            "383/383 [==============================] - 2s 5ms/step - loss: 0.4195 - accuracy: 0.7712 - val_loss: 19.9752 - val_accuracy: 0.5414\n",
            "Epoch 46/100\n",
            "383/383 [==============================] - 2s 5ms/step - loss: 0.4151 - accuracy: 0.7743 - val_loss: 20.0306 - val_accuracy: 0.5376\n",
            "Epoch 47/100\n",
            "383/383 [==============================] - 1s 4ms/step - loss: 0.4125 - accuracy: 0.7774 - val_loss: 19.4097 - val_accuracy: 0.5364\n",
            "Epoch 48/100\n",
            "383/383 [==============================] - 1s 4ms/step - loss: 0.4113 - accuracy: 0.7785 - val_loss: 20.3014 - val_accuracy: 0.5382\n",
            "Epoch 49/100\n",
            "383/383 [==============================] - 2s 4ms/step - loss: 0.4088 - accuracy: 0.7798 - val_loss: 20.1401 - val_accuracy: 0.5378\n",
            "Epoch 50/100\n",
            "383/383 [==============================] - 2s 4ms/step - loss: 0.4109 - accuracy: 0.7771 - val_loss: 19.6212 - val_accuracy: 0.5380\n",
            "Epoch 51/100\n",
            "383/383 [==============================] - 2s 4ms/step - loss: 0.4095 - accuracy: 0.7778 - val_loss: 21.6749 - val_accuracy: 0.5347\n",
            "Epoch 52/100\n",
            "383/383 [==============================] - 2s 4ms/step - loss: 0.4182 - accuracy: 0.7742 - val_loss: 21.3853 - val_accuracy: 0.5379\n",
            "Epoch 53/100\n",
            "383/383 [==============================] - 2s 5ms/step - loss: 0.4114 - accuracy: 0.7815 - val_loss: 21.8586 - val_accuracy: 0.5371\n",
            "Epoch 54/100\n",
            "383/383 [==============================] - 2s 5ms/step - loss: 0.4036 - accuracy: 0.7849 - val_loss: 21.5104 - val_accuracy: 0.5318\n",
            "Epoch 55/100\n",
            "383/383 [==============================] - 2s 5ms/step - loss: 0.3991 - accuracy: 0.7858 - val_loss: 23.0506 - val_accuracy: 0.5358\n",
            "Epoch 56/100\n",
            "383/383 [==============================] - 2s 6ms/step - loss: 0.3971 - accuracy: 0.7874 - val_loss: 23.4856 - val_accuracy: 0.5384\n",
            "Epoch 57/100\n",
            "383/383 [==============================] - 2s 5ms/step - loss: 0.3956 - accuracy: 0.7859 - val_loss: 23.9971 - val_accuracy: 0.5330\n",
            "Epoch 58/100\n",
            "383/383 [==============================] - 2s 5ms/step - loss: 0.4004 - accuracy: 0.7867 - val_loss: 22.6202 - val_accuracy: 0.5379\n",
            "Epoch 59/100\n",
            "383/383 [==============================] - 2s 4ms/step - loss: 0.4058 - accuracy: 0.7836 - val_loss: 21.2334 - val_accuracy: 0.5369\n",
            "Epoch 60/100\n",
            "383/383 [==============================] - 2s 5ms/step - loss: 0.3953 - accuracy: 0.7866 - val_loss: 23.3086 - val_accuracy: 0.5322\n",
            "Epoch 61/100\n",
            "383/383 [==============================] - 2s 4ms/step - loss: 0.3922 - accuracy: 0.7887 - val_loss: 22.2060 - val_accuracy: 0.5387\n",
            "Epoch 62/100\n",
            "383/383 [==============================] - 2s 4ms/step - loss: 0.3873 - accuracy: 0.7914 - val_loss: 23.1016 - val_accuracy: 0.5364\n",
            "Epoch 63/100\n",
            "383/383 [==============================] - 2s 6ms/step - loss: 0.3859 - accuracy: 0.7920 - val_loss: 23.5417 - val_accuracy: 0.5370\n",
            "Epoch 64/100\n",
            "383/383 [==============================] - 2s 4ms/step - loss: 0.3882 - accuracy: 0.7885 - val_loss: 25.2907 - val_accuracy: 0.5326\n",
            "Epoch 65/100\n",
            "383/383 [==============================] - 2s 4ms/step - loss: 0.3924 - accuracy: 0.7875 - val_loss: 22.9580 - val_accuracy: 0.5336\n",
            "Epoch 66/100\n",
            "383/383 [==============================] - 2s 5ms/step - loss: 0.3868 - accuracy: 0.7921 - val_loss: 24.4564 - val_accuracy: 0.5352\n",
            "Epoch 67/100\n",
            "383/383 [==============================] - 2s 5ms/step - loss: 0.3861 - accuracy: 0.7895 - val_loss: 23.1103 - val_accuracy: 0.5322\n",
            "Epoch 68/100\n",
            "383/383 [==============================] - 2s 4ms/step - loss: 0.3856 - accuracy: 0.7929 - val_loss: 21.5794 - val_accuracy: 0.5296\n",
            "Epoch 69/100\n",
            "383/383 [==============================] - 2s 4ms/step - loss: 0.3861 - accuracy: 0.7939 - val_loss: 20.1403 - val_accuracy: 0.5204\n",
            "Epoch 70/100\n",
            "383/383 [==============================] - 2s 4ms/step - loss: 0.3856 - accuracy: 0.7936 - val_loss: 23.9268 - val_accuracy: 0.5294\n",
            "Epoch 71/100\n",
            "383/383 [==============================] - 2s 4ms/step - loss: 0.3826 - accuracy: 0.7955 - val_loss: 22.2824 - val_accuracy: 0.5291\n",
            "Epoch 72/100\n",
            "383/383 [==============================] - 2s 4ms/step - loss: 0.3807 - accuracy: 0.7963 - val_loss: 20.0230 - val_accuracy: 0.5291\n",
            "Epoch 73/100\n",
            "383/383 [==============================] - 2s 4ms/step - loss: 0.3838 - accuracy: 0.7970 - val_loss: 20.0554 - val_accuracy: 0.5313\n",
            "Epoch 74/100\n",
            "383/383 [==============================] - 2s 5ms/step - loss: 0.3781 - accuracy: 0.7968 - val_loss: 21.3551 - val_accuracy: 0.5245\n",
            "Epoch 75/100\n",
            "383/383 [==============================] - 2s 5ms/step - loss: 0.3769 - accuracy: 0.7994 - val_loss: 22.8118 - val_accuracy: 0.5302\n",
            "Epoch 76/100\n",
            "383/383 [==============================] - 2s 4ms/step - loss: 0.3755 - accuracy: 0.7985 - val_loss: 23.1915 - val_accuracy: 0.5288\n",
            "Epoch 77/100\n",
            "383/383 [==============================] - 2s 4ms/step - loss: 0.3730 - accuracy: 0.8014 - val_loss: 21.7735 - val_accuracy: 0.5280\n",
            "Epoch 78/100\n",
            "383/383 [==============================] - 2s 5ms/step - loss: 0.3717 - accuracy: 0.8020 - val_loss: 22.3713 - val_accuracy: 0.5265\n",
            "Epoch 79/100\n",
            "383/383 [==============================] - 2s 5ms/step - loss: 0.3716 - accuracy: 0.7998 - val_loss: 22.8496 - val_accuracy: 0.5311\n",
            "Epoch 80/100\n",
            "383/383 [==============================] - 2s 4ms/step - loss: 0.3698 - accuracy: 0.8036 - val_loss: 24.1881 - val_accuracy: 0.5248\n",
            "Epoch 81/100\n",
            "383/383 [==============================] - 2s 5ms/step - loss: 0.3714 - accuracy: 0.8026 - val_loss: 20.5784 - val_accuracy: 0.5282\n",
            "Epoch 82/100\n",
            "383/383 [==============================] - 3s 7ms/step - loss: 0.3706 - accuracy: 0.8017 - val_loss: 22.3786 - val_accuracy: 0.5276\n",
            "Epoch 83/100\n",
            "383/383 [==============================] - 2s 5ms/step - loss: 0.3671 - accuracy: 0.8024 - val_loss: 22.9499 - val_accuracy: 0.5233\n",
            "Epoch 84/100\n",
            "383/383 [==============================] - 2s 4ms/step - loss: 0.3658 - accuracy: 0.8022 - val_loss: 22.0552 - val_accuracy: 0.5231\n",
            "Epoch 85/100\n",
            "383/383 [==============================] - 2s 4ms/step - loss: 0.3717 - accuracy: 0.8013 - val_loss: 25.4445 - val_accuracy: 0.5321\n",
            "Epoch 86/100\n",
            "383/383 [==============================] - 2s 5ms/step - loss: 0.4150 - accuracy: 0.7962 - val_loss: 27.3101 - val_accuracy: 0.5277\n",
            "Epoch 87/100\n",
            "383/383 [==============================] - 2s 5ms/step - loss: 0.4454 - accuracy: 0.8009 - val_loss: 34.1934 - val_accuracy: 0.5280\n",
            "Epoch 88/100\n",
            "383/383 [==============================] - 2s 5ms/step - loss: 0.3717 - accuracy: 0.8069 - val_loss: 33.4065 - val_accuracy: 0.5294\n",
            "Epoch 89/100\n",
            "383/383 [==============================] - 2s 5ms/step - loss: 0.3679 - accuracy: 0.8090 - val_loss: 34.1618 - val_accuracy: 0.5310\n",
            "Epoch 90/100\n",
            "383/383 [==============================] - 2s 5ms/step - loss: 0.3552 - accuracy: 0.8097 - val_loss: 33.9846 - val_accuracy: 0.5282\n",
            "Epoch 91/100\n",
            "383/383 [==============================] - 2s 5ms/step - loss: 0.3533 - accuracy: 0.8113 - val_loss: 34.8688 - val_accuracy: 0.5303\n",
            "Epoch 92/100\n",
            "383/383 [==============================] - 2s 4ms/step - loss: 0.3543 - accuracy: 0.8094 - val_loss: 31.8442 - val_accuracy: 0.5274\n",
            "Epoch 93/100\n",
            "383/383 [==============================] - 2s 4ms/step - loss: 0.3523 - accuracy: 0.8132 - val_loss: 33.0823 - val_accuracy: 0.5287\n",
            "Epoch 94/100\n",
            "383/383 [==============================] - 2s 4ms/step - loss: 0.3538 - accuracy: 0.8112 - val_loss: 31.2283 - val_accuracy: 0.5300\n",
            "Epoch 95/100\n",
            "383/383 [==============================] - 2s 5ms/step - loss: 0.3586 - accuracy: 0.8078 - val_loss: 34.6539 - val_accuracy: 0.5285\n",
            "Epoch 96/100\n",
            "383/383 [==============================] - 2s 5ms/step - loss: 0.3670 - accuracy: 0.8063 - val_loss: 30.7596 - val_accuracy: 0.5283\n",
            "Epoch 97/100\n",
            "383/383 [==============================] - 2s 5ms/step - loss: 0.3618 - accuracy: 0.8076 - val_loss: 30.3571 - val_accuracy: 0.5291\n",
            "Epoch 98/100\n",
            "383/383 [==============================] - 2s 4ms/step - loss: 0.3557 - accuracy: 0.8134 - val_loss: 29.1284 - val_accuracy: 0.5332\n",
            "Epoch 99/100\n",
            "383/383 [==============================] - 2s 5ms/step - loss: 0.3514 - accuracy: 0.8115 - val_loss: 29.1567 - val_accuracy: 0.5292\n",
            "Epoch 100/100\n",
            "383/383 [==============================] - 2s 5ms/step - loss: 0.3529 - accuracy: 0.8103 - val_loss: 28.4186 - val_accuracy: 0.5327\n"
          ]
        }
      ]
    },
    {
      "cell_type": "code",
      "source": [
        "print('Train Accuracy:')\n",
        "print(res1.history['accuracy'][-1])\n",
        "print('Test Accuracy:')\n",
        "print(res1.history['val_accuracy'][-1])"
      ],
      "metadata": {
        "colab": {
          "base_uri": "https://localhost:8080/"
        },
        "id": "csMa9UJOh7cA",
        "outputId": "59c9b8aa-1edf-41cb-d384-5b871bd682f1"
      },
      "execution_count": null,
      "outputs": [
        {
          "output_type": "stream",
          "name": "stdout",
          "text": [
            "Train Accuracy:\n",
            "0.8103223443031311\n",
            "Test Accuracy:\n",
            "0.5327377319335938\n"
          ]
        }
      ]
    },
    {
      "cell_type": "markdown",
      "source": [
        "Our first neural net model consisted of three dense layers, ending in a sigmoid activation for binary classification. We fit our model using an epoch size of 100 and a batch size of 64. Our model had a train accuracy of 0.81 and a test accuracy of 0.53, meaning that the model was very overfitted.\n",
        "\n"
      ],
      "metadata": {
        "id": "_IqPCRyyjTGu"
      }
    },
    {
      "cell_type": "markdown",
      "source": [
        "# Model 2 \n",
        "We added more layers to try to improve our model performance "
      ],
      "metadata": {
        "id": "OGWH_KO9eZgg"
      }
    },
    {
      "cell_type": "code",
      "source": [
        "model2 = Sequential()\n",
        "\n",
        "model2.add(Dense(64, activation = 'relu',\n",
        "                input_shape = (1004,)))\n",
        "model2.add(Dense(64, activation = 'relu'))\n",
        "model2.add(Dense(64, activation = 'relu'))\n",
        "model2.add(Dense(32, activation = 'relu'))\n",
        "model2.add(Dense(32, activation = 'relu'))\n",
        "\n",
        "model2.add(Dense(1, activation = 'sigmoid'))\n",
        "\n",
        "model2.compile(loss = 'bce', optimizer = 'adam', metrics = ['accuracy'])\n",
        "\n",
        "\n",
        "res2 = model2.fit(X_train_sc, nn_y_train,\n",
        "                epochs = 100,\n",
        "                batch_size = 64,\n",
        "                validation_data = (X_test_sc, nn_y_test),\n",
        "                verbose = 1) "
      ],
      "metadata": {
        "id": "CB-PP6hw9n3I",
        "colab": {
          "base_uri": "https://localhost:8080/"
        },
        "outputId": "6ed5e66e-9a47-4c02-8d5e-319cf908be4c"
      },
      "execution_count": null,
      "outputs": [
        {
          "output_type": "stream",
          "name": "stdout",
          "text": [
            "Epoch 1/100\n",
            "383/383 [==============================] - 3s 6ms/step - loss: 0.6881 - accuracy: 0.5443 - val_loss: 0.7244 - val_accuracy: 0.5616\n",
            "Epoch 2/100\n",
            "383/383 [==============================] - 2s 5ms/step - loss: 0.6808 - accuracy: 0.5657 - val_loss: 0.7772 - val_accuracy: 0.5495\n",
            "Epoch 3/100\n",
            "383/383 [==============================] - 2s 5ms/step - loss: 0.6742 - accuracy: 0.5726 - val_loss: 0.8689 - val_accuracy: 0.5564\n",
            "Epoch 4/100\n",
            "383/383 [==============================] - 2s 6ms/step - loss: 0.6629 - accuracy: 0.5916 - val_loss: 1.2576 - val_accuracy: 0.5429\n",
            "Epoch 5/100\n",
            "383/383 [==============================] - 2s 5ms/step - loss: 0.6476 - accuracy: 0.6077 - val_loss: 1.6027 - val_accuracy: 0.5604\n",
            "Epoch 6/100\n",
            "383/383 [==============================] - 2s 5ms/step - loss: 0.6341 - accuracy: 0.6205 - val_loss: 2.3725 - val_accuracy: 0.5534\n",
            "Epoch 7/100\n",
            "383/383 [==============================] - 2s 5ms/step - loss: 0.6112 - accuracy: 0.6369 - val_loss: 3.4823 - val_accuracy: 0.5531\n",
            "Epoch 8/100\n",
            "383/383 [==============================] - 2s 6ms/step - loss: 0.5932 - accuracy: 0.6516 - val_loss: 2.5987 - val_accuracy: 0.5600\n",
            "Epoch 9/100\n",
            "383/383 [==============================] - 2s 6ms/step - loss: 0.5787 - accuracy: 0.6595 - val_loss: 3.8807 - val_accuracy: 0.5520\n",
            "Epoch 10/100\n",
            "383/383 [==============================] - 2s 5ms/step - loss: 0.5638 - accuracy: 0.6718 - val_loss: 4.3164 - val_accuracy: 0.5441\n",
            "Epoch 11/100\n",
            "383/383 [==============================] - 2s 6ms/step - loss: 0.5534 - accuracy: 0.6823 - val_loss: 4.2299 - val_accuracy: 0.5505\n",
            "Epoch 12/100\n",
            "383/383 [==============================] - 2s 5ms/step - loss: 0.5376 - accuracy: 0.6881 - val_loss: 4.4086 - val_accuracy: 0.5427\n",
            "Epoch 13/100\n",
            "383/383 [==============================] - 2s 5ms/step - loss: 0.5263 - accuracy: 0.6958 - val_loss: 4.7337 - val_accuracy: 0.5391\n",
            "Epoch 14/100\n",
            "383/383 [==============================] - 2s 6ms/step - loss: 0.5235 - accuracy: 0.7019 - val_loss: 4.8957 - val_accuracy: 0.5396\n",
            "Epoch 15/100\n",
            "383/383 [==============================] - 2s 5ms/step - loss: 0.5227 - accuracy: 0.7065 - val_loss: 5.2135 - val_accuracy: 0.5356\n",
            "Epoch 16/100\n",
            "383/383 [==============================] - 2s 5ms/step - loss: 0.4953 - accuracy: 0.7165 - val_loss: 5.6407 - val_accuracy: 0.5402\n",
            "Epoch 17/100\n",
            "383/383 [==============================] - 2s 5ms/step - loss: 0.4877 - accuracy: 0.7216 - val_loss: 6.7604 - val_accuracy: 0.5379\n",
            "Epoch 18/100\n",
            "383/383 [==============================] - 2s 5ms/step - loss: 0.4852 - accuracy: 0.7275 - val_loss: 5.0209 - val_accuracy: 0.5385\n",
            "Epoch 19/100\n",
            "383/383 [==============================] - 2s 6ms/step - loss: 0.4743 - accuracy: 0.7308 - val_loss: 6.6764 - val_accuracy: 0.5398\n",
            "Epoch 20/100\n",
            "383/383 [==============================] - 2s 5ms/step - loss: 0.4677 - accuracy: 0.7355 - val_loss: 5.8557 - val_accuracy: 0.5414\n",
            "Epoch 21/100\n",
            "383/383 [==============================] - 2s 5ms/step - loss: 0.4624 - accuracy: 0.7421 - val_loss: 7.4167 - val_accuracy: 0.5397\n",
            "Epoch 22/100\n",
            "383/383 [==============================] - 2s 6ms/step - loss: 0.4568 - accuracy: 0.7453 - val_loss: 3.8488 - val_accuracy: 0.5474\n",
            "Epoch 23/100\n",
            "383/383 [==============================] - 2s 5ms/step - loss: 0.4502 - accuracy: 0.7488 - val_loss: 6.0336 - val_accuracy: 0.5382\n",
            "Epoch 24/100\n",
            "383/383 [==============================] - 2s 6ms/step - loss: 0.4365 - accuracy: 0.7536 - val_loss: 6.9795 - val_accuracy: 0.5417\n",
            "Epoch 25/100\n",
            "383/383 [==============================] - 2s 5ms/step - loss: 0.4285 - accuracy: 0.7581 - val_loss: 8.9141 - val_accuracy: 0.5337\n",
            "Epoch 26/100\n",
            "383/383 [==============================] - 2s 5ms/step - loss: 0.4301 - accuracy: 0.7600 - val_loss: 6.6136 - val_accuracy: 0.5390\n",
            "Epoch 27/100\n",
            "383/383 [==============================] - 2s 6ms/step - loss: 0.5207 - accuracy: 0.7462 - val_loss: 6.3216 - val_accuracy: 0.5369\n",
            "Epoch 28/100\n",
            "383/383 [==============================] - 2s 5ms/step - loss: 0.4426 - accuracy: 0.7572 - val_loss: 7.6857 - val_accuracy: 0.5382\n",
            "Epoch 29/100\n",
            "383/383 [==============================] - 2s 5ms/step - loss: 0.4164 - accuracy: 0.7664 - val_loss: 7.7179 - val_accuracy: 0.5380\n",
            "Epoch 30/100\n",
            "383/383 [==============================] - 2s 5ms/step - loss: 0.4093 - accuracy: 0.7701 - val_loss: 7.4009 - val_accuracy: 0.5340\n",
            "Epoch 31/100\n",
            "383/383 [==============================] - 2s 5ms/step - loss: 0.4107 - accuracy: 0.7709 - val_loss: 6.8056 - val_accuracy: 0.5371\n",
            "Epoch 32/100\n",
            "383/383 [==============================] - 2s 6ms/step - loss: 0.4018 - accuracy: 0.7768 - val_loss: 6.5296 - val_accuracy: 0.5327\n",
            "Epoch 33/100\n",
            "383/383 [==============================] - 2s 6ms/step - loss: 0.3968 - accuracy: 0.7796 - val_loss: 7.3732 - val_accuracy: 0.5315\n",
            "Epoch 34/100\n",
            "383/383 [==============================] - 2s 6ms/step - loss: 0.3991 - accuracy: 0.7767 - val_loss: 7.6253 - val_accuracy: 0.5375\n",
            "Epoch 35/100\n",
            "383/383 [==============================] - 2s 6ms/step - loss: 0.3942 - accuracy: 0.7838 - val_loss: 6.9910 - val_accuracy: 0.5380\n",
            "Epoch 36/100\n",
            "383/383 [==============================] - 3s 7ms/step - loss: 0.3823 - accuracy: 0.7847 - val_loss: 9.8669 - val_accuracy: 0.5389\n",
            "Epoch 37/100\n",
            "383/383 [==============================] - 2s 6ms/step - loss: 0.3909 - accuracy: 0.7816 - val_loss: 8.5554 - val_accuracy: 0.5354\n",
            "Epoch 38/100\n",
            "383/383 [==============================] - 2s 6ms/step - loss: 0.3836 - accuracy: 0.7854 - val_loss: 8.6971 - val_accuracy: 0.5338\n",
            "Epoch 39/100\n",
            "383/383 [==============================] - 2s 5ms/step - loss: 0.3834 - accuracy: 0.7858 - val_loss: 6.9828 - val_accuracy: 0.5382\n",
            "Epoch 40/100\n",
            "383/383 [==============================] - 2s 6ms/step - loss: 0.3766 - accuracy: 0.7916 - val_loss: 8.4847 - val_accuracy: 0.5440\n",
            "Epoch 41/100\n",
            "383/383 [==============================] - 2s 6ms/step - loss: 0.3790 - accuracy: 0.7898 - val_loss: 7.8372 - val_accuracy: 0.5333\n",
            "Epoch 42/100\n",
            "383/383 [==============================] - 2s 5ms/step - loss: 0.3688 - accuracy: 0.7952 - val_loss: 9.8705 - val_accuracy: 0.5391\n",
            "Epoch 43/100\n",
            "383/383 [==============================] - 2s 6ms/step - loss: 0.3701 - accuracy: 0.7947 - val_loss: 8.7247 - val_accuracy: 0.5406\n",
            "Epoch 44/100\n",
            "383/383 [==============================] - 2s 6ms/step - loss: 0.3655 - accuracy: 0.7969 - val_loss: 8.0545 - val_accuracy: 0.5370\n",
            "Epoch 45/100\n",
            "383/383 [==============================] - 2s 5ms/step - loss: 0.3634 - accuracy: 0.7984 - val_loss: 8.9672 - val_accuracy: 0.5411\n",
            "Epoch 46/100\n",
            "383/383 [==============================] - 2s 5ms/step - loss: 0.3644 - accuracy: 0.7987 - val_loss: 8.3071 - val_accuracy: 0.5313\n",
            "Epoch 47/100\n",
            "383/383 [==============================] - 2s 5ms/step - loss: 0.3546 - accuracy: 0.8044 - val_loss: 8.9910 - val_accuracy: 0.5347\n",
            "Epoch 48/100\n",
            "383/383 [==============================] - 2s 6ms/step - loss: 0.3584 - accuracy: 0.8004 - val_loss: 9.3369 - val_accuracy: 0.5245\n",
            "Epoch 49/100\n",
            "383/383 [==============================] - 2s 6ms/step - loss: 0.3568 - accuracy: 0.8028 - val_loss: 7.9158 - val_accuracy: 0.5336\n",
            "Epoch 50/100\n",
            "383/383 [==============================] - 2s 5ms/step - loss: 0.3499 - accuracy: 0.8064 - val_loss: 8.7357 - val_accuracy: 0.5351\n",
            "Epoch 51/100\n",
            "383/383 [==============================] - 2s 6ms/step - loss: 0.3508 - accuracy: 0.8062 - val_loss: 8.7253 - val_accuracy: 0.5308\n",
            "Epoch 52/100\n",
            "383/383 [==============================] - 2s 6ms/step - loss: 0.3519 - accuracy: 0.8067 - val_loss: 9.3862 - val_accuracy: 0.5333\n",
            "Epoch 53/100\n",
            "383/383 [==============================] - 2s 6ms/step - loss: 0.3531 - accuracy: 0.8057 - val_loss: 9.6117 - val_accuracy: 0.5391\n",
            "Epoch 54/100\n",
            "383/383 [==============================] - 2s 5ms/step - loss: 0.3403 - accuracy: 0.8103 - val_loss: 12.5728 - val_accuracy: 0.5386\n",
            "Epoch 55/100\n",
            "383/383 [==============================] - 2s 5ms/step - loss: 0.3429 - accuracy: 0.8094 - val_loss: 15.3051 - val_accuracy: 0.5404\n",
            "Epoch 56/100\n",
            "383/383 [==============================] - 2s 6ms/step - loss: 0.3444 - accuracy: 0.8093 - val_loss: 11.5395 - val_accuracy: 0.5364\n",
            "Epoch 57/100\n",
            "383/383 [==============================] - 2s 5ms/step - loss: 0.3560 - accuracy: 0.8094 - val_loss: 8.9977 - val_accuracy: 0.5353\n",
            "Epoch 58/100\n",
            "383/383 [==============================] - 2s 6ms/step - loss: 0.3367 - accuracy: 0.8148 - val_loss: 13.1336 - val_accuracy: 0.5321\n",
            "Epoch 59/100\n",
            "383/383 [==============================] - 2s 6ms/step - loss: 0.3308 - accuracy: 0.8164 - val_loss: 12.4731 - val_accuracy: 0.5300\n",
            "Epoch 60/100\n",
            "383/383 [==============================] - 2s 5ms/step - loss: 0.3323 - accuracy: 0.8163 - val_loss: 14.7160 - val_accuracy: 0.5320\n",
            "Epoch 61/100\n",
            "383/383 [==============================] - 2s 6ms/step - loss: 0.3263 - accuracy: 0.8200 - val_loss: 14.9356 - val_accuracy: 0.5333\n",
            "Epoch 62/100\n",
            "383/383 [==============================] - 2s 6ms/step - loss: 0.3294 - accuracy: 0.8186 - val_loss: 15.3795 - val_accuracy: 0.5367\n",
            "Epoch 63/100\n",
            "383/383 [==============================] - 2s 6ms/step - loss: 0.3334 - accuracy: 0.8159 - val_loss: 15.3603 - val_accuracy: 0.5341\n",
            "Epoch 64/100\n",
            "383/383 [==============================] - 2s 6ms/step - loss: 0.3309 - accuracy: 0.8171 - val_loss: 15.6759 - val_accuracy: 0.5370\n",
            "Epoch 65/100\n",
            "383/383 [==============================] - 2s 5ms/step - loss: 0.3252 - accuracy: 0.8211 - val_loss: 12.6343 - val_accuracy: 0.5318\n",
            "Epoch 66/100\n",
            "383/383 [==============================] - 2s 5ms/step - loss: 0.3268 - accuracy: 0.8202 - val_loss: 14.7812 - val_accuracy: 0.5433\n",
            "Epoch 67/100\n",
            "383/383 [==============================] - 2s 5ms/step - loss: 0.3210 - accuracy: 0.8223 - val_loss: 12.5987 - val_accuracy: 0.5349\n",
            "Epoch 68/100\n",
            "383/383 [==============================] - 2s 6ms/step - loss: 0.3177 - accuracy: 0.8234 - val_loss: 18.5268 - val_accuracy: 0.5379\n",
            "Epoch 69/100\n",
            "383/383 [==============================] - 2s 6ms/step - loss: 0.3230 - accuracy: 0.8233 - val_loss: 16.1607 - val_accuracy: 0.5375\n",
            "Epoch 70/100\n",
            "383/383 [==============================] - 2s 5ms/step - loss: 0.3342 - accuracy: 0.8219 - val_loss: 18.5754 - val_accuracy: 0.5356\n",
            "Epoch 71/100\n",
            "383/383 [==============================] - 2s 6ms/step - loss: 0.3374 - accuracy: 0.8233 - val_loss: 6.3215 - val_accuracy: 0.5352\n",
            "Epoch 72/100\n",
            "383/383 [==============================] - 2s 6ms/step - loss: 0.3389 - accuracy: 0.8214 - val_loss: 20.1792 - val_accuracy: 0.5325\n",
            "Epoch 73/100\n",
            "383/383 [==============================] - 2s 6ms/step - loss: 0.3064 - accuracy: 0.8304 - val_loss: 14.0753 - val_accuracy: 0.5386\n",
            "Epoch 74/100\n",
            "383/383 [==============================] - 2s 5ms/step - loss: 0.3057 - accuracy: 0.8298 - val_loss: 16.3949 - val_accuracy: 0.5321\n",
            "Epoch 75/100\n",
            "383/383 [==============================] - 2s 6ms/step - loss: 0.3121 - accuracy: 0.8277 - val_loss: 13.8370 - val_accuracy: 0.5335\n",
            "Epoch 76/100\n",
            "383/383 [==============================] - 2s 6ms/step - loss: 0.3099 - accuracy: 0.8286 - val_loss: 12.4071 - val_accuracy: 0.5337\n",
            "Epoch 77/100\n",
            "383/383 [==============================] - 2s 6ms/step - loss: 0.3084 - accuracy: 0.8282 - val_loss: 10.4787 - val_accuracy: 0.5395\n",
            "Epoch 78/100\n",
            "383/383 [==============================] - 2s 5ms/step - loss: 0.3028 - accuracy: 0.8323 - val_loss: 14.4003 - val_accuracy: 0.5370\n",
            "Epoch 79/100\n",
            "383/383 [==============================] - 2s 5ms/step - loss: 0.3070 - accuracy: 0.8286 - val_loss: 13.1655 - val_accuracy: 0.5335\n",
            "Epoch 80/100\n",
            "383/383 [==============================] - 2s 6ms/step - loss: 0.3037 - accuracy: 0.8322 - val_loss: 12.6098 - val_accuracy: 0.5304\n",
            "Epoch 81/100\n",
            "383/383 [==============================] - 2s 5ms/step - loss: 0.3054 - accuracy: 0.8336 - val_loss: 16.1375 - val_accuracy: 0.5358\n",
            "Epoch 82/100\n",
            "383/383 [==============================] - 2s 6ms/step - loss: 0.3053 - accuracy: 0.8322 - val_loss: 18.3785 - val_accuracy: 0.5293\n",
            "Epoch 83/100\n",
            "383/383 [==============================] - 2s 6ms/step - loss: 0.3074 - accuracy: 0.8308 - val_loss: 19.9717 - val_accuracy: 0.5391\n",
            "Epoch 84/100\n",
            "383/383 [==============================] - 2s 5ms/step - loss: 0.3582 - accuracy: 0.8191 - val_loss: 5.8686 - val_accuracy: 0.5247\n",
            "Epoch 85/100\n",
            "383/383 [==============================] - 2s 5ms/step - loss: 0.4157 - accuracy: 0.8118 - val_loss: 7.2745 - val_accuracy: 0.5307\n",
            "Epoch 86/100\n",
            "383/383 [==============================] - 2s 6ms/step - loss: 0.3039 - accuracy: 0.8338 - val_loss: 13.1061 - val_accuracy: 0.5319\n",
            "Epoch 87/100\n",
            "383/383 [==============================] - 2s 6ms/step - loss: 0.2785 - accuracy: 0.8442 - val_loss: 15.6274 - val_accuracy: 0.5319\n",
            "Epoch 88/100\n",
            "383/383 [==============================] - 2s 5ms/step - loss: 0.2786 - accuracy: 0.8441 - val_loss: 17.9991 - val_accuracy: 0.5343\n",
            "Epoch 89/100\n",
            "383/383 [==============================] - 2s 5ms/step - loss: 0.3014 - accuracy: 0.8369 - val_loss: 14.4892 - val_accuracy: 0.5354\n",
            "Epoch 90/100\n",
            "383/383 [==============================] - 2s 5ms/step - loss: 0.3111 - accuracy: 0.8326 - val_loss: 14.8942 - val_accuracy: 0.5330\n",
            "Epoch 91/100\n",
            "383/383 [==============================] - 2s 5ms/step - loss: 0.2933 - accuracy: 0.8381 - val_loss: 15.2413 - val_accuracy: 0.5240\n",
            "Epoch 92/100\n",
            "383/383 [==============================] - 2s 5ms/step - loss: 0.3173 - accuracy: 0.8309 - val_loss: 16.1514 - val_accuracy: 0.5332\n",
            "Epoch 93/100\n",
            "383/383 [==============================] - 2s 5ms/step - loss: 0.2872 - accuracy: 0.8404 - val_loss: 20.2475 - val_accuracy: 0.5348\n",
            "Epoch 94/100\n",
            "383/383 [==============================] - 2s 5ms/step - loss: 0.2867 - accuracy: 0.8403 - val_loss: 21.5441 - val_accuracy: 0.5340\n",
            "Epoch 95/100\n",
            "383/383 [==============================] - 2s 5ms/step - loss: 0.2921 - accuracy: 0.8388 - val_loss: 22.6220 - val_accuracy: 0.5327\n",
            "Epoch 96/100\n",
            "383/383 [==============================] - 2s 5ms/step - loss: 0.2935 - accuracy: 0.8388 - val_loss: 16.1126 - val_accuracy: 0.5286\n",
            "Epoch 97/100\n",
            "383/383 [==============================] - 2s 5ms/step - loss: 0.2917 - accuracy: 0.8404 - val_loss: 22.9814 - val_accuracy: 0.5353\n",
            "Epoch 98/100\n",
            "383/383 [==============================] - 3s 9ms/step - loss: 0.2933 - accuracy: 0.8387 - val_loss: 20.9301 - val_accuracy: 0.5245\n",
            "Epoch 99/100\n",
            "383/383 [==============================] - 2s 5ms/step - loss: 0.2817 - accuracy: 0.8437 - val_loss: 23.2480 - val_accuracy: 0.5370\n",
            "Epoch 100/100\n",
            "383/383 [==============================] - 2s 6ms/step - loss: 0.2825 - accuracy: 0.8438 - val_loss: 23.0868 - val_accuracy: 0.5363\n"
          ]
        }
      ]
    },
    {
      "cell_type": "code",
      "source": [
        "print('Train Accuracy:')\n",
        "print(res2.history['accuracy'][-1])\n",
        "print('Test Accuracy:')\n",
        "print(res2.history['val_accuracy'][-1])"
      ],
      "metadata": {
        "id": "wDv4cuakh4Er",
        "colab": {
          "base_uri": "https://localhost:8080/"
        },
        "outputId": "9776dcb8-e33b-4c7a-f25f-4830ad2511f6"
      },
      "execution_count": null,
      "outputs": [
        {
          "output_type": "stream",
          "name": "stdout",
          "text": [
            "Train Accuracy:\n",
            "0.8437780737876892\n",
            "Test Accuracy:\n",
            "0.5362868905067444\n"
          ]
        }
      ]
    },
    {
      "cell_type": "markdown",
      "source": [
        "Our second neural net model consisted of six dense layers, ending in a sigmoid activation for binary classification. We added these extra layers to try to improve the accuracy of the model by making it more complex. We fit our model using an epoch size of 100 and a batch size of 64. Our model had a train accuracy of 0.84 and a test accuracy of 0.54, meaning that the model was very overfitted. "
      ],
      "metadata": {
        "id": "Z56gwGSAj3Ul"
      }
    },
    {
      "cell_type": "markdown",
      "source": [
        "## Model 3"
      ],
      "metadata": {
        "id": "faN4q94ZZtoe"
      }
    },
    {
      "cell_type": "markdown",
      "source": [
        "We then tried regularize the model by adding early stopping, kernal regularizer, and dropout layers"
      ],
      "metadata": {
        "id": "27WrDRxIhG1Y"
      }
    },
    {
      "cell_type": "code",
      "source": [
        "# Build model using early stopping\n",
        "es = EarlyStopping(patience = 5)"
      ],
      "metadata": {
        "id": "nqlRsL2YZ4qu"
      },
      "execution_count": null,
      "outputs": []
    },
    {
      "cell_type": "code",
      "source": [
        "model3 = Sequential()\n",
        "\n",
        "model3.add(Dense(64, activation = 'relu',\n",
        "                input_shape = (1004,)))\n",
        "model3.add(Dense(64, activation = 'relu'))\n",
        "model3.add(Dense(32, activation = 'relu', kernel_regularizer = l2(0.005)))\n",
        "model3.add(Dropout(.5))\n",
        "model3.add(Dense(32, activation = 'relu', kernel_regularizer = l2(0.005)))\n",
        "model3.add(Dense(64, activation = 'relu'))\n",
        "model3.add(Dense(32, activation = 'relu'))\n",
        "model3.add(Dropout(.5))\n",
        "model3.add(Dense(32, activation = 'relu'))\n",
        "model3.add(Dense(32, activation = 'relu'))\n",
        "\n",
        "model3.add(Dense(1, activation = 'sigmoid'))\n",
        "\n",
        "model3.compile(loss = 'bce', optimizer = 'adam', metrics = ['accuracy'])\n",
        "\n",
        "\n",
        "res3 = model3.fit(X_train_sc, nn_y_train,\n",
        "                epochs = 100,\n",
        "                batch_size = 64,\n",
        "                validation_data = (X_test_sc, nn_y_test),\n",
        "                callbacks = [es],\n",
        "                verbose = 1) "
      ],
      "metadata": {
        "id": "8s_fivjr_1OA",
        "colab": {
          "base_uri": "https://localhost:8080/"
        },
        "outputId": "85a51ba4-a6bb-46ad-a590-9df723b5712b"
      },
      "execution_count": null,
      "outputs": [
        {
          "output_type": "stream",
          "name": "stdout",
          "text": [
            "Epoch 1/100\n",
            "383/383 [==============================] - 3s 6ms/step - loss: 0.7964 - accuracy: 0.5284 - val_loss: 0.7181 - val_accuracy: 0.5611\n",
            "Epoch 2/100\n",
            "383/383 [==============================] - 2s 6ms/step - loss: 0.6944 - accuracy: 0.5518 - val_loss: 0.7242 - val_accuracy: 0.5615\n",
            "Epoch 3/100\n",
            "383/383 [==============================] - 2s 6ms/step - loss: 0.6874 - accuracy: 0.5583 - val_loss: 0.7413 - val_accuracy: 0.5606\n",
            "Epoch 4/100\n",
            "383/383 [==============================] - 2s 6ms/step - loss: 0.6845 - accuracy: 0.5650 - val_loss: 0.7570 - val_accuracy: 0.5499\n",
            "Epoch 5/100\n",
            "383/383 [==============================] - 2s 6ms/step - loss: 0.6807 - accuracy: 0.5782 - val_loss: 0.7846 - val_accuracy: 0.5551\n",
            "Epoch 6/100\n",
            "383/383 [==============================] - 2s 6ms/step - loss: 0.6764 - accuracy: 0.5801 - val_loss: 1.0752 - val_accuracy: 0.5560\n"
          ]
        }
      ]
    },
    {
      "cell_type": "code",
      "source": [
        "print('Train Accuracy:')\n",
        "print(res3.history['accuracy'][-1])\n",
        "print('Test Accuracy:')\n",
        "print(res3.history['val_accuracy'][-1])"
      ],
      "metadata": {
        "id": "4BPuw0e2bNfu",
        "colab": {
          "base_uri": "https://localhost:8080/"
        },
        "outputId": "db643ceb-5141-4cb2-b451-97ae02a4cce0"
      },
      "execution_count": null,
      "outputs": [
        {
          "output_type": "stream",
          "name": "stdout",
          "text": [
            "Train Accuracy:\n",
            "0.5801305770874023\n",
            "Test Accuracy:\n",
            "0.5559906959533691\n"
          ]
        }
      ]
    },
    {
      "cell_type": "markdown",
      "source": [
        "Code for neural net models adapted from General Assembly Data Science Immersive Lessons 9.02 and 9.04"
      ],
      "metadata": {
        "id": "70oQ0o9fWrcH"
      }
    },
    {
      "cell_type": "markdown",
      "source": [
        "Our third neural net model consisted of nine dense layers, ending in a sigmoid activation for binary classification. We added these extra layers to try to improve the accuracy of the model by making it more complex. We also tried to address the overfitting of our first models by using regularization techniques such as dropout layers, kernel regularizers, and early stopping.\n",
        "We fit our model using an epoch size of 100 and a batch size of 64. Our model had a train accuracy of 0.58 and a test accuracy of 0.56. This model did not have as much variance bias as the first two models but is still performing barely above baseline accuracy. Because some of our other models that weren't neural networks were performing substantially better than these models, we decided that neural networks may not be the best fit for our data. "
      ],
      "metadata": {
        "id": "L31tgPJJkMa3"
      }
    },
    {
      "cell_type": "code",
      "source": [],
      "metadata": {
        "id": "fNEyhS3ZWqfI"
      },
      "execution_count": null,
      "outputs": []
    }
  ]
}