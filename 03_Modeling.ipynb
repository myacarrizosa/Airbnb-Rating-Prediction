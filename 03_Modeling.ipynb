{
 "cells": [
  {
   "cell_type": "markdown",
   "id": "03e00e08-7cdf-41ed-a8bb-932fd4f5484d",
   "metadata": {},
   "source": [
    "# Modeling"
   ]
  },
  {
   "cell_type": "code",
   "execution_count": 137,
   "id": "9c6bb349-f0e5-4301-bfc4-521dbf220dd9",
   "metadata": {},
   "outputs": [],
   "source": [
    "import pandas as pd\n",
    "import numpy as np \n",
    "import matplotlib.pyplot as plt\n",
    "\n",
    "from sklearn.model_selection import GridSearchCV\n",
    "from sklearn.preprocessing import StandardScaler\n",
    "from sklearn.pipeline import Pipeline\n",
    "from sklearn.feature_extraction.text import CountVectorizer\n",
    "\n",
    "from sklearn.linear_model import LogisticRegression\n",
    "from sklearn.tree import DecisionTreeClassifier\n",
    "from sklearn.ensemble import AdaBoostClassifier, GradientBoostingClassifier, BaggingClassifier, RandomForestClassifier\n",
    "from sklearn.neighbors import KNeighborsClassifier\n",
    "\n",
    "\n",
    "from sklearn.metrics import confusion_matrix, ConfusionMatrixDisplay\n",
    "from statsmodels.stats.outliers_influence import variance_inflation_factor\n",
    "\n",
    "import random\n",
    "random.seed(222)"
   ]
  },
  {
   "cell_type": "code",
   "execution_count": 120,
   "id": "4cfd27ba-6e94-450f-bebc-524aefac7a1a",
   "metadata": {},
   "outputs": [],
   "source": [
    "X_train_l = pd.read_csv('./data/listings_Xtrain.csv', index_col='Unnamed: 0')\n",
    "X_test_l = pd.read_csv('./data/listings_Xtest.csv', index_col='Unnamed: 0')\n",
    "\n",
    "X_train_r = pd.read_csv('./data/X_train_r.csv', index_col='Unnamed: 0')\n",
    "X_test_r = pd.read_csv('./data/X_test_r.csv', index_col='Unnamed: 0')\n",
    "\n",
    "\n",
    "y_train_r = pd.read_csv('./data/y_train_r.csv', index_col='Unnamed: 0')\n",
    "y_test_r = pd.read_csv('./data/y_test_r.csv', index_col='Unnamed: 0')"
   ]
  },
  {
   "cell_type": "code",
   "execution_count": null,
   "id": "d4d20958-22a9-4149-a453-644f0f594de4",
   "metadata": {},
   "outputs": [],
   "source": []
  },
  {
   "cell_type": "code",
   "execution_count": 122,
   "id": "96d66bf4-3fe1-4a52-bcfb-f8b7fa299784",
   "metadata": {},
   "outputs": [],
   "source": [
    "r_X_train =  X_train_r['lem_comments']\n",
    "r_X_test = X_test_r['lem_comments']\n",
    "\n",
    "r_y_train = y_train_r['type']\n",
    "r_y_test = y_test_r['type']"
   ]
  },
  {
   "cell_type": "markdown",
   "id": "0ff670f0-efe9-49f2-8df6-8e04cd961bb3",
   "metadata": {},
   "source": [
    "# Listings Classification Modeling"
   ]
  },
  {
   "cell_type": "markdown",
   "id": "6917f12e-f738-408b-a318-bff05a76f5f2",
   "metadata": {},
   "source": [
    "## Logistic Regression"
   ]
  },
  {
   "cell_type": "code",
   "execution_count": 102,
   "id": "a261e4bb-e726-4a01-855a-583c9532e708",
   "metadata": {},
   "outputs": [
    {
     "ename": "NameError",
     "evalue": "name 'y_train_l' is not defined",
     "output_type": "error",
     "traceback": [
      "\u001b[0;31m---------------------------------------------------------------------------\u001b[0m",
      "\u001b[0;31mNameError\u001b[0m                                 Traceback (most recent call last)",
      "Input \u001b[0;32mIn [102]\u001b[0m, in \u001b[0;36m<cell line: 1>\u001b[0;34m()\u001b[0m\n\u001b[0;32m----> 1\u001b[0m \u001b[43my_train_l\u001b[49m\u001b[38;5;241m.\u001b[39mshape\n",
      "\u001b[0;31mNameError\u001b[0m: name 'y_train_l' is not defined"
     ]
    }
   ],
   "source": [
    "y_train_l.shape"
   ]
  },
  {
   "cell_type": "code",
   "execution_count": 3,
   "id": "5d5a60af-7712-4d1c-b141-71ef5f5d8a84",
   "metadata": {},
   "outputs": [],
   "source": [
    "lr = LinearRegression()"
   ]
  },
  {
   "cell_type": "code",
   "execution_count": 29,
   "id": "43b940a8-199b-465e-8717-d8ec048b49ed",
   "metadata": {},
   "outputs": [
    {
     "data": {
      "text/html": [
       "<style>#sk-container-id-3 {color: black;background-color: white;}#sk-container-id-3 pre{padding: 0;}#sk-container-id-3 div.sk-toggleable {background-color: white;}#sk-container-id-3 label.sk-toggleable__label {cursor: pointer;display: block;width: 100%;margin-bottom: 0;padding: 0.3em;box-sizing: border-box;text-align: center;}#sk-container-id-3 label.sk-toggleable__label-arrow:before {content: \"▸\";float: left;margin-right: 0.25em;color: #696969;}#sk-container-id-3 label.sk-toggleable__label-arrow:hover:before {color: black;}#sk-container-id-3 div.sk-estimator:hover label.sk-toggleable__label-arrow:before {color: black;}#sk-container-id-3 div.sk-toggleable__content {max-height: 0;max-width: 0;overflow: hidden;text-align: left;background-color: #f0f8ff;}#sk-container-id-3 div.sk-toggleable__content pre {margin: 0.2em;color: black;border-radius: 0.25em;background-color: #f0f8ff;}#sk-container-id-3 input.sk-toggleable__control:checked~div.sk-toggleable__content {max-height: 200px;max-width: 100%;overflow: auto;}#sk-container-id-3 input.sk-toggleable__control:checked~label.sk-toggleable__label-arrow:before {content: \"▾\";}#sk-container-id-3 div.sk-estimator input.sk-toggleable__control:checked~label.sk-toggleable__label {background-color: #d4ebff;}#sk-container-id-3 div.sk-label input.sk-toggleable__control:checked~label.sk-toggleable__label {background-color: #d4ebff;}#sk-container-id-3 input.sk-hidden--visually {border: 0;clip: rect(1px 1px 1px 1px);clip: rect(1px, 1px, 1px, 1px);height: 1px;margin: -1px;overflow: hidden;padding: 0;position: absolute;width: 1px;}#sk-container-id-3 div.sk-estimator {font-family: monospace;background-color: #f0f8ff;border: 1px dotted black;border-radius: 0.25em;box-sizing: border-box;margin-bottom: 0.5em;}#sk-container-id-3 div.sk-estimator:hover {background-color: #d4ebff;}#sk-container-id-3 div.sk-parallel-item::after {content: \"\";width: 100%;border-bottom: 1px solid gray;flex-grow: 1;}#sk-container-id-3 div.sk-label:hover label.sk-toggleable__label {background-color: #d4ebff;}#sk-container-id-3 div.sk-serial::before {content: \"\";position: absolute;border-left: 1px solid gray;box-sizing: border-box;top: 0;bottom: 0;left: 50%;z-index: 0;}#sk-container-id-3 div.sk-serial {display: flex;flex-direction: column;align-items: center;background-color: white;padding-right: 0.2em;padding-left: 0.2em;position: relative;}#sk-container-id-3 div.sk-item {position: relative;z-index: 1;}#sk-container-id-3 div.sk-parallel {display: flex;align-items: stretch;justify-content: center;background-color: white;position: relative;}#sk-container-id-3 div.sk-item::before, #sk-container-id-3 div.sk-parallel-item::before {content: \"\";position: absolute;border-left: 1px solid gray;box-sizing: border-box;top: 0;bottom: 0;left: 50%;z-index: -1;}#sk-container-id-3 div.sk-parallel-item {display: flex;flex-direction: column;z-index: 1;position: relative;background-color: white;}#sk-container-id-3 div.sk-parallel-item:first-child::after {align-self: flex-end;width: 50%;}#sk-container-id-3 div.sk-parallel-item:last-child::after {align-self: flex-start;width: 50%;}#sk-container-id-3 div.sk-parallel-item:only-child::after {width: 0;}#sk-container-id-3 div.sk-dashed-wrapped {border: 1px dashed gray;margin: 0 0.4em 0.5em 0.4em;box-sizing: border-box;padding-bottom: 0.4em;background-color: white;}#sk-container-id-3 div.sk-label label {font-family: monospace;font-weight: bold;display: inline-block;line-height: 1.2em;}#sk-container-id-3 div.sk-label-container {text-align: center;}#sk-container-id-3 div.sk-container {/* jupyter's `normalize.less` sets `[hidden] { display: none; }` but bootstrap.min.css set `[hidden] { display: none !important; }` so we also need the `!important` here to be able to override the default hidden behavior on the sphinx rendered scikit-learn.org. See: https://github.com/scikit-learn/scikit-learn/issues/21755 */display: inline-block !important;position: relative;}#sk-container-id-3 div.sk-text-repr-fallback {display: none;}</style><div id=\"sk-container-id-3\" class=\"sk-top-container\"><div class=\"sk-text-repr-fallback\"><pre>LinearRegression()</pre><b>In a Jupyter environment, please rerun this cell to show the HTML representation or trust the notebook. <br />On GitHub, the HTML representation is unable to render, please try loading this page with nbviewer.org.</b></div><div class=\"sk-container\" hidden><div class=\"sk-item\"><div class=\"sk-estimator sk-toggleable\"><input class=\"sk-toggleable__control sk-hidden--visually\" id=\"sk-estimator-id-3\" type=\"checkbox\" checked><label for=\"sk-estimator-id-3\" class=\"sk-toggleable__label sk-toggleable__label-arrow\">LinearRegression</label><div class=\"sk-toggleable__content\"><pre>LinearRegression()</pre></div></div></div></div></div>"
      ],
      "text/plain": [
       "LinearRegression()"
      ]
     },
     "execution_count": 29,
     "metadata": {},
     "output_type": "execute_result"
    }
   ],
   "source": [
    "lr.fit(X_train_l, y_train)"
   ]
  },
  {
   "cell_type": "code",
   "execution_count": 30,
   "id": "8bfc9967-1cfe-4058-b1af-b514b0c00380",
   "metadata": {},
   "outputs": [
    {
     "data": {
      "text/plain": [
       "0.07829814051081252"
      ]
     },
     "execution_count": 30,
     "metadata": {},
     "output_type": "execute_result"
    }
   ],
   "source": [
    "lr.score(X_train_l, y_train)"
   ]
  },
  {
   "cell_type": "code",
   "execution_count": 31,
   "id": "1236382f-93ca-4a15-b228-cbe00ca92664",
   "metadata": {},
   "outputs": [
    {
     "data": {
      "text/plain": [
       "-0.04302994494945511"
      ]
     },
     "execution_count": 31,
     "metadata": {},
     "output_type": "execute_result"
    }
   ],
   "source": [
    "lr.score(X_test_l, y_test)"
   ]
  },
  {
   "cell_type": "markdown",
   "id": "f530cb8e-53e9-4e32-9874-dff8ac023a3d",
   "metadata": {},
   "source": [
    "## K Neighbors Classifier"
   ]
  },
  {
   "cell_type": "code",
   "execution_count": null,
   "id": "d1c71675-d7ab-4d4b-bdef-0b83d33c8571",
   "metadata": {},
   "outputs": [],
   "source": []
  },
  {
   "cell_type": "markdown",
   "id": "5ac9a101-944a-43d3-98dc-21df00e40ca2",
   "metadata": {},
   "source": [
    "## Decision Tree Classifier"
   ]
  },
  {
   "cell_type": "code",
   "execution_count": null,
   "id": "f0c880ff-0053-4fa3-b489-a0d74a44e3a0",
   "metadata": {},
   "outputs": [],
   "source": []
  },
  {
   "cell_type": "markdown",
   "id": "40e16206-ebfa-4893-9052-bf21dd315d87",
   "metadata": {},
   "source": [
    "## Random Forests Classifier"
   ]
  },
  {
   "cell_type": "code",
   "execution_count": null,
   "id": "045d4ff1-67ce-4723-8e7d-81ded8917fc5",
   "metadata": {},
   "outputs": [],
   "source": []
  },
  {
   "cell_type": "markdown",
   "id": "38dd2438-c5f0-475a-aea3-56ccb3394d5b",
   "metadata": {},
   "source": [
    "## AdaBoost Classifier"
   ]
  },
  {
   "cell_type": "code",
   "execution_count": null,
   "id": "1fe14151-8503-4a16-97f4-d165acc7e3e4",
   "metadata": {},
   "outputs": [],
   "source": []
  },
  {
   "cell_type": "markdown",
   "id": "061e15cf-f130-40d0-b3f7-0bba7874a3af",
   "metadata": {},
   "source": [
    "## GradientBoost Classifier"
   ]
  },
  {
   "cell_type": "code",
   "execution_count": null,
   "id": "e4043ab4-62d2-4416-ba72-33edb61ea6e2",
   "metadata": {},
   "outputs": [],
   "source": []
  },
  {
   "cell_type": "markdown",
   "id": "18db9b5a-4855-4c32-9237-fce9301e4f9a",
   "metadata": {},
   "source": [
    "## Bagging Classifier"
   ]
  },
  {
   "cell_type": "code",
   "execution_count": null,
   "id": "8f56bd53-bbc8-4ffe-bc38-861f15467880",
   "metadata": {},
   "outputs": [],
   "source": []
  },
  {
   "cell_type": "code",
   "execution_count": null,
   "id": "bc2a2954-0c55-4a8f-86a6-6b0ab051277c",
   "metadata": {},
   "outputs": [],
   "source": []
  },
  {
   "cell_type": "code",
   "execution_count": null,
   "id": "92f60e48-ce2d-45ee-9f77-888771216e54",
   "metadata": {},
   "outputs": [],
   "source": []
  },
  {
   "cell_type": "code",
   "execution_count": null,
   "id": "96f8c63e-2c05-4370-a238-595e70464bf1",
   "metadata": {},
   "outputs": [],
   "source": []
  },
  {
   "cell_type": "code",
   "execution_count": null,
   "id": "e9d43001-fb6a-42af-87b7-daddfb3f23b7",
   "metadata": {},
   "outputs": [],
   "source": []
  },
  {
   "cell_type": "markdown",
   "id": "ade4ad74-ee66-43be-81f6-63148903ffaa",
   "metadata": {},
   "source": [
    "# Reviews Classification Modeling"
   ]
  },
  {
   "cell_type": "markdown",
   "id": "4117fd4e-db5a-446e-a93a-30dac20c85e7",
   "metadata": {},
   "source": [
    "## Logistic Regression"
   ]
  },
  {
   "cell_type": "code",
   "execution_count": 129,
   "id": "77e1a821-1ebd-4595-b746-5215bd7e2509",
   "metadata": {},
   "outputs": [
    {
     "name": "stderr",
     "output_type": "stream",
     "text": [
      "/Users/myacarrizosa/opt/anaconda3/lib/python3.9/site-packages/joblib/externals/loky/process_executor.py:702: UserWarning: A worker stopped while some jobs were given to the executor. This can be caused by a too short worker timeout or by a memory leak.\n",
      "  warnings.warn(\n"
     ]
    },
    {
     "data": {
      "text/html": [
       "<style>#sk-container-id-6 {color: black;background-color: white;}#sk-container-id-6 pre{padding: 0;}#sk-container-id-6 div.sk-toggleable {background-color: white;}#sk-container-id-6 label.sk-toggleable__label {cursor: pointer;display: block;width: 100%;margin-bottom: 0;padding: 0.3em;box-sizing: border-box;text-align: center;}#sk-container-id-6 label.sk-toggleable__label-arrow:before {content: \"▸\";float: left;margin-right: 0.25em;color: #696969;}#sk-container-id-6 label.sk-toggleable__label-arrow:hover:before {color: black;}#sk-container-id-6 div.sk-estimator:hover label.sk-toggleable__label-arrow:before {color: black;}#sk-container-id-6 div.sk-toggleable__content {max-height: 0;max-width: 0;overflow: hidden;text-align: left;background-color: #f0f8ff;}#sk-container-id-6 div.sk-toggleable__content pre {margin: 0.2em;color: black;border-radius: 0.25em;background-color: #f0f8ff;}#sk-container-id-6 input.sk-toggleable__control:checked~div.sk-toggleable__content {max-height: 200px;max-width: 100%;overflow: auto;}#sk-container-id-6 input.sk-toggleable__control:checked~label.sk-toggleable__label-arrow:before {content: \"▾\";}#sk-container-id-6 div.sk-estimator input.sk-toggleable__control:checked~label.sk-toggleable__label {background-color: #d4ebff;}#sk-container-id-6 div.sk-label input.sk-toggleable__control:checked~label.sk-toggleable__label {background-color: #d4ebff;}#sk-container-id-6 input.sk-hidden--visually {border: 0;clip: rect(1px 1px 1px 1px);clip: rect(1px, 1px, 1px, 1px);height: 1px;margin: -1px;overflow: hidden;padding: 0;position: absolute;width: 1px;}#sk-container-id-6 div.sk-estimator {font-family: monospace;background-color: #f0f8ff;border: 1px dotted black;border-radius: 0.25em;box-sizing: border-box;margin-bottom: 0.5em;}#sk-container-id-6 div.sk-estimator:hover {background-color: #d4ebff;}#sk-container-id-6 div.sk-parallel-item::after {content: \"\";width: 100%;border-bottom: 1px solid gray;flex-grow: 1;}#sk-container-id-6 div.sk-label:hover label.sk-toggleable__label {background-color: #d4ebff;}#sk-container-id-6 div.sk-serial::before {content: \"\";position: absolute;border-left: 1px solid gray;box-sizing: border-box;top: 0;bottom: 0;left: 50%;z-index: 0;}#sk-container-id-6 div.sk-serial {display: flex;flex-direction: column;align-items: center;background-color: white;padding-right: 0.2em;padding-left: 0.2em;position: relative;}#sk-container-id-6 div.sk-item {position: relative;z-index: 1;}#sk-container-id-6 div.sk-parallel {display: flex;align-items: stretch;justify-content: center;background-color: white;position: relative;}#sk-container-id-6 div.sk-item::before, #sk-container-id-6 div.sk-parallel-item::before {content: \"\";position: absolute;border-left: 1px solid gray;box-sizing: border-box;top: 0;bottom: 0;left: 50%;z-index: -1;}#sk-container-id-6 div.sk-parallel-item {display: flex;flex-direction: column;z-index: 1;position: relative;background-color: white;}#sk-container-id-6 div.sk-parallel-item:first-child::after {align-self: flex-end;width: 50%;}#sk-container-id-6 div.sk-parallel-item:last-child::after {align-self: flex-start;width: 50%;}#sk-container-id-6 div.sk-parallel-item:only-child::after {width: 0;}#sk-container-id-6 div.sk-dashed-wrapped {border: 1px dashed gray;margin: 0 0.4em 0.5em 0.4em;box-sizing: border-box;padding-bottom: 0.4em;background-color: white;}#sk-container-id-6 div.sk-label label {font-family: monospace;font-weight: bold;display: inline-block;line-height: 1.2em;}#sk-container-id-6 div.sk-label-container {text-align: center;}#sk-container-id-6 div.sk-container {/* jupyter's `normalize.less` sets `[hidden] { display: none; }` but bootstrap.min.css set `[hidden] { display: none !important; }` so we also need the `!important` here to be able to override the default hidden behavior on the sphinx rendered scikit-learn.org. See: https://github.com/scikit-learn/scikit-learn/issues/21755 */display: inline-block !important;position: relative;}#sk-container-id-6 div.sk-text-repr-fallback {display: none;}</style><div id=\"sk-container-id-6\" class=\"sk-top-container\"><div class=\"sk-text-repr-fallback\"><pre>GridSearchCV(estimator=Pipeline(steps=[(&#x27;cvec&#x27;, CountVectorizer()),\n",
       "                                       (&#x27;logreg&#x27;,\n",
       "                                        LogisticRegression(max_iter=1000,\n",
       "                                                           random_state=222))]),\n",
       "             n_jobs=-1,\n",
       "             param_grid={&#x27;cvec__max_df&#x27;: [0.9, 1.0],\n",
       "                         &#x27;cvec__ngram_range&#x27;: [(1, 1), (1, 2)],\n",
       "                         &#x27;cvec__stop_words&#x27;: [&#x27;english&#x27;, None],\n",
       "                         &#x27;logreg__solver&#x27;: [&#x27;lbfgs&#x27;, &#x27;liblinear&#x27;]})</pre><b>In a Jupyter environment, please rerun this cell to show the HTML representation or trust the notebook. <br />On GitHub, the HTML representation is unable to render, please try loading this page with nbviewer.org.</b></div><div class=\"sk-container\" hidden><div class=\"sk-item sk-dashed-wrapped\"><div class=\"sk-label-container\"><div class=\"sk-label sk-toggleable\"><input class=\"sk-toggleable__control sk-hidden--visually\" id=\"sk-estimator-id-12\" type=\"checkbox\" ><label for=\"sk-estimator-id-12\" class=\"sk-toggleable__label sk-toggleable__label-arrow\">GridSearchCV</label><div class=\"sk-toggleable__content\"><pre>GridSearchCV(estimator=Pipeline(steps=[(&#x27;cvec&#x27;, CountVectorizer()),\n",
       "                                       (&#x27;logreg&#x27;,\n",
       "                                        LogisticRegression(max_iter=1000,\n",
       "                                                           random_state=222))]),\n",
       "             n_jobs=-1,\n",
       "             param_grid={&#x27;cvec__max_df&#x27;: [0.9, 1.0],\n",
       "                         &#x27;cvec__ngram_range&#x27;: [(1, 1), (1, 2)],\n",
       "                         &#x27;cvec__stop_words&#x27;: [&#x27;english&#x27;, None],\n",
       "                         &#x27;logreg__solver&#x27;: [&#x27;lbfgs&#x27;, &#x27;liblinear&#x27;]})</pre></div></div></div><div class=\"sk-parallel\"><div class=\"sk-parallel-item\"><div class=\"sk-item\"><div class=\"sk-label-container\"><div class=\"sk-label sk-toggleable\"><input class=\"sk-toggleable__control sk-hidden--visually\" id=\"sk-estimator-id-13\" type=\"checkbox\" ><label for=\"sk-estimator-id-13\" class=\"sk-toggleable__label sk-toggleable__label-arrow\">estimator: Pipeline</label><div class=\"sk-toggleable__content\"><pre>Pipeline(steps=[(&#x27;cvec&#x27;, CountVectorizer()),\n",
       "                (&#x27;logreg&#x27;,\n",
       "                 LogisticRegression(max_iter=1000, random_state=222))])</pre></div></div></div><div class=\"sk-serial\"><div class=\"sk-item\"><div class=\"sk-serial\"><div class=\"sk-item\"><div class=\"sk-estimator sk-toggleable\"><input class=\"sk-toggleable__control sk-hidden--visually\" id=\"sk-estimator-id-14\" type=\"checkbox\" ><label for=\"sk-estimator-id-14\" class=\"sk-toggleable__label sk-toggleable__label-arrow\">CountVectorizer</label><div class=\"sk-toggleable__content\"><pre>CountVectorizer()</pre></div></div></div><div class=\"sk-item\"><div class=\"sk-estimator sk-toggleable\"><input class=\"sk-toggleable__control sk-hidden--visually\" id=\"sk-estimator-id-15\" type=\"checkbox\" ><label for=\"sk-estimator-id-15\" class=\"sk-toggleable__label sk-toggleable__label-arrow\">LogisticRegression</label><div class=\"sk-toggleable__content\"><pre>LogisticRegression(max_iter=1000, random_state=222)</pre></div></div></div></div></div></div></div></div></div></div></div></div>"
      ],
      "text/plain": [
       "GridSearchCV(estimator=Pipeline(steps=[('cvec', CountVectorizer()),\n",
       "                                       ('logreg',\n",
       "                                        LogisticRegression(max_iter=1000,\n",
       "                                                           random_state=222))]),\n",
       "             n_jobs=-1,\n",
       "             param_grid={'cvec__max_df': [0.9, 1.0],\n",
       "                         'cvec__ngram_range': [(1, 1), (1, 2)],\n",
       "                         'cvec__stop_words': ['english', None],\n",
       "                         'logreg__solver': ['lbfgs', 'liblinear']})"
      ]
     },
     "execution_count": 129,
     "metadata": {},
     "output_type": "execute_result"
    }
   ],
   "source": [
    "pipe_cvec_logreg = Pipeline([\n",
    "    ('cvec', CountVectorizer()),\n",
    "    ('logreg', LogisticRegression(random_state = 222, max_iter=1000))\n",
    "])\n",
    "\n",
    "pipe_cvec_logreg_params = {\n",
    "    'cvec__stop_words': ['english', None],\n",
    "    'cvec__ngram_range': [(1,1), (1,2)],\n",
    "    'cvec__max_df': [0.9, 1.0], \n",
    "    'logreg__solver': ['lbfgs', 'liblinear']\n",
    "}\n",
    "\n",
    "gs_cvec_logreg = GridSearchCV(pipe_cvec_logreg, pipe_cvec_logreg_params, n_jobs = -1)\n",
    "gs_cvec_logreg.fit(r_X_train, r_y_train)"
   ]
  },
  {
   "cell_type": "code",
   "execution_count": 133,
   "id": "90a72fb8-cf12-467d-a465-2f7c3abc968d",
   "metadata": {},
   "outputs": [
    {
     "name": "stdout",
     "output_type": "stream",
     "text": [
      " Train accuracy: 0.8647953979845784, Test accuracy: 0.7711418431036593\n"
     ]
    }
   ],
   "source": [
    "print(f' Train accuracy: {gs_cvec_logreg.score(r_X_train, r_y_train)}, Test accuracy: {gs_cvec_logreg.score(r_X_test, r_y_test)}')"
   ]
  },
  {
   "cell_type": "code",
   "execution_count": 132,
   "id": "5055f67f-92fd-4d64-bb57-48309125d162",
   "metadata": {},
   "outputs": [
    {
     "data": {
      "text/plain": [
       "{'cvec__max_df': 0.9,\n",
       " 'cvec__ngram_range': (1, 1),\n",
       " 'cvec__stop_words': None,\n",
       " 'logreg__solver': 'lbfgs'}"
      ]
     },
     "execution_count": 132,
     "metadata": {},
     "output_type": "execute_result"
    }
   ],
   "source": [
    "gs_cvec_logreg.best_params_"
   ]
  },
  {
   "cell_type": "code",
   "execution_count": 134,
   "id": "5218ee1d-130e-40b8-99b2-9a519972bd36",
   "metadata": {},
   "outputs": [],
   "source": [
    "y_pred_logreg = gs_cvec_logreg.predict(r_X_test)"
   ]
  },
  {
   "cell_type": "code",
   "execution_count": 135,
   "id": "5060a3f5-304b-4964-b1bd-cc650819770b",
   "metadata": {},
   "outputs": [],
   "source": [
    "tn_lr, fp_lr, fn_lr, tp_lr = confusion_matrix(r_y_test, y_pred_logreg).ravel()"
   ]
  },
  {
   "cell_type": "code",
   "execution_count": 138,
   "id": "11749025-9dca-4e27-8e77-123e64a72396",
   "metadata": {},
   "outputs": [
    {
     "data": {
      "image/png": "[encoded data removed]",
      "text/plain": [
       "<Figure size 432x288 with 2 Axes>"
      ]
     },
     "metadata": {
      "needs_background": "light"
     },
     "output_type": "display_data"
    }
   ],
   "source": [
    "cmd = ConfusionMatrixDisplay(confusion_matrix=confusion_matrix(r_y_test, y_pred_logreg),\n",
    "                      display_labels=['Highly Rated', 'Poorly Rated']);\n",
    "cmd.plot(cmap = 'BuGn')\n",
    "plt.title('Logistic Regression Confusion Matrix')\n",
    "plt.tight_layout();"
   ]
  },
  {
   "cell_type": "code",
   "execution_count": 139,
   "id": "2fa15cbd-8195-4267-a292-525297ba9ffe",
   "metadata": {},
   "outputs": [
    {
     "name": "stdout",
     "output_type": "stream",
     "text": [
      " Sensitivity: 0.8057963834530592\n",
      " Specificity: 0.737300435413643\n",
      " Precision: 0.7497119151878313\n"
     ]
    }
   ],
   "source": [
    "#Sensitivity \n",
    "print(f' Sensitivity: {tp_lr / (tp_lr+fn_lr)}')\n",
    "#Specificity\n",
    "print(f' Specificity: {tn_lr / (tn_lr+fp_lr)}')\n",
    "#Precision \n",
    "print(f' Precision: {tp_lr/(tp_lr+fp_lr)}')"
   ]
  },
  {
   "cell_type": "markdown",
   "id": "5f89cdac-656f-4e67-aa1c-b72676f20086",
   "metadata": {},
   "source": [
    "## K Neighbors Classifier"
   ]
  },
  {
   "cell_type": "code",
   "execution_count": 140,
   "id": "4e13d309-2696-449a-b7f8-639e6a758c7f",
   "metadata": {},
   "outputs": [
    {
     "name": "stderr",
     "output_type": "stream",
     "text": [
      "/Users/myacarrizosa/opt/anaconda3/lib/python3.9/site-packages/joblib/externals/loky/process_executor.py:702: UserWarning: A worker stopped while some jobs were given to the executor. This can be caused by a too short worker timeout or by a memory leak.\n",
      "  warnings.warn(\n"
     ]
    },
    {
     "data": {
      "text/html": [
       "<style>#sk-container-id-7 {color: black;background-color: white;}#sk-container-id-7 pre{padding: 0;}#sk-container-id-7 div.sk-toggleable {background-color: white;}#sk-container-id-7 label.sk-toggleable__label {cursor: pointer;display: block;width: 100%;margin-bottom: 0;padding: 0.3em;box-sizing: border-box;text-align: center;}#sk-container-id-7 label.sk-toggleable__label-arrow:before {content: \"▸\";float: left;margin-right: 0.25em;color: #696969;}#sk-container-id-7 label.sk-toggleable__label-arrow:hover:before {color: black;}#sk-container-id-7 div.sk-estimator:hover label.sk-toggleable__label-arrow:before {color: black;}#sk-container-id-7 div.sk-toggleable__content {max-height: 0;max-width: 0;overflow: hidden;text-align: left;background-color: #f0f8ff;}#sk-container-id-7 div.sk-toggleable__content pre {margin: 0.2em;color: black;border-radius: 0.25em;background-color: #f0f8ff;}#sk-container-id-7 input.sk-toggleable__control:checked~div.sk-toggleable__content {max-height: 200px;max-width: 100%;overflow: auto;}#sk-container-id-7 input.sk-toggleable__control:checked~label.sk-toggleable__label-arrow:before {content: \"▾\";}#sk-container-id-7 div.sk-estimator input.sk-toggleable__control:checked~label.sk-toggleable__label {background-color: #d4ebff;}#sk-container-id-7 div.sk-label input.sk-toggleable__control:checked~label.sk-toggleable__label {background-color: #d4ebff;}#sk-container-id-7 input.sk-hidden--visually {border: 0;clip: rect(1px 1px 1px 1px);clip: rect(1px, 1px, 1px, 1px);height: 1px;margin: -1px;overflow: hidden;padding: 0;position: absolute;width: 1px;}#sk-container-id-7 div.sk-estimator {font-family: monospace;background-color: #f0f8ff;border: 1px dotted black;border-radius: 0.25em;box-sizing: border-box;margin-bottom: 0.5em;}#sk-container-id-7 div.sk-estimator:hover {background-color: #d4ebff;}#sk-container-id-7 div.sk-parallel-item::after {content: \"\";width: 100%;border-bottom: 1px solid gray;flex-grow: 1;}#sk-container-id-7 div.sk-label:hover label.sk-toggleable__label {background-color: #d4ebff;}#sk-container-id-7 div.sk-serial::before {content: \"\";position: absolute;border-left: 1px solid gray;box-sizing: border-box;top: 0;bottom: 0;left: 50%;z-index: 0;}#sk-container-id-7 div.sk-serial {display: flex;flex-direction: column;align-items: center;background-color: white;padding-right: 0.2em;padding-left: 0.2em;position: relative;}#sk-container-id-7 div.sk-item {position: relative;z-index: 1;}#sk-container-id-7 div.sk-parallel {display: flex;align-items: stretch;justify-content: center;background-color: white;position: relative;}#sk-container-id-7 div.sk-item::before, #sk-container-id-7 div.sk-parallel-item::before {content: \"\";position: absolute;border-left: 1px solid gray;box-sizing: border-box;top: 0;bottom: 0;left: 50%;z-index: -1;}#sk-container-id-7 div.sk-parallel-item {display: flex;flex-direction: column;z-index: 1;position: relative;background-color: white;}#sk-container-id-7 div.sk-parallel-item:first-child::after {align-self: flex-end;width: 50%;}#sk-container-id-7 div.sk-parallel-item:last-child::after {align-self: flex-start;width: 50%;}#sk-container-id-7 div.sk-parallel-item:only-child::after {width: 0;}#sk-container-id-7 div.sk-dashed-wrapped {border: 1px dashed gray;margin: 0 0.4em 0.5em 0.4em;box-sizing: border-box;padding-bottom: 0.4em;background-color: white;}#sk-container-id-7 div.sk-label label {font-family: monospace;font-weight: bold;display: inline-block;line-height: 1.2em;}#sk-container-id-7 div.sk-label-container {text-align: center;}#sk-container-id-7 div.sk-container {/* jupyter's `normalize.less` sets `[hidden] { display: none; }` but bootstrap.min.css set `[hidden] { display: none !important; }` so we also need the `!important` here to be able to override the default hidden behavior on the sphinx rendered scikit-learn.org. See: https://github.com/scikit-learn/scikit-learn/issues/21755 */display: inline-block !important;position: relative;}#sk-container-id-7 div.sk-text-repr-fallback {display: none;}</style><div id=\"sk-container-id-7\" class=\"sk-top-container\"><div class=\"sk-text-repr-fallback\"><pre>GridSearchCV(estimator=Pipeline(steps=[(&#x27;cvec&#x27;, CountVectorizer()),\n",
       "                                       (&#x27;ss&#x27;, StandardScaler(with_mean=False)),\n",
       "                                       (&#x27;knn&#x27;, KNeighborsClassifier())]),\n",
       "             n_jobs=-1,\n",
       "             param_grid={&#x27;cvec__max_df&#x27;: [0.9, 1.0],\n",
       "                         &#x27;cvec__ngram_range&#x27;: [(1, 1), (1, 2)],\n",
       "                         &#x27;cvec__stop_words&#x27;: [&#x27;english&#x27;, None],\n",
       "                         &#x27;knn__metric&#x27;: [&#x27;minkowski&#x27;, &#x27;euclidean&#x27;, &#x27;manhattan&#x27;],\n",
       "                         &#x27;knn__n_neighbors&#x27;: [3, 5, 7],\n",
       "                         &#x27;knn__weights&#x27;: [&#x27;uniform&#x27;, &#x27;distance&#x27;]})</pre><b>In a Jupyter environment, please rerun this cell to show the HTML representation or trust the notebook. <br />On GitHub, the HTML representation is unable to render, please try loading this page with nbviewer.org.</b></div><div class=\"sk-container\" hidden><div class=\"sk-item sk-dashed-wrapped\"><div class=\"sk-label-container\"><div class=\"sk-label sk-toggleable\"><input class=\"sk-toggleable__control sk-hidden--visually\" id=\"sk-estimator-id-16\" type=\"checkbox\" ><label for=\"sk-estimator-id-16\" class=\"sk-toggleable__label sk-toggleable__label-arrow\">GridSearchCV</label><div class=\"sk-toggleable__content\"><pre>GridSearchCV(estimator=Pipeline(steps=[(&#x27;cvec&#x27;, CountVectorizer()),\n",
       "                                       (&#x27;ss&#x27;, StandardScaler(with_mean=False)),\n",
       "                                       (&#x27;knn&#x27;, KNeighborsClassifier())]),\n",
       "             n_jobs=-1,\n",
       "             param_grid={&#x27;cvec__max_df&#x27;: [0.9, 1.0],\n",
       "                         &#x27;cvec__ngram_range&#x27;: [(1, 1), (1, 2)],\n",
       "                         &#x27;cvec__stop_words&#x27;: [&#x27;english&#x27;, None],\n",
       "                         &#x27;knn__metric&#x27;: [&#x27;minkowski&#x27;, &#x27;euclidean&#x27;, &#x27;manhattan&#x27;],\n",
       "                         &#x27;knn__n_neighbors&#x27;: [3, 5, 7],\n",
       "                         &#x27;knn__weights&#x27;: [&#x27;uniform&#x27;, &#x27;distance&#x27;]})</pre></div></div></div><div class=\"sk-parallel\"><div class=\"sk-parallel-item\"><div class=\"sk-item\"><div class=\"sk-label-container\"><div class=\"sk-label sk-toggleable\"><input class=\"sk-toggleable__control sk-hidden--visually\" id=\"sk-estimator-id-17\" type=\"checkbox\" ><label for=\"sk-estimator-id-17\" class=\"sk-toggleable__label sk-toggleable__label-arrow\">estimator: Pipeline</label><div class=\"sk-toggleable__content\"><pre>Pipeline(steps=[(&#x27;cvec&#x27;, CountVectorizer()),\n",
       "                (&#x27;ss&#x27;, StandardScaler(with_mean=False)),\n",
       "                (&#x27;knn&#x27;, KNeighborsClassifier())])</pre></div></div></div><div class=\"sk-serial\"><div class=\"sk-item\"><div class=\"sk-serial\"><div class=\"sk-item\"><div class=\"sk-estimator sk-toggleable\"><input class=\"sk-toggleable__control sk-hidden--visually\" id=\"sk-estimator-id-18\" type=\"checkbox\" ><label for=\"sk-estimator-id-18\" class=\"sk-toggleable__label sk-toggleable__label-arrow\">CountVectorizer</label><div class=\"sk-toggleable__content\"><pre>CountVectorizer()</pre></div></div></div><div class=\"sk-item\"><div class=\"sk-estimator sk-toggleable\"><input class=\"sk-toggleable__control sk-hidden--visually\" id=\"sk-estimator-id-19\" type=\"checkbox\" ><label for=\"sk-estimator-id-19\" class=\"sk-toggleable__label sk-toggleable__label-arrow\">StandardScaler</label><div class=\"sk-toggleable__content\"><pre>StandardScaler(with_mean=False)</pre></div></div></div><div class=\"sk-item\"><div class=\"sk-estimator sk-toggleable\"><input class=\"sk-toggleable__control sk-hidden--visually\" id=\"sk-estimator-id-20\" type=\"checkbox\" ><label for=\"sk-estimator-id-20\" class=\"sk-toggleable__label sk-toggleable__label-arrow\">KNeighborsClassifier</label><div class=\"sk-toggleable__content\"><pre>KNeighborsClassifier()</pre></div></div></div></div></div></div></div></div></div></div></div></div>"
      ],
      "text/plain": [
       "GridSearchCV(estimator=Pipeline(steps=[('cvec', CountVectorizer()),\n",
       "                                       ('ss', StandardScaler(with_mean=False)),\n",
       "                                       ('knn', KNeighborsClassifier())]),\n",
       "             n_jobs=-1,\n",
       "             param_grid={'cvec__max_df': [0.9, 1.0],\n",
       "                         'cvec__ngram_range': [(1, 1), (1, 2)],\n",
       "                         'cvec__stop_words': ['english', None],\n",
       "                         'knn__metric': ['minkowski', 'euclidean', 'manhattan'],\n",
       "                         'knn__n_neighbors': [3, 5, 7],\n",
       "                         'knn__weights': ['uniform', 'distance']})"
      ]
     },
     "execution_count": 140,
     "metadata": {},
     "output_type": "execute_result"
    }
   ],
   "source": [
    "pipe_cvec_knn = Pipeline([\n",
    "    ('cvec', CountVectorizer()),\n",
    "    ('ss', StandardScaler(with_mean = False)),\n",
    "    ('knn', KNeighborsClassifier())\n",
    "])\n",
    "\n",
    "pipe_cvec_knn_params = {\n",
    "    'cvec__stop_words': ['english', None],\n",
    "    'cvec__ngram_range': [(1,1), (1,2)],\n",
    "    'cvec__max_df': [0.9, 1.0],\n",
    "    'knn__n_neighbors': [3, 5, 7],\n",
    "    'knn__weights': ['uniform', 'distance'],\n",
    "    'knn__metric': ['minkowski', 'euclidean', 'manhattan']\n",
    "    \n",
    "}\n",
    "\n",
    "gs_cvec_knn = GridSearchCV(pipe_cvec_knn, pipe_cvec_knn_params, n_jobs = -1)\n",
    "gs_cvec_knn.fit(r_X_train, r_y_train)"
   ]
  },
  {
   "cell_type": "code",
   "execution_count": 153,
   "id": "7bf9edac-509a-43a2-9d7e-230ef776d045",
   "metadata": {},
   "outputs": [
    {
     "name": "stdout",
     "output_type": "stream",
     "text": [
      " Train accuracy: 0.7583941903635103, Test accuracy: 0.6622200465059356\n"
     ]
    }
   ],
   "source": [
    "print(f' Train accuracy: {gs_cvec_knn.score(r_X_train, r_y_train)}, Test accuracy: {gs_cvec_knn.score(r_X_test, r_y_test)}')"
   ]
  },
  {
   "cell_type": "code",
   "execution_count": 154,
   "id": "7a5b752e-ba2c-4d8d-9dfc-2d6fbfc223c2",
   "metadata": {},
   "outputs": [
    {
     "data": {
      "text/plain": [
       "{'cvec__max_df': 0.9,\n",
       " 'cvec__ngram_range': (1, 1),\n",
       " 'cvec__stop_words': 'english',\n",
       " 'knn__metric': 'minkowski',\n",
       " 'knn__n_neighbors': 7,\n",
       " 'knn__weights': 'uniform'}"
      ]
     },
     "execution_count": 154,
     "metadata": {},
     "output_type": "execute_result"
    }
   ],
   "source": [
    "gs_cvec_knn.best_params_"
   ]
  },
  {
   "cell_type": "code",
   "execution_count": 155,
   "id": "5ee17078-a53c-41bd-b00f-9a1c81f9d038",
   "metadata": {},
   "outputs": [],
   "source": [
    "y_pred_knn = gs_cvec_knn.predict(r_X_test)"
   ]
  },
  {
   "cell_type": "code",
   "execution_count": 156,
   "id": "c78e04a8-6ff2-4468-8286-f3717c904c1b",
   "metadata": {},
   "outputs": [],
   "source": [
    "tn_knn, fp_knn, fn_knn, tp_knn = confusion_matrix(r_y_test, y_pred_knn).ravel()"
   ]
  },
  {
   "cell_type": "code",
   "execution_count": 157,
   "id": "eec12c53-8fe1-4610-8b2b-d5c5d38dbc5f",
   "metadata": {},
   "outputs": [
    {
     "data": {
      "image/png": "[encoded data removed]",
      "text/plain": [
       "<Figure size 432x288 with 2 Axes>"
      ]
     },
     "metadata": {
      "needs_background": "light"
     },
     "output_type": "display_data"
    }
   ],
   "source": [
    "cmd = ConfusionMatrixDisplay(confusion_matrix=confusion_matrix(r_y_test, y_pred_knn),\n",
    "                      display_labels=['Highly Rated', 'Poorly Rated']);\n",
    "cmd.plot(cmap = 'BuGn')\n",
    "plt.title('KNN Confusion Matrix')\n",
    "plt.tight_layout();"
   ]
  },
  {
   "cell_type": "code",
   "execution_count": 158,
   "id": "11433a9d-24cb-4837-af03-b9d30449ceb9",
   "metadata": {},
   "outputs": [
    {
     "name": "stdout",
     "output_type": "stream",
     "text": [
      " Sensitivity: 0.7730988357691355\n",
      " Specificity: 0.5539429124334785\n",
      " Precision: 0.628600201409869\n"
     ]
    }
   ],
   "source": [
    "#Sensitivity \n",
    "print(f' Sensitivity: {tp_knn / (tp_knn+fn_knn)}')\n",
    "#Specificity\n",
    "print(f' Specificity: {tn_knn / (tn_knn+fp_knn)}')\n",
    "#Precision \n",
    "print(f' Precision: {tp_knn/(tp_knn+fp_knn)}')"
   ]
  },
  {
   "cell_type": "markdown",
   "id": "5f3190b9-a954-4c6c-8245-6db71cc260de",
   "metadata": {},
   "source": [
    "## Decision Tree"
   ]
  },
  {
   "cell_type": "code",
   "execution_count": null,
   "id": "43a1b8e6-c63a-4550-8b89-af1d8f771173",
   "metadata": {},
   "outputs": [],
   "source": [
    "pipe_cvec_dt = Pipeline([\n",
    "    ('cvec', CountVectorizer()),\n",
    "    'dt', DecisionTreeClassifier(random_state = 222)\n",
    "])\n",
    "\n",
    "pipe_cvec_rf_params = {\n",
    "    'cvec__stop_words': ['english', None],\n",
    "    'cvec__ngram_range': [(1,1), (1,2)],\n",
    "    'cvec__max_df': [0.9, 1.0],\n",
    "    'dt__max_depth': [3, 5, 8],\n",
    "    'dt__min_samples_leaf': [1, 2, 5]\n",
    "    \n",
    "}\n",
    "\n",
    "gs_cvec_dt = GridSearchCV(pipe_cvec_dt, pipe_cvec_dt_params, n_jobs = -1)\n",
    "gs_cvec_dt.fit(r_X_train, r_y_train)\n"
   ]
  },
  {
   "cell_type": "code",
   "execution_count": null,
   "id": "284a30bd-278f-4e34-ae0e-26927c873a91",
   "metadata": {},
   "outputs": [],
   "source": [
    "print(f' Train accuracy: {gs_cvec_dt.score(r_X_train, r_y_train)}, Test accuracy: {gs_cvec_dt.score(r_X_test, r_y_test)}')"
   ]
  },
  {
   "cell_type": "code",
   "execution_count": null,
   "id": "5876a0f5-8eb5-48b1-8fae-1c99c603a0fe",
   "metadata": {},
   "outputs": [],
   "source": [
    "gs_cvec_dt.best_params_"
   ]
  },
  {
   "cell_type": "code",
   "execution_count": null,
   "id": "7c866545-e7ac-4320-8d2f-09910a873f03",
   "metadata": {},
   "outputs": [],
   "source": [
    "y_pred_dt = gs_cvec_dt.predict(r_X_test)"
   ]
  },
  {
   "cell_type": "code",
   "execution_count": null,
   "id": "187549ed-0b26-4544-95df-b3411343fe21",
   "metadata": {},
   "outputs": [],
   "source": [
    "tn_dt, fp_dt, fn_dt, tp_dt = confusion_matrix(r_y_test, y_pred_dt).ravel()"
   ]
  },
  {
   "cell_type": "code",
   "execution_count": null,
   "id": "47685e92-ec0d-4256-90bc-b86b0ae9dc23",
   "metadata": {},
   "outputs": [],
   "source": [
    "cmd = ConfusionMatrixDisplay(confusion_matrix=confusion_matrix(r_y_test, y_pred_dt),\n",
    "                      display_labels=['Highly Rated', 'Poorly Rated']);\n",
    "cmd.plot(cmap = 'BuGn')\n",
    "plt.title('Decision Tree Confusion Matrix')\n",
    "plt.tight_layout();"
   ]
  },
  {
   "cell_type": "code",
   "execution_count": null,
   "id": "cec44579-dc9e-4bcf-9ad9-ad9cd474a103",
   "metadata": {},
   "outputs": [],
   "source": [
    "#Sensitivity \n",
    "print(f' Sensitivity: {tp_dt / (tp_dt+fn_dt)}')\n",
    "#Specificity\n",
    "print(f' Specificity: {tn_dt / (tn_dt+fp_dt)}')\n",
    "#Precision \n",
    "print(f' Precision: {tp_dt/(tp_dt+fp_dt)}')"
   ]
  },
  {
   "cell_type": "markdown",
   "id": "582308da-3f5c-483e-a3fa-7b953e19073d",
   "metadata": {},
   "source": [
    "## Random Forest"
   ]
  },
  {
   "cell_type": "code",
   "execution_count": null,
   "id": "03987563-75d1-4b9d-aa0b-4eb0079ddecc",
   "metadata": {},
   "outputs": [],
   "source": [
    "pipe_cvec_rf = Pipeline([\n",
    "    ('cvec', CountVectorizer()),\n",
    "    ('rf', RandomForestClassifier(random_state =222))\n",
    "])\n",
    "\n",
    "pipe_cvec_rf_params = {\n",
    "    'cvec__stop_words': ['english', None],\n",
    "    'cvec__ngram_range': [(1,1), (1,2)],\n",
    "    'cvec__max_df': [0.9, 1.0],\n",
    "    'rf__n_estimators': [100, 125, 150],\n",
    "    'rf__max_depth': [3, 5, 8],\n",
    "    'rf__min_samples_leaf': [1, 2, 5]\n",
    "    \n",
    "}\n",
    "\n",
    "gs_cvec_rf = GridSearchCV(pipe_cvec_rf, pipe_cvec_rf_params, n_jobs = -1)\n",
    "gs_cvec_rf.fit(r_X_train, r_y_train)"
   ]
  },
  {
   "cell_type": "code",
   "execution_count": null,
   "id": "384d1077-bdd6-47ae-9f6f-57013636cf3a",
   "metadata": {},
   "outputs": [],
   "source": [
    "print(f' Train accuracy: {gs_cvec_rf.score(r_X_train, r_y_train)}, Test accuracy: {gs_cvec_rf.score(r_X_test, r_y_test)}')"
   ]
  },
  {
   "cell_type": "code",
   "execution_count": null,
   "id": "8cfc5829-4da0-4f60-8716-72758bbab3bb",
   "metadata": {},
   "outputs": [],
   "source": [
    "gs_cvec_rf.best_params_"
   ]
  },
  {
   "cell_type": "code",
   "execution_count": null,
   "id": "ed362f9d-7084-4e01-9770-3a99f15fff2a",
   "metadata": {},
   "outputs": [],
   "source": [
    "y_pred_rf = gs_cvec_rf.predict(r_X_test)"
   ]
  },
  {
   "cell_type": "code",
   "execution_count": null,
   "id": "29bffb71-0fde-4add-9886-5d2573e552fd",
   "metadata": {},
   "outputs": [],
   "source": [
    "tn_rf, fp_rf, fn_rf, tp_rf = confusion_matrix(r_y_test, y_pred_rf).ravel()"
   ]
  },
  {
   "cell_type": "code",
   "execution_count": null,
   "id": "aec3241f-d304-49e7-8317-6939b9fc3595",
   "metadata": {},
   "outputs": [],
   "source": [
    "cmd = ConfusionMatrixDisplay(confusion_matrix=confusion_matrix(r_y_test, y_pred_rf),\n",
    "                      display_labels=['Highly Rated', 'Poorly Rated']);\n",
    "cmd.plot(cmap = 'BuGn')\n",
    "plt.title('Random Forests Confusion Matrix')\n",
    "plt.tight_layout();"
   ]
  },
  {
   "cell_type": "code",
   "execution_count": null,
   "id": "e8166dbf-084b-4050-98b2-f717e4b0b8e9",
   "metadata": {},
   "outputs": [],
   "source": [
    "#Sensitivity \n",
    "print(f' Sensitivity: {tp_rf / (tp_rf+fn_rf)}')\n",
    "#Specificity\n",
    "print(f' Specificity: {tn_rf / (tn_rf+fp_rf)}')\n",
    "#Precision \n",
    "print(f' Precision: {tp_rf/(tp_rf+fp_rf)}')"
   ]
  },
  {
   "cell_type": "markdown",
   "id": "a1f944e5-eccc-4d03-80d0-b2e187044828",
   "metadata": {},
   "source": [
    "## ADA Boost"
   ]
  },
  {
   "cell_type": "code",
   "execution_count": null,
   "id": "082448f6-c8da-4826-9cc1-d0921efae303",
   "metadata": {},
   "outputs": [],
   "source": [
    "pipe_cvec_ada = Pipeline([\n",
    "    ('cvec', CountVectorizer()),\n",
    "    ('ada', AdaBoostClassifier(random_state =222))\n",
    "])\n",
    "\n",
    "pipe_cvec_ada_params = {\n",
    "    'cvec__stop_words': ['english', None],\n",
    "    'cvec__ngram_range': [(1,1), (1,2)],\n",
    "    'cvec__max_df': [0.9, 1.0],\n",
    "    'ada__n_estimators': [100, 125, 150],\n",
    "    'ada__learning_rate': [1.0, 1.5]\n",
    "    \n",
    "}\n",
    "\n",
    "gs_cvec_ada = GridSearchCV(pipe_cvec_ada, pipe_cvec_ada_params, n_jobs = -1)\n",
    "gs_cvec_ada.fit(r_X_train, r_y_train)"
   ]
  },
  {
   "cell_type": "code",
   "execution_count": null,
   "id": "04cfdd35-86da-4fb7-8dba-372452de64aa",
   "metadata": {},
   "outputs": [],
   "source": [
    "print(f' Train accuracy: {gs_cvec_ada.score(r_X_train, r_y_train)}, Test accuracy: {gs_cvec_ada.score(r_X_test, r_y_test)}')"
   ]
  },
  {
   "cell_type": "code",
   "execution_count": null,
   "id": "da34ab8a-dddb-49ca-bb4f-38ba675fdc57",
   "metadata": {},
   "outputs": [],
   "source": [
    "gs_cvec_ada.best_params_"
   ]
  },
  {
   "cell_type": "code",
   "execution_count": null,
   "id": "8484e63f-0850-4e22-9d9b-c530c87ff704",
   "metadata": {},
   "outputs": [],
   "source": [
    "y_pred_ada = gs_cvec_ada.predict(r_X_test)"
   ]
  },
  {
   "cell_type": "code",
   "execution_count": null,
   "id": "08b88d96-0ebe-4f42-8bfe-0736ee6494d2",
   "metadata": {},
   "outputs": [],
   "source": [
    "tn_ada, fp_ada, fn_ada, tp_ada = confusion_matrix(r_y_test, y_pred_ada).ravel()"
   ]
  },
  {
   "cell_type": "code",
   "execution_count": null,
   "id": "9c45938d-049a-40b9-aede-cdfcc23bafa2",
   "metadata": {},
   "outputs": [],
   "source": [
    "cmd = ConfusionMatrixDisplay(confusion_matrix=confusion_matrix(r_y_test, y_pred_ada),\n",
    "                      display_labels=['Highly Rated', 'Poorly Rated']);\n",
    "cmd.plot(cmap = 'BuGn')\n",
    "plt.title('AdaBoost Confusion Matrix')\n",
    "plt.tight_layout();"
   ]
  },
  {
   "cell_type": "code",
   "execution_count": null,
   "id": "7bf045fd-2c7d-471f-bd83-cec9563a8ce7",
   "metadata": {},
   "outputs": [],
   "source": [
    "#Sensitivity \n",
    "print(f' Sensitivity: {tp_ada / (tp_ada+fn_ada)}')\n",
    "#Specificity\n",
    "print(f' Specificity: {tn_ada / (tn_ada+fp_ada)}')\n",
    "#Precision \n",
    "print(f' Precision: {tp_ada/(tp_ada+fp_ada)}')"
   ]
  },
  {
   "cell_type": "markdown",
   "id": "a3fd11cb-5d8d-4fb9-96e4-e450ed799775",
   "metadata": {},
   "source": [
    "## Gradient Boost"
   ]
  },
  {
   "cell_type": "code",
   "execution_count": null,
   "id": "38969036-611b-4ed5-87b4-eb7a07b20154",
   "metadata": {},
   "outputs": [],
   "source": [
    "pipe_cvec_g = Pipeline([\n",
    "    ('cvec', CountVectorizer()),\n",
    "    ('g_boost', GradientBoostingClassifier(random_state = 222))\n",
    "])\n",
    "\n",
    "pipe_cvec_g_params = {\n",
    "    'cvec__stop_words': ['english', None],\n",
    "    'cvec__ngram_range': [(1,1), (1,2)],\n",
    "    'cvec__max_df': [0.9, 1.0],\n",
    "    'g_boost__n_estimators': [100, 125, 150],\n",
    "    'g_boost__learning_rate': [0.8, 1.0, 1.5],\n",
    "    'g_boost__min_samples_split': [1, 2]\n",
    "    \n",
    "}\n",
    "\n",
    "gs_cvec_g = GridSearchCV(pipe_cvec_g, pipe_cvec_g_params, n_jobs = -1)\n",
    "gs_cvec_g.fit(r_X_train, r_y_train)"
   ]
  },
  {
   "cell_type": "code",
   "execution_count": null,
   "id": "00685a8c-6f10-484c-a9be-181af894f1a3",
   "metadata": {},
   "outputs": [],
   "source": [
    "print(f' Train accuracy: {gs_cvec_g.score(r_X_train, r_y_train)}, Test accuracy: {gs_cvec_g.score(r_X_test, r_y_test)}')"
   ]
  },
  {
   "cell_type": "code",
   "execution_count": null,
   "id": "bc44e9b5-1f21-4a57-8d3f-ed4cb1673b9a",
   "metadata": {},
   "outputs": [],
   "source": [
    "gs_cvec_g.best_params_"
   ]
  },
  {
   "cell_type": "code",
   "execution_count": null,
   "id": "da5ad401-5483-4c96-8204-60c38fa6a4e3",
   "metadata": {},
   "outputs": [],
   "source": [
    "y_pred_g = gs_cvec_g.predict(r_X_test)"
   ]
  },
  {
   "cell_type": "code",
   "execution_count": null,
   "id": "2276daf0-8529-42e4-9bf4-18fc5346c72d",
   "metadata": {},
   "outputs": [],
   "source": [
    "tn_g, fp_g, fn_g, tp_g = confusion_matrix(r_y_test, y_pred_g).ravel()"
   ]
  },
  {
   "cell_type": "code",
   "execution_count": null,
   "id": "9383da3d-2db5-4ea1-a6fe-53465a20fa59",
   "metadata": {},
   "outputs": [],
   "source": [
    "cmd = ConfusionMatrixDisplay(confusion_matrix=confusion_matrix(r_y_test, y_pred_g),\n",
    "                      display_labels=['Highly Rated', 'Poorly Rated']);\n",
    "cmd.plot(cmap = 'BuGn')\n",
    "plt.title('Gradient Boost Confusion Matrix')\n",
    "plt.tight_layout();"
   ]
  },
  {
   "cell_type": "code",
   "execution_count": null,
   "id": "52c90212-67a7-44cd-9652-9b849f048cac",
   "metadata": {},
   "outputs": [],
   "source": [
    "#Sensitivity \n",
    "print(f' Sensitivity: {tp_g / (tp_g+fn_g)}')\n",
    "#Specificity\n",
    "print(f' Specificity: {tn_g / (tn_g+fp_g)}')\n",
    "#Precision \n",
    "print(f' Precision: {tp_g/(tp_g+fp_g)}')"
   ]
  },
  {
   "cell_type": "markdown",
   "id": "9a1792ca-48ed-4619-a503-496556c12e89",
   "metadata": {},
   "source": [
    "## Bagging Classifier"
   ]
  },
  {
   "cell_type": "code",
   "execution_count": null,
   "id": "30921906-a5bd-4457-a952-40e55943dfde",
   "metadata": {},
   "outputs": [],
   "source": []
  }
 ],
 "metadata": {
  "kernelspec": {
   "display_name": "Python 3 (ipykernel)",
   "language": "python",
   "name": "python3"
  },
  "language_info": {
   "codemirror_mode": {
    "name": "ipython",
    "version": 3
   },
   "file_extension": ".py",
   "mimetype": "text/x-python",
   "name": "python",
   "nbconvert_exporter": "python",
   "pygments_lexer": "ipython3",
   "version": "3.9.12"
  }
 },
 "nbformat": 4,
 "nbformat_minor": 5
}
