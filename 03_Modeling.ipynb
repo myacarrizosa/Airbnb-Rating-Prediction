{
 "cells": [
  {
   "cell_type": "markdown",
   "id": "03e00e08-7cdf-41ed-a8bb-932fd4f5484d",
   "metadata": {},
   "source": [
    "# Modeling"
   ]
  },
  {
   "cell_type": "code",
   "execution_count": 1,
   "id": "9c6bb349-f0e5-4301-bfc4-521dbf220dd9",
   "metadata": {},
   "outputs": [],
   "source": [
    "import pandas as pd\n",
    "import numpy as np \n",
    "import matplotlib.pyplot as plt\n",
    "\n",
    "from sklearn.model_selection import GridSearchCV\n",
    "from sklearn.preprocessing import StandardScaler\n",
    "from sklearn.pipeline import Pipeline\n",
    "from sklearn.feature_extraction.text import CountVectorizer\n",
    "\n",
    "from sklearn.linear_model import LogisticRegression\n",
    "from sklearn.tree import DecisionTreeClassifier\n",
    "from sklearn.ensemble import AdaBoostClassifier, GradientBoostingClassifier, BaggingClassifier, RandomForestClassifier\n",
    "from sklearn.neighbors import KNeighborsClassifier\n",
    "\n",
    "from sklearn.metrics import confusion_matrix, ConfusionMatrixDisplay\n",
    "\n",
    "import random\n",
    "random.seed(222)"
   ]
  },
  {
   "cell_type": "code",
   "execution_count": 2,
   "id": "4cfd27ba-6e94-450f-bebc-524aefac7a1a",
   "metadata": {},
   "outputs": [],
   "source": [
    "X_train_l = pd.read_csv('./data/l_Xtrain.csv', index_col='Unnamed: 0')\n",
    "X_test_l = pd.read_csv('./data/l_Xtest.csv', index_col='Unnamed: 0')\n",
    "\n",
    "y_train_l = pd.read_csv('./data/l_ytrain.csv', index_col='Unnamed: 0')\n",
    "y_test_l = pd.read_csv('./data/l_ytest.csv', index_col='Unnamed: 0')\n",
    "\n",
    "X_train_r = pd.read_csv('./data/X_train_r.csv', index_col='Unnamed: 0')\n",
    "X_test_r = pd.read_csv('./data/X_test_r.csv', index_col='Unnamed: 0')\n",
    "\n",
    "\n",
    "y_train_r = pd.read_csv('./data/y_train_r.csv', index_col='Unnamed: 0')\n",
    "y_test_r = pd.read_csv('./data/y_test_r.csv', index_col='Unnamed: 0')"
   ]
  },
  {
   "cell_type": "code",
   "execution_count": 3,
   "id": "d4d20958-22a9-4149-a453-644f0f594de4",
   "metadata": {},
   "outputs": [],
   "source": [
    "y_train_l = y_train_l['type']\n",
    "y_test_l = y_test_l['type']"
   ]
  },
  {
   "cell_type": "code",
   "execution_count": null,
   "id": "2b39ac1e-e757-484b-b309-d4e553682f2e",
   "metadata": {},
   "outputs": [],
   "source": [
    "X_train_l.columns"
   ]
  },
  {
   "cell_type": "code",
   "execution_count": null,
   "id": "7cc5e025-ba7b-4f2a-8130-1a2bf4c6efdc",
   "metadata": {},
   "outputs": [],
   "source": [
    "X_train_l.drop(columns = ['id'], inplace = True)\n",
    "X_test_l.drop(columns = ['id'], inplace = True)\n",
    "X_train_l.columns"
   ]
  },
  {
   "cell_type": "code",
   "execution_count": 5,
   "id": "96d66bf4-3fe1-4a52-bcfb-f8b7fa299784",
   "metadata": {},
   "outputs": [],
   "source": [
    "r_X_train =  X_train_r['lem_comments']\n",
    "r_X_test = X_test_r['lem_comments']\n",
    "\n",
    "r_y_train = y_train_r['type']\n",
    "r_y_test = y_test_r['type']"
   ]
  },
  {
   "cell_type": "markdown",
   "id": "0ff670f0-efe9-49f2-8df6-8e04cd961bb3",
   "metadata": {},
   "source": [
    "# Listings Classification Modeling"
   ]
  },
  {
   "cell_type": "markdown",
   "id": "6917f12e-f738-408b-a318-bff05a76f5f2",
   "metadata": {},
   "source": [
    "## Logistic Regression"
   ]
  },
  {
   "cell_type": "code",
   "execution_count": 6,
   "id": "a261e4bb-e726-4a01-855a-583c9532e708",
   "metadata": {},
   "outputs": [
    {
     "data": {
      "text/plain": [
       "Index(['id', 'host_total_listings_count', 'accommodates', 'bedrooms', 'beds',\n",
       "       'price', 'minimum_nights', 'maximum_nights', 'number_of_reviews',\n",
       "       'calculated_host_listings_count',\n",
       "       ...\n",
       "       'bathrooms_text_3.5 baths', 'bathrooms_text_4 baths',\n",
       "       'bathrooms_text_4 shared baths', 'bathrooms_text_4.5 baths',\n",
       "       'bathrooms_text_5 baths', 'bathrooms_text_5 shared baths',\n",
       "       'bathrooms_text_6.5 baths', 'bathrooms_text_9.5 baths',\n",
       "       'bathrooms_text_Half-bath', 'instant_bookable_t'],\n",
       "      dtype='object', length=146)"
      ]
     },
     "execution_count": 6,
     "metadata": {},
     "output_type": "execute_result"
    }
   ],
   "source": [
    "X_train_l.columns"
   ]
  },
  {
   "cell_type": "code",
   "execution_count": 7,
   "id": "5d5a60af-7712-4d1c-b141-71ef5f5d8a84",
   "metadata": {},
   "outputs": [],
   "source": [
    "logreg = LogisticRegression(max_iter = 10000000)"
   ]
  },
  {
   "cell_type": "code",
   "execution_count": 8,
   "id": "43b940a8-199b-465e-8717-d8ec048b49ed",
   "metadata": {},
   "outputs": [
    {
     "data": {
      "text/html": [
       "<style>#sk-container-id-1 {color: black;background-color: white;}#sk-container-id-1 pre{padding: 0;}#sk-container-id-1 div.sk-toggleable {background-color: white;}#sk-container-id-1 label.sk-toggleable__label {cursor: pointer;display: block;width: 100%;margin-bottom: 0;padding: 0.3em;box-sizing: border-box;text-align: center;}#sk-container-id-1 label.sk-toggleable__label-arrow:before {content: \"▸\";float: left;margin-right: 0.25em;color: #696969;}#sk-container-id-1 label.sk-toggleable__label-arrow:hover:before {color: black;}#sk-container-id-1 div.sk-estimator:hover label.sk-toggleable__label-arrow:before {color: black;}#sk-container-id-1 div.sk-toggleable__content {max-height: 0;max-width: 0;overflow: hidden;text-align: left;background-color: #f0f8ff;}#sk-container-id-1 div.sk-toggleable__content pre {margin: 0.2em;color: black;border-radius: 0.25em;background-color: #f0f8ff;}#sk-container-id-1 input.sk-toggleable__control:checked~div.sk-toggleable__content {max-height: 200px;max-width: 100%;overflow: auto;}#sk-container-id-1 input.sk-toggleable__control:checked~label.sk-toggleable__label-arrow:before {content: \"▾\";}#sk-container-id-1 div.sk-estimator input.sk-toggleable__control:checked~label.sk-toggleable__label {background-color: #d4ebff;}#sk-container-id-1 div.sk-label input.sk-toggleable__control:checked~label.sk-toggleable__label {background-color: #d4ebff;}#sk-container-id-1 input.sk-hidden--visually {border: 0;clip: rect(1px 1px 1px 1px);clip: rect(1px, 1px, 1px, 1px);height: 1px;margin: -1px;overflow: hidden;padding: 0;position: absolute;width: 1px;}#sk-container-id-1 div.sk-estimator {font-family: monospace;background-color: #f0f8ff;border: 1px dotted black;border-radius: 0.25em;box-sizing: border-box;margin-bottom: 0.5em;}#sk-container-id-1 div.sk-estimator:hover {background-color: #d4ebff;}#sk-container-id-1 div.sk-parallel-item::after {content: \"\";width: 100%;border-bottom: 1px solid gray;flex-grow: 1;}#sk-container-id-1 div.sk-label:hover label.sk-toggleable__label {background-color: #d4ebff;}#sk-container-id-1 div.sk-serial::before {content: \"\";position: absolute;border-left: 1px solid gray;box-sizing: border-box;top: 0;bottom: 0;left: 50%;z-index: 0;}#sk-container-id-1 div.sk-serial {display: flex;flex-direction: column;align-items: center;background-color: white;padding-right: 0.2em;padding-left: 0.2em;position: relative;}#sk-container-id-1 div.sk-item {position: relative;z-index: 1;}#sk-container-id-1 div.sk-parallel {display: flex;align-items: stretch;justify-content: center;background-color: white;position: relative;}#sk-container-id-1 div.sk-item::before, #sk-container-id-1 div.sk-parallel-item::before {content: \"\";position: absolute;border-left: 1px solid gray;box-sizing: border-box;top: 0;bottom: 0;left: 50%;z-index: -1;}#sk-container-id-1 div.sk-parallel-item {display: flex;flex-direction: column;z-index: 1;position: relative;background-color: white;}#sk-container-id-1 div.sk-parallel-item:first-child::after {align-self: flex-end;width: 50%;}#sk-container-id-1 div.sk-parallel-item:last-child::after {align-self: flex-start;width: 50%;}#sk-container-id-1 div.sk-parallel-item:only-child::after {width: 0;}#sk-container-id-1 div.sk-dashed-wrapped {border: 1px dashed gray;margin: 0 0.4em 0.5em 0.4em;box-sizing: border-box;padding-bottom: 0.4em;background-color: white;}#sk-container-id-1 div.sk-label label {font-family: monospace;font-weight: bold;display: inline-block;line-height: 1.2em;}#sk-container-id-1 div.sk-label-container {text-align: center;}#sk-container-id-1 div.sk-container {/* jupyter's `normalize.less` sets `[hidden] { display: none; }` but bootstrap.min.css set `[hidden] { display: none !important; }` so we also need the `!important` here to be able to override the default hidden behavior on the sphinx rendered scikit-learn.org. See: https://github.com/scikit-learn/scikit-learn/issues/21755 */display: inline-block !important;position: relative;}#sk-container-id-1 div.sk-text-repr-fallback {display: none;}</style><div id=\"sk-container-id-1\" class=\"sk-top-container\"><div class=\"sk-text-repr-fallback\"><pre>LogisticRegression(max_iter=10000000)</pre><b>In a Jupyter environment, please rerun this cell to show the HTML representation or trust the notebook. <br />On GitHub, the HTML representation is unable to render, please try loading this page with nbviewer.org.</b></div><div class=\"sk-container\" hidden><div class=\"sk-item\"><div class=\"sk-estimator sk-toggleable\"><input class=\"sk-toggleable__control sk-hidden--visually\" id=\"sk-estimator-id-1\" type=\"checkbox\" checked><label for=\"sk-estimator-id-1\" class=\"sk-toggleable__label sk-toggleable__label-arrow\">LogisticRegression</label><div class=\"sk-toggleable__content\"><pre>LogisticRegression(max_iter=10000000)</pre></div></div></div></div></div>"
      ],
      "text/plain": [
       "LogisticRegression(max_iter=10000000)"
      ]
     },
     "execution_count": 8,
     "metadata": {},
     "output_type": "execute_result"
    }
   ],
   "source": [
    "logreg.fit(X_train_l, y_train_l)"
   ]
  },
  {
   "cell_type": "code",
   "execution_count": 9,
   "id": "8bfc9967-1cfe-4058-b1af-b514b0c00380",
   "metadata": {},
   "outputs": [
    {
     "name": "stdout",
     "output_type": "stream",
     "text": [
      " Train accuracy: 0.5058448459086079, Test accuracy: 0.482484076433121\n"
     ]
    }
   ],
   "source": [
    "print(f' Train accuracy: {logreg.score(X_train_l, y_train_l)}, Test accuracy: {logreg.score(X_test_l, y_test_l)}')"
   ]
  },
  {
   "cell_type": "code",
   "execution_count": 10,
   "id": "004accc9-8114-438b-99d8-37dce37d5ed3",
   "metadata": {},
   "outputs": [],
   "source": [
    "y_pred_logreg = logreg.predict(X_test_l)"
   ]
  },
  {
   "cell_type": "code",
   "execution_count": 11,
   "id": "dab6bf3c-962d-452e-a9c4-b3b2b38561ff",
   "metadata": {},
   "outputs": [],
   "source": [
    "tn_lr, fp_lr, fn_lr, tp_lr = confusion_matrix(y_test_l, y_pred_logreg).ravel()"
   ]
  },
  {
   "cell_type": "code",
   "execution_count": 12,
   "id": "0cc83ca9-c6eb-47cd-8596-5bd612151392",
   "metadata": {},
   "outputs": [
    {
     "data": {
      "image/png": "[encoded data removed]",
      "text/plain": [
       "<Figure size 432x288 with 2 Axes>"
      ]
     },
     "metadata": {
      "needs_background": "light"
     },
     "output_type": "display_data"
    }
   ],
   "source": [
    "cmd = ConfusionMatrixDisplay(confusion_matrix=confusion_matrix(y_test_l, y_pred_logreg),\n",
    "                      display_labels=['Highly Rated', 'Poorly Rated']);\n",
    "cmd.plot(cmap = 'GnBu')\n",
    "plt.title('Listings Logistic Regression Confusion Matrix')\n",
    "plt.tight_layout();"
   ]
  },
  {
   "cell_type": "code",
   "execution_count": 13,
   "id": "42ee91ae-9938-4221-8d2e-daa58e4758e5",
   "metadata": {},
   "outputs": [
    {
     "name": "stdout",
     "output_type": "stream",
     "text": [
      " Sensitivity: 0.0\n",
      " Specificity: 1.0\n",
      " Precision: nan\n"
     ]
    },
    {
     "name": "stderr",
     "output_type": "stream",
     "text": [
      "/var/folders/r1/szl7szs91f5bkjddv3cxyk8r0000gn/T/ipykernel_20638/1807635083.py:6: RuntimeWarning: invalid value encountered in long_scalars\n",
      "  print(f' Precision: {tp_lr/(tp_lr+fp_lr)}')\n"
     ]
    }
   ],
   "source": [
    "#Sensitivity \n",
    "print(f' Sensitivity: {tp_lr / (tp_lr+fn_lr)}')\n",
    "#Specificity\n",
    "print(f' Specificity: {tn_lr / (tn_lr+fp_lr)}')\n",
    "#Precision \n",
    "print(f' Precision: {tp_lr/(tp_lr+fp_lr)}')"
   ]
  },
  {
   "cell_type": "markdown",
   "id": "f530cb8e-53e9-4e32-9874-dff8ac023a3d",
   "metadata": {},
   "source": [
    "## K Neighbors Classifier"
   ]
  },
  {
   "cell_type": "code",
   "execution_count": 14,
   "id": "d1c71675-d7ab-4d4b-bdef-0b83d33c8571",
   "metadata": {},
   "outputs": [
    {
     "data": {
      "text/html": [
       "<style>#sk-container-id-2 {color: black;background-color: white;}#sk-container-id-2 pre{padding: 0;}#sk-container-id-2 div.sk-toggleable {background-color: white;}#sk-container-id-2 label.sk-toggleable__label {cursor: pointer;display: block;width: 100%;margin-bottom: 0;padding: 0.3em;box-sizing: border-box;text-align: center;}#sk-container-id-2 label.sk-toggleable__label-arrow:before {content: \"▸\";float: left;margin-right: 0.25em;color: #696969;}#sk-container-id-2 label.sk-toggleable__label-arrow:hover:before {color: black;}#sk-container-id-2 div.sk-estimator:hover label.sk-toggleable__label-arrow:before {color: black;}#sk-container-id-2 div.sk-toggleable__content {max-height: 0;max-width: 0;overflow: hidden;text-align: left;background-color: #f0f8ff;}#sk-container-id-2 div.sk-toggleable__content pre {margin: 0.2em;color: black;border-radius: 0.25em;background-color: #f0f8ff;}#sk-container-id-2 input.sk-toggleable__control:checked~div.sk-toggleable__content {max-height: 200px;max-width: 100%;overflow: auto;}#sk-container-id-2 input.sk-toggleable__control:checked~label.sk-toggleable__label-arrow:before {content: \"▾\";}#sk-container-id-2 div.sk-estimator input.sk-toggleable__control:checked~label.sk-toggleable__label {background-color: #d4ebff;}#sk-container-id-2 div.sk-label input.sk-toggleable__control:checked~label.sk-toggleable__label {background-color: #d4ebff;}#sk-container-id-2 input.sk-hidden--visually {border: 0;clip: rect(1px 1px 1px 1px);clip: rect(1px, 1px, 1px, 1px);height: 1px;margin: -1px;overflow: hidden;padding: 0;position: absolute;width: 1px;}#sk-container-id-2 div.sk-estimator {font-family: monospace;background-color: #f0f8ff;border: 1px dotted black;border-radius: 0.25em;box-sizing: border-box;margin-bottom: 0.5em;}#sk-container-id-2 div.sk-estimator:hover {background-color: #d4ebff;}#sk-container-id-2 div.sk-parallel-item::after {content: \"\";width: 100%;border-bottom: 1px solid gray;flex-grow: 1;}#sk-container-id-2 div.sk-label:hover label.sk-toggleable__label {background-color: #d4ebff;}#sk-container-id-2 div.sk-serial::before {content: \"\";position: absolute;border-left: 1px solid gray;box-sizing: border-box;top: 0;bottom: 0;left: 50%;z-index: 0;}#sk-container-id-2 div.sk-serial {display: flex;flex-direction: column;align-items: center;background-color: white;padding-right: 0.2em;padding-left: 0.2em;position: relative;}#sk-container-id-2 div.sk-item {position: relative;z-index: 1;}#sk-container-id-2 div.sk-parallel {display: flex;align-items: stretch;justify-content: center;background-color: white;position: relative;}#sk-container-id-2 div.sk-item::before, #sk-container-id-2 div.sk-parallel-item::before {content: \"\";position: absolute;border-left: 1px solid gray;box-sizing: border-box;top: 0;bottom: 0;left: 50%;z-index: -1;}#sk-container-id-2 div.sk-parallel-item {display: flex;flex-direction: column;z-index: 1;position: relative;background-color: white;}#sk-container-id-2 div.sk-parallel-item:first-child::after {align-self: flex-end;width: 50%;}#sk-container-id-2 div.sk-parallel-item:last-child::after {align-self: flex-start;width: 50%;}#sk-container-id-2 div.sk-parallel-item:only-child::after {width: 0;}#sk-container-id-2 div.sk-dashed-wrapped {border: 1px dashed gray;margin: 0 0.4em 0.5em 0.4em;box-sizing: border-box;padding-bottom: 0.4em;background-color: white;}#sk-container-id-2 div.sk-label label {font-family: monospace;font-weight: bold;display: inline-block;line-height: 1.2em;}#sk-container-id-2 div.sk-label-container {text-align: center;}#sk-container-id-2 div.sk-container {/* jupyter's `normalize.less` sets `[hidden] { display: none; }` but bootstrap.min.css set `[hidden] { display: none !important; }` so we also need the `!important` here to be able to override the default hidden behavior on the sphinx rendered scikit-learn.org. See: https://github.com/scikit-learn/scikit-learn/issues/21755 */display: inline-block !important;position: relative;}#sk-container-id-2 div.sk-text-repr-fallback {display: none;}</style><div id=\"sk-container-id-2\" class=\"sk-top-container\"><div class=\"sk-text-repr-fallback\"><pre>GridSearchCV(estimator=Pipeline(steps=[(&#x27;ss&#x27;, StandardScaler()),\n",
       "                                       (&#x27;knn&#x27;, KNeighborsClassifier())]),\n",
       "             n_jobs=-1,\n",
       "             param_grid={&#x27;knn__metric&#x27;: [&#x27;minkowski&#x27;, &#x27;euclidean&#x27;, &#x27;manhattan&#x27;],\n",
       "                         &#x27;knn__n_neighbors&#x27;: [3, 5, 7],\n",
       "                         &#x27;knn__weights&#x27;: [&#x27;uniform&#x27;, &#x27;distance&#x27;]})</pre><b>In a Jupyter environment, please rerun this cell to show the HTML representation or trust the notebook. <br />On GitHub, the HTML representation is unable to render, please try loading this page with nbviewer.org.</b></div><div class=\"sk-container\" hidden><div class=\"sk-item sk-dashed-wrapped\"><div class=\"sk-label-container\"><div class=\"sk-label sk-toggleable\"><input class=\"sk-toggleable__control sk-hidden--visually\" id=\"sk-estimator-id-2\" type=\"checkbox\" ><label for=\"sk-estimator-id-2\" class=\"sk-toggleable__label sk-toggleable__label-arrow\">GridSearchCV</label><div class=\"sk-toggleable__content\"><pre>GridSearchCV(estimator=Pipeline(steps=[(&#x27;ss&#x27;, StandardScaler()),\n",
       "                                       (&#x27;knn&#x27;, KNeighborsClassifier())]),\n",
       "             n_jobs=-1,\n",
       "             param_grid={&#x27;knn__metric&#x27;: [&#x27;minkowski&#x27;, &#x27;euclidean&#x27;, &#x27;manhattan&#x27;],\n",
       "                         &#x27;knn__n_neighbors&#x27;: [3, 5, 7],\n",
       "                         &#x27;knn__weights&#x27;: [&#x27;uniform&#x27;, &#x27;distance&#x27;]})</pre></div></div></div><div class=\"sk-parallel\"><div class=\"sk-parallel-item\"><div class=\"sk-item\"><div class=\"sk-label-container\"><div class=\"sk-label sk-toggleable\"><input class=\"sk-toggleable__control sk-hidden--visually\" id=\"sk-estimator-id-3\" type=\"checkbox\" ><label for=\"sk-estimator-id-3\" class=\"sk-toggleable__label sk-toggleable__label-arrow\">estimator: Pipeline</label><div class=\"sk-toggleable__content\"><pre>Pipeline(steps=[(&#x27;ss&#x27;, StandardScaler()), (&#x27;knn&#x27;, KNeighborsClassifier())])</pre></div></div></div><div class=\"sk-serial\"><div class=\"sk-item\"><div class=\"sk-serial\"><div class=\"sk-item\"><div class=\"sk-estimator sk-toggleable\"><input class=\"sk-toggleable__control sk-hidden--visually\" id=\"sk-estimator-id-4\" type=\"checkbox\" ><label for=\"sk-estimator-id-4\" class=\"sk-toggleable__label sk-toggleable__label-arrow\">StandardScaler</label><div class=\"sk-toggleable__content\"><pre>StandardScaler()</pre></div></div></div><div class=\"sk-item\"><div class=\"sk-estimator sk-toggleable\"><input class=\"sk-toggleable__control sk-hidden--visually\" id=\"sk-estimator-id-5\" type=\"checkbox\" ><label for=\"sk-estimator-id-5\" class=\"sk-toggleable__label sk-toggleable__label-arrow\">KNeighborsClassifier</label><div class=\"sk-toggleable__content\"><pre>KNeighborsClassifier()</pre></div></div></div></div></div></div></div></div></div></div></div></div>"
      ],
      "text/plain": [
       "GridSearchCV(estimator=Pipeline(steps=[('ss', StandardScaler()),\n",
       "                                       ('knn', KNeighborsClassifier())]),\n",
       "             n_jobs=-1,\n",
       "             param_grid={'knn__metric': ['minkowski', 'euclidean', 'manhattan'],\n",
       "                         'knn__n_neighbors': [3, 5, 7],\n",
       "                         'knn__weights': ['uniform', 'distance']})"
      ]
     },
     "execution_count": 14,
     "metadata": {},
     "output_type": "execute_result"
    }
   ],
   "source": [
    "pipe_cvec_knn = Pipeline([\n",
    "    ('ss', StandardScaler(with_mean = True)),\n",
    "    ('knn', KNeighborsClassifier())\n",
    "])\n",
    "\n",
    "pipe_cvec_knn_params = {\n",
    "    'knn__n_neighbors': [3, 5, 7],\n",
    "    'knn__weights': ['uniform', 'distance'],\n",
    "    'knn__metric': ['minkowski', 'euclidean', 'manhattan']\n",
    "    \n",
    "}\n",
    "\n",
    "gs_cvec_knn = GridSearchCV(pipe_cvec_knn, pipe_cvec_knn_params, n_jobs = -1)\n",
    "gs_cvec_knn.fit(X_train_l, y_train_l)"
   ]
  },
  {
   "cell_type": "code",
   "execution_count": 15,
   "id": "579f657b-5d33-46a9-9772-98aa11065694",
   "metadata": {},
   "outputs": [
    {
     "name": "stdout",
     "output_type": "stream",
     "text": [
      " Train accuracy: 1.0, Test accuracy: 0.6687898089171974\n"
     ]
    }
   ],
   "source": [
    "print(f' Train accuracy: {gs_cvec_knn.score(X_train_l, y_train_l)}, Test accuracy: {gs_cvec_knn.score(X_test_l, y_test_l)}')"
   ]
  },
  {
   "cell_type": "code",
   "execution_count": 16,
   "id": "53fcaa85-6ffe-4366-9e96-81dca75ac0ef",
   "metadata": {},
   "outputs": [
    {
     "data": {
      "text/plain": [
       "{'knn__metric': 'manhattan', 'knn__n_neighbors': 5, 'knn__weights': 'distance'}"
      ]
     },
     "execution_count": 16,
     "metadata": {},
     "output_type": "execute_result"
    }
   ],
   "source": [
    "gs_cvec_knn.best_params_"
   ]
  },
  {
   "cell_type": "code",
   "execution_count": 17,
   "id": "3431c021-7f85-49d0-a6c6-2d5a5704ed08",
   "metadata": {},
   "outputs": [],
   "source": [
    "y_pred_knn = gs_cvec_knn.predict(X_test_l)"
   ]
  },
  {
   "cell_type": "code",
   "execution_count": 18,
   "id": "cf1603ab-3055-4266-ad04-5d3f4cee9892",
   "metadata": {},
   "outputs": [],
   "source": [
    "tn_knn, fp_knn, fn_knn, tp_knn = confusion_matrix(y_test_l, y_pred_knn).ravel()"
   ]
  },
  {
   "cell_type": "code",
   "execution_count": 19,
   "id": "3eaab75c-0afb-45d1-b059-f49549b0adeb",
   "metadata": {},
   "outputs": [
    {
     "data": {
      "image/png": "[encoded data removed]",
      "text/plain": [
       "<Figure size 432x288 with 2 Axes>"
      ]
     },
     "metadata": {
      "needs_background": "light"
     },
     "output_type": "display_data"
    }
   ],
   "source": [
    "cmd = ConfusionMatrixDisplay(confusion_matrix=confusion_matrix(y_test_l, y_pred_knn),\n",
    "                      display_labels=['Highly Rated', 'Poorly Rated']);\n",
    "cmd.plot(cmap = 'GnBu')\n",
    "plt.title('Listings KNN Confusion Matrix')\n",
    "plt.tight_layout();"
   ]
  },
  {
   "cell_type": "code",
   "execution_count": 20,
   "id": "3d7545a2-6484-4c2c-9c32-c3e7a163e75c",
   "metadata": {},
   "outputs": [
    {
     "name": "stdout",
     "output_type": "stream",
     "text": [
      " Sensitivity: 0.6923076923076923\n",
      " Specificity: 0.6435643564356436\n",
      " Precision: 0.6756756756756757\n"
     ]
    }
   ],
   "source": [
    "#Sensitivity \n",
    "print(f' Sensitivity: {tp_knn / (tp_knn+fn_knn)}')\n",
    "#Specificity\n",
    "print(f' Specificity: {tn_knn / (tn_knn+fp_knn)}')\n",
    "#Precision \n",
    "print(f' Precision: {tp_knn/(tp_knn+fp_knn)}')"
   ]
  },
  {
   "cell_type": "markdown",
   "id": "5ac9a101-944a-43d3-98dc-21df00e40ca2",
   "metadata": {},
   "source": [
    "## Decision Tree Classifier"
   ]
  },
  {
   "cell_type": "code",
   "execution_count": 21,
   "id": "f0c880ff-0053-4fa3-b489-a0d74a44e3a0",
   "metadata": {},
   "outputs": [
    {
     "data": {
      "text/html": [
       "<style>#sk-container-id-3 {color: black;background-color: white;}#sk-container-id-3 pre{padding: 0;}#sk-container-id-3 div.sk-toggleable {background-color: white;}#sk-container-id-3 label.sk-toggleable__label {cursor: pointer;display: block;width: 100%;margin-bottom: 0;padding: 0.3em;box-sizing: border-box;text-align: center;}#sk-container-id-3 label.sk-toggleable__label-arrow:before {content: \"▸\";float: left;margin-right: 0.25em;color: #696969;}#sk-container-id-3 label.sk-toggleable__label-arrow:hover:before {color: black;}#sk-container-id-3 div.sk-estimator:hover label.sk-toggleable__label-arrow:before {color: black;}#sk-container-id-3 div.sk-toggleable__content {max-height: 0;max-width: 0;overflow: hidden;text-align: left;background-color: #f0f8ff;}#sk-container-id-3 div.sk-toggleable__content pre {margin: 0.2em;color: black;border-radius: 0.25em;background-color: #f0f8ff;}#sk-container-id-3 input.sk-toggleable__control:checked~div.sk-toggleable__content {max-height: 200px;max-width: 100%;overflow: auto;}#sk-container-id-3 input.sk-toggleable__control:checked~label.sk-toggleable__label-arrow:before {content: \"▾\";}#sk-container-id-3 div.sk-estimator input.sk-toggleable__control:checked~label.sk-toggleable__label {background-color: #d4ebff;}#sk-container-id-3 div.sk-label input.sk-toggleable__control:checked~label.sk-toggleable__label {background-color: #d4ebff;}#sk-container-id-3 input.sk-hidden--visually {border: 0;clip: rect(1px 1px 1px 1px);clip: rect(1px, 1px, 1px, 1px);height: 1px;margin: -1px;overflow: hidden;padding: 0;position: absolute;width: 1px;}#sk-container-id-3 div.sk-estimator {font-family: monospace;background-color: #f0f8ff;border: 1px dotted black;border-radius: 0.25em;box-sizing: border-box;margin-bottom: 0.5em;}#sk-container-id-3 div.sk-estimator:hover {background-color: #d4ebff;}#sk-container-id-3 div.sk-parallel-item::after {content: \"\";width: 100%;border-bottom: 1px solid gray;flex-grow: 1;}#sk-container-id-3 div.sk-label:hover label.sk-toggleable__label {background-color: #d4ebff;}#sk-container-id-3 div.sk-serial::before {content: \"\";position: absolute;border-left: 1px solid gray;box-sizing: border-box;top: 0;bottom: 0;left: 50%;z-index: 0;}#sk-container-id-3 div.sk-serial {display: flex;flex-direction: column;align-items: center;background-color: white;padding-right: 0.2em;padding-left: 0.2em;position: relative;}#sk-container-id-3 div.sk-item {position: relative;z-index: 1;}#sk-container-id-3 div.sk-parallel {display: flex;align-items: stretch;justify-content: center;background-color: white;position: relative;}#sk-container-id-3 div.sk-item::before, #sk-container-id-3 div.sk-parallel-item::before {content: \"\";position: absolute;border-left: 1px solid gray;box-sizing: border-box;top: 0;bottom: 0;left: 50%;z-index: -1;}#sk-container-id-3 div.sk-parallel-item {display: flex;flex-direction: column;z-index: 1;position: relative;background-color: white;}#sk-container-id-3 div.sk-parallel-item:first-child::after {align-self: flex-end;width: 50%;}#sk-container-id-3 div.sk-parallel-item:last-child::after {align-self: flex-start;width: 50%;}#sk-container-id-3 div.sk-parallel-item:only-child::after {width: 0;}#sk-container-id-3 div.sk-dashed-wrapped {border: 1px dashed gray;margin: 0 0.4em 0.5em 0.4em;box-sizing: border-box;padding-bottom: 0.4em;background-color: white;}#sk-container-id-3 div.sk-label label {font-family: monospace;font-weight: bold;display: inline-block;line-height: 1.2em;}#sk-container-id-3 div.sk-label-container {text-align: center;}#sk-container-id-3 div.sk-container {/* jupyter's `normalize.less` sets `[hidden] { display: none; }` but bootstrap.min.css set `[hidden] { display: none !important; }` so we also need the `!important` here to be able to override the default hidden behavior on the sphinx rendered scikit-learn.org. See: https://github.com/scikit-learn/scikit-learn/issues/21755 */display: inline-block !important;position: relative;}#sk-container-id-3 div.sk-text-repr-fallback {display: none;}</style><div id=\"sk-container-id-3\" class=\"sk-top-container\"><div class=\"sk-text-repr-fallback\"><pre>GridSearchCV(estimator=Pipeline(steps=[(&#x27;dt&#x27;,\n",
       "                                        DecisionTreeClassifier(random_state=222))]),\n",
       "             n_jobs=-1,\n",
       "             param_grid={&#x27;dt__max_depth&#x27;: [3, 5, 8],\n",
       "                         &#x27;dt__min_samples_leaf&#x27;: [1, 2, 5]})</pre><b>In a Jupyter environment, please rerun this cell to show the HTML representation or trust the notebook. <br />On GitHub, the HTML representation is unable to render, please try loading this page with nbviewer.org.</b></div><div class=\"sk-container\" hidden><div class=\"sk-item sk-dashed-wrapped\"><div class=\"sk-label-container\"><div class=\"sk-label sk-toggleable\"><input class=\"sk-toggleable__control sk-hidden--visually\" id=\"sk-estimator-id-6\" type=\"checkbox\" ><label for=\"sk-estimator-id-6\" class=\"sk-toggleable__label sk-toggleable__label-arrow\">GridSearchCV</label><div class=\"sk-toggleable__content\"><pre>GridSearchCV(estimator=Pipeline(steps=[(&#x27;dt&#x27;,\n",
       "                                        DecisionTreeClassifier(random_state=222))]),\n",
       "             n_jobs=-1,\n",
       "             param_grid={&#x27;dt__max_depth&#x27;: [3, 5, 8],\n",
       "                         &#x27;dt__min_samples_leaf&#x27;: [1, 2, 5]})</pre></div></div></div><div class=\"sk-parallel\"><div class=\"sk-parallel-item\"><div class=\"sk-item\"><div class=\"sk-label-container\"><div class=\"sk-label sk-toggleable\"><input class=\"sk-toggleable__control sk-hidden--visually\" id=\"sk-estimator-id-7\" type=\"checkbox\" ><label for=\"sk-estimator-id-7\" class=\"sk-toggleable__label sk-toggleable__label-arrow\">estimator: Pipeline</label><div class=\"sk-toggleable__content\"><pre>Pipeline(steps=[(&#x27;dt&#x27;, DecisionTreeClassifier(random_state=222))])</pre></div></div></div><div class=\"sk-serial\"><div class=\"sk-item\"><div class=\"sk-serial\"><div class=\"sk-item\"><div class=\"sk-estimator sk-toggleable\"><input class=\"sk-toggleable__control sk-hidden--visually\" id=\"sk-estimator-id-8\" type=\"checkbox\" ><label for=\"sk-estimator-id-8\" class=\"sk-toggleable__label sk-toggleable__label-arrow\">DecisionTreeClassifier</label><div class=\"sk-toggleable__content\"><pre>DecisionTreeClassifier(random_state=222)</pre></div></div></div></div></div></div></div></div></div></div></div></div>"
      ],
      "text/plain": [
       "GridSearchCV(estimator=Pipeline(steps=[('dt',\n",
       "                                        DecisionTreeClassifier(random_state=222))]),\n",
       "             n_jobs=-1,\n",
       "             param_grid={'dt__max_depth': [3, 5, 8],\n",
       "                         'dt__min_samples_leaf': [1, 2, 5]})"
      ]
     },
     "execution_count": 21,
     "metadata": {},
     "output_type": "execute_result"
    }
   ],
   "source": [
    "pipe_cvec_dt = Pipeline([\n",
    "    ('dt', DecisionTreeClassifier(random_state = 222))\n",
    "])\n",
    "\n",
    "pipe_cvec_dt_params = {\n",
    "    'dt__max_depth': [3, 5, 8],\n",
    "    'dt__min_samples_leaf': [1, 2, 5]\n",
    "    \n",
    "}\n",
    "\n",
    "gs_cvec_dt = GridSearchCV(pipe_cvec_dt, pipe_cvec_dt_params, n_jobs = -1)\n",
    "gs_cvec_dt.fit(X_train_l, y_train_l)\n"
   ]
  },
  {
   "cell_type": "code",
   "execution_count": 22,
   "id": "52c64942-0066-497c-9d93-e13c933a30cc",
   "metadata": {},
   "outputs": [
    {
     "name": "stdout",
     "output_type": "stream",
     "text": [
      " Train accuracy: 0.7906482465462275, Test accuracy: 0.6496815286624203\n"
     ]
    }
   ],
   "source": [
    "print(f' Train accuracy: {gs_cvec_dt.score(X_train_l, y_train_l)}, Test accuracy: {gs_cvec_dt.score(X_test_l, y_test_l)}')"
   ]
  },
  {
   "cell_type": "code",
   "execution_count": 23,
   "id": "a89ce56a-4d27-4118-ab45-f6c3c0d20c3b",
   "metadata": {},
   "outputs": [
    {
     "data": {
      "text/plain": [
       "{'dt__max_depth': 8, 'dt__min_samples_leaf': 5}"
      ]
     },
     "execution_count": 23,
     "metadata": {},
     "output_type": "execute_result"
    }
   ],
   "source": [
    "gs_cvec_dt.best_params_"
   ]
  },
  {
   "cell_type": "code",
   "execution_count": 24,
   "id": "0a8b4abd-48d9-40cb-975d-635ded7a1dfb",
   "metadata": {},
   "outputs": [],
   "source": [
    "y_pred_dt = gs_cvec_dt.predict(X_test_l)"
   ]
  },
  {
   "cell_type": "code",
   "execution_count": 25,
   "id": "40c90bed-405c-46f0-b746-4aa0e7896119",
   "metadata": {},
   "outputs": [],
   "source": [
    "tn_dt, fp_dt, fn_dt, tp_dt = confusion_matrix(y_test_l, y_pred_dt).ravel()"
   ]
  },
  {
   "cell_type": "code",
   "execution_count": 26,
   "id": "e2e33f41-d587-4318-9559-9bc38c62e19c",
   "metadata": {},
   "outputs": [
    {
     "data": {
      "image/png": "[encoded data removed]",
      "text/plain": [
       "<Figure size 432x288 with 2 Axes>"
      ]
     },
     "metadata": {
      "needs_background": "light"
     },
     "output_type": "display_data"
    }
   ],
   "source": [
    "cmd = ConfusionMatrixDisplay(confusion_matrix=confusion_matrix(y_test_l, y_pred_dt),\n",
    "                      display_labels=['Highly Rated', 'Poorly Rated']);\n",
    "cmd.plot(cmap = 'GnBu')\n",
    "plt.title('Listings Decision Tree Confusion Matrix')\n",
    "plt.tight_layout();"
   ]
  },
  {
   "cell_type": "code",
   "execution_count": 27,
   "id": "2754bd99-e358-41f8-b5d2-d95a58913730",
   "metadata": {},
   "outputs": [
    {
     "name": "stdout",
     "output_type": "stream",
     "text": [
      " Sensitivity: 0.5846153846153846\n",
      " Specificity: 0.7194719471947195\n",
      " Precision: 0.6909090909090909\n"
     ]
    }
   ],
   "source": [
    "#Sensitivity \n",
    "print(f' Sensitivity: {tp_dt / (tp_dt+fn_dt)}')\n",
    "#Specificity\n",
    "print(f' Specificity: {tn_dt / (tn_dt+fp_dt)}')\n",
    "#Precision \n",
    "print(f' Precision: {tp_dt/(tp_dt+fp_dt)}')"
   ]
  },
  {
   "cell_type": "markdown",
   "id": "40e16206-ebfa-4893-9052-bf21dd315d87",
   "metadata": {},
   "source": [
    "## Random Forests Classifier"
   ]
  },
  {
   "cell_type": "code",
   "execution_count": 28,
   "id": "045d4ff1-67ce-4723-8e7d-81ded8917fc5",
   "metadata": {},
   "outputs": [
    {
     "data": {
      "text/html": [
       "<style>#sk-container-id-4 {color: black;background-color: white;}#sk-container-id-4 pre{padding: 0;}#sk-container-id-4 div.sk-toggleable {background-color: white;}#sk-container-id-4 label.sk-toggleable__label {cursor: pointer;display: block;width: 100%;margin-bottom: 0;padding: 0.3em;box-sizing: border-box;text-align: center;}#sk-container-id-4 label.sk-toggleable__label-arrow:before {content: \"▸\";float: left;margin-right: 0.25em;color: #696969;}#sk-container-id-4 label.sk-toggleable__label-arrow:hover:before {color: black;}#sk-container-id-4 div.sk-estimator:hover label.sk-toggleable__label-arrow:before {color: black;}#sk-container-id-4 div.sk-toggleable__content {max-height: 0;max-width: 0;overflow: hidden;text-align: left;background-color: #f0f8ff;}#sk-container-id-4 div.sk-toggleable__content pre {margin: 0.2em;color: black;border-radius: 0.25em;background-color: #f0f8ff;}#sk-container-id-4 input.sk-toggleable__control:checked~div.sk-toggleable__content {max-height: 200px;max-width: 100%;overflow: auto;}#sk-container-id-4 input.sk-toggleable__control:checked~label.sk-toggleable__label-arrow:before {content: \"▾\";}#sk-container-id-4 div.sk-estimator input.sk-toggleable__control:checked~label.sk-toggleable__label {background-color: #d4ebff;}#sk-container-id-4 div.sk-label input.sk-toggleable__control:checked~label.sk-toggleable__label {background-color: #d4ebff;}#sk-container-id-4 input.sk-hidden--visually {border: 0;clip: rect(1px 1px 1px 1px);clip: rect(1px, 1px, 1px, 1px);height: 1px;margin: -1px;overflow: hidden;padding: 0;position: absolute;width: 1px;}#sk-container-id-4 div.sk-estimator {font-family: monospace;background-color: #f0f8ff;border: 1px dotted black;border-radius: 0.25em;box-sizing: border-box;margin-bottom: 0.5em;}#sk-container-id-4 div.sk-estimator:hover {background-color: #d4ebff;}#sk-container-id-4 div.sk-parallel-item::after {content: \"\";width: 100%;border-bottom: 1px solid gray;flex-grow: 1;}#sk-container-id-4 div.sk-label:hover label.sk-toggleable__label {background-color: #d4ebff;}#sk-container-id-4 div.sk-serial::before {content: \"\";position: absolute;border-left: 1px solid gray;box-sizing: border-box;top: 0;bottom: 0;left: 50%;z-index: 0;}#sk-container-id-4 div.sk-serial {display: flex;flex-direction: column;align-items: center;background-color: white;padding-right: 0.2em;padding-left: 0.2em;position: relative;}#sk-container-id-4 div.sk-item {position: relative;z-index: 1;}#sk-container-id-4 div.sk-parallel {display: flex;align-items: stretch;justify-content: center;background-color: white;position: relative;}#sk-container-id-4 div.sk-item::before, #sk-container-id-4 div.sk-parallel-item::before {content: \"\";position: absolute;border-left: 1px solid gray;box-sizing: border-box;top: 0;bottom: 0;left: 50%;z-index: -1;}#sk-container-id-4 div.sk-parallel-item {display: flex;flex-direction: column;z-index: 1;position: relative;background-color: white;}#sk-container-id-4 div.sk-parallel-item:first-child::after {align-self: flex-end;width: 50%;}#sk-container-id-4 div.sk-parallel-item:last-child::after {align-self: flex-start;width: 50%;}#sk-container-id-4 div.sk-parallel-item:only-child::after {width: 0;}#sk-container-id-4 div.sk-dashed-wrapped {border: 1px dashed gray;margin: 0 0.4em 0.5em 0.4em;box-sizing: border-box;padding-bottom: 0.4em;background-color: white;}#sk-container-id-4 div.sk-label label {font-family: monospace;font-weight: bold;display: inline-block;line-height: 1.2em;}#sk-container-id-4 div.sk-label-container {text-align: center;}#sk-container-id-4 div.sk-container {/* jupyter's `normalize.less` sets `[hidden] { display: none; }` but bootstrap.min.css set `[hidden] { display: none !important; }` so we also need the `!important` here to be able to override the default hidden behavior on the sphinx rendered scikit-learn.org. See: https://github.com/scikit-learn/scikit-learn/issues/21755 */display: inline-block !important;position: relative;}#sk-container-id-4 div.sk-text-repr-fallback {display: none;}</style><div id=\"sk-container-id-4\" class=\"sk-top-container\"><div class=\"sk-text-repr-fallback\"><pre>GridSearchCV(estimator=Pipeline(steps=[(&#x27;rf&#x27;,\n",
       "                                        RandomForestClassifier(random_state=222))]),\n",
       "             n_jobs=-1,\n",
       "             param_grid={&#x27;rf__max_depth&#x27;: [3, 5, 8],\n",
       "                         &#x27;rf__min_samples_leaf&#x27;: [1, 2, 5],\n",
       "                         &#x27;rf__n_estimators&#x27;: [100, 125, 150]})</pre><b>In a Jupyter environment, please rerun this cell to show the HTML representation or trust the notebook. <br />On GitHub, the HTML representation is unable to render, please try loading this page with nbviewer.org.</b></div><div class=\"sk-container\" hidden><div class=\"sk-item sk-dashed-wrapped\"><div class=\"sk-label-container\"><div class=\"sk-label sk-toggleable\"><input class=\"sk-toggleable__control sk-hidden--visually\" id=\"sk-estimator-id-9\" type=\"checkbox\" ><label for=\"sk-estimator-id-9\" class=\"sk-toggleable__label sk-toggleable__label-arrow\">GridSearchCV</label><div class=\"sk-toggleable__content\"><pre>GridSearchCV(estimator=Pipeline(steps=[(&#x27;rf&#x27;,\n",
       "                                        RandomForestClassifier(random_state=222))]),\n",
       "             n_jobs=-1,\n",
       "             param_grid={&#x27;rf__max_depth&#x27;: [3, 5, 8],\n",
       "                         &#x27;rf__min_samples_leaf&#x27;: [1, 2, 5],\n",
       "                         &#x27;rf__n_estimators&#x27;: [100, 125, 150]})</pre></div></div></div><div class=\"sk-parallel\"><div class=\"sk-parallel-item\"><div class=\"sk-item\"><div class=\"sk-label-container\"><div class=\"sk-label sk-toggleable\"><input class=\"sk-toggleable__control sk-hidden--visually\" id=\"sk-estimator-id-10\" type=\"checkbox\" ><label for=\"sk-estimator-id-10\" class=\"sk-toggleable__label sk-toggleable__label-arrow\">estimator: Pipeline</label><div class=\"sk-toggleable__content\"><pre>Pipeline(steps=[(&#x27;rf&#x27;, RandomForestClassifier(random_state=222))])</pre></div></div></div><div class=\"sk-serial\"><div class=\"sk-item\"><div class=\"sk-serial\"><div class=\"sk-item\"><div class=\"sk-estimator sk-toggleable\"><input class=\"sk-toggleable__control sk-hidden--visually\" id=\"sk-estimator-id-11\" type=\"checkbox\" ><label for=\"sk-estimator-id-11\" class=\"sk-toggleable__label sk-toggleable__label-arrow\">RandomForestClassifier</label><div class=\"sk-toggleable__content\"><pre>RandomForestClassifier(random_state=222)</pre></div></div></div></div></div></div></div></div></div></div></div></div>"
      ],
      "text/plain": [
       "GridSearchCV(estimator=Pipeline(steps=[('rf',\n",
       "                                        RandomForestClassifier(random_state=222))]),\n",
       "             n_jobs=-1,\n",
       "             param_grid={'rf__max_depth': [3, 5, 8],\n",
       "                         'rf__min_samples_leaf': [1, 2, 5],\n",
       "                         'rf__n_estimators': [100, 125, 150]})"
      ]
     },
     "execution_count": 28,
     "metadata": {},
     "output_type": "execute_result"
    }
   ],
   "source": [
    "pipe_cvec_rf = Pipeline([\n",
    "    ('rf', RandomForestClassifier(random_state =222))\n",
    "])\n",
    "\n",
    "pipe_cvec_rf_params = {\n",
    "    'rf__n_estimators': [100, 125, 150],\n",
    "    'rf__max_depth': [3, 5, 8],\n",
    "    'rf__min_samples_leaf': [1, 2, 5]\n",
    "    \n",
    "}\n",
    "\n",
    "gs_cvec_rf = GridSearchCV(pipe_cvec_rf, pipe_cvec_rf_params, n_jobs = -1)\n",
    "gs_cvec_rf.fit(X_train_l, y_train_l)"
   ]
  },
  {
   "cell_type": "code",
   "execution_count": 29,
   "id": "9e31e188-c3c9-4c84-8b0a-27fb82ce9415",
   "metadata": {},
   "outputs": [
    {
     "name": "stdout",
     "output_type": "stream",
     "text": [
      " Train accuracy: 0.78586609989373, Test accuracy: 0.6990445859872612\n"
     ]
    }
   ],
   "source": [
    "print(f' Train accuracy: {gs_cvec_rf.score(X_train_l, y_train_l)}, Test accuracy: {gs_cvec_rf.score(X_test_l, y_test_l)}')"
   ]
  },
  {
   "cell_type": "code",
   "execution_count": 30,
   "id": "a645e4da-404d-4720-8141-b7cf4ca3879e",
   "metadata": {},
   "outputs": [
    {
     "data": {
      "text/plain": [
       "{'rf__max_depth': 8, 'rf__min_samples_leaf': 2, 'rf__n_estimators': 100}"
      ]
     },
     "execution_count": 30,
     "metadata": {},
     "output_type": "execute_result"
    }
   ],
   "source": [
    "gs_cvec_rf.best_params_"
   ]
  },
  {
   "cell_type": "code",
   "execution_count": 31,
   "id": "96d30c7d-b360-4378-b7a5-06da2ce43047",
   "metadata": {},
   "outputs": [],
   "source": [
    "y_pred_rf = gs_cvec_rf.predict(X_test_l)"
   ]
  },
  {
   "cell_type": "code",
   "execution_count": 32,
   "id": "8bae5edf-6118-47d2-9bce-824ad93c5fab",
   "metadata": {},
   "outputs": [],
   "source": [
    "tn_rf, fp_rf, fn_rf, tp_rf = confusion_matrix(y_test_l, y_pred_rf).ravel()"
   ]
  },
  {
   "cell_type": "code",
   "execution_count": 33,
   "id": "166ab9dd-6069-4e72-85c2-fd8d1bcfb841",
   "metadata": {},
   "outputs": [
    {
     "data": {
      "image/png": "[encoded data removed]",
      "text/plain": [
       "<Figure size 432x288 with 2 Axes>"
      ]
     },
     "metadata": {
      "needs_background": "light"
     },
     "output_type": "display_data"
    }
   ],
   "source": [
    "cmd = ConfusionMatrixDisplay(confusion_matrix=confusion_matrix(y_test_l, y_pred_rf),\n",
    "                      display_labels=['Highly Rated', 'Poorly Rated']);\n",
    "cmd.plot(cmap = 'GnBu')\n",
    "plt.title('Listings Random Forests Confusion Matrix')\n",
    "plt.tight_layout();"
   ]
  },
  {
   "cell_type": "code",
   "execution_count": 34,
   "id": "e23c36c7-2473-4c84-b971-1a07e2b9a155",
   "metadata": {},
   "outputs": [
    {
     "name": "stdout",
     "output_type": "stream",
     "text": [
      " Sensitivity: 0.7169230769230769\n",
      " Specificity: 0.6798679867986799\n",
      " Precision: 0.706060606060606\n"
     ]
    }
   ],
   "source": [
    "#Sensitivity \n",
    "print(f' Sensitivity: {tp_rf / (tp_rf+fn_rf)}')\n",
    "#Specificity\n",
    "print(f' Specificity: {tn_rf / (tn_rf+fp_rf)}')\n",
    "#Precision \n",
    "print(f' Precision: {tp_rf/(tp_rf+fp_rf)}')"
   ]
  },
  {
   "cell_type": "markdown",
   "id": "38dd2438-c5f0-475a-aea3-56ccb3394d5b",
   "metadata": {},
   "source": [
    "## AdaBoost Classifier"
   ]
  },
  {
   "cell_type": "code",
   "execution_count": 35,
   "id": "1fe14151-8503-4a16-97f4-d165acc7e3e4",
   "metadata": {},
   "outputs": [
    {
     "data": {
      "text/html": [
       "<style>#sk-container-id-5 {color: black;background-color: white;}#sk-container-id-5 pre{padding: 0;}#sk-container-id-5 div.sk-toggleable {background-color: white;}#sk-container-id-5 label.sk-toggleable__label {cursor: pointer;display: block;width: 100%;margin-bottom: 0;padding: 0.3em;box-sizing: border-box;text-align: center;}#sk-container-id-5 label.sk-toggleable__label-arrow:before {content: \"▸\";float: left;margin-right: 0.25em;color: #696969;}#sk-container-id-5 label.sk-toggleable__label-arrow:hover:before {color: black;}#sk-container-id-5 div.sk-estimator:hover label.sk-toggleable__label-arrow:before {color: black;}#sk-container-id-5 div.sk-toggleable__content {max-height: 0;max-width: 0;overflow: hidden;text-align: left;background-color: #f0f8ff;}#sk-container-id-5 div.sk-toggleable__content pre {margin: 0.2em;color: black;border-radius: 0.25em;background-color: #f0f8ff;}#sk-container-id-5 input.sk-toggleable__control:checked~div.sk-toggleable__content {max-height: 200px;max-width: 100%;overflow: auto;}#sk-container-id-5 input.sk-toggleable__control:checked~label.sk-toggleable__label-arrow:before {content: \"▾\";}#sk-container-id-5 div.sk-estimator input.sk-toggleable__control:checked~label.sk-toggleable__label {background-color: #d4ebff;}#sk-container-id-5 div.sk-label input.sk-toggleable__control:checked~label.sk-toggleable__label {background-color: #d4ebff;}#sk-container-id-5 input.sk-hidden--visually {border: 0;clip: rect(1px 1px 1px 1px);clip: rect(1px, 1px, 1px, 1px);height: 1px;margin: -1px;overflow: hidden;padding: 0;position: absolute;width: 1px;}#sk-container-id-5 div.sk-estimator {font-family: monospace;background-color: #f0f8ff;border: 1px dotted black;border-radius: 0.25em;box-sizing: border-box;margin-bottom: 0.5em;}#sk-container-id-5 div.sk-estimator:hover {background-color: #d4ebff;}#sk-container-id-5 div.sk-parallel-item::after {content: \"\";width: 100%;border-bottom: 1px solid gray;flex-grow: 1;}#sk-container-id-5 div.sk-label:hover label.sk-toggleable__label {background-color: #d4ebff;}#sk-container-id-5 div.sk-serial::before {content: \"\";position: absolute;border-left: 1px solid gray;box-sizing: border-box;top: 0;bottom: 0;left: 50%;z-index: 0;}#sk-container-id-5 div.sk-serial {display: flex;flex-direction: column;align-items: center;background-color: white;padding-right: 0.2em;padding-left: 0.2em;position: relative;}#sk-container-id-5 div.sk-item {position: relative;z-index: 1;}#sk-container-id-5 div.sk-parallel {display: flex;align-items: stretch;justify-content: center;background-color: white;position: relative;}#sk-container-id-5 div.sk-item::before, #sk-container-id-5 div.sk-parallel-item::before {content: \"\";position: absolute;border-left: 1px solid gray;box-sizing: border-box;top: 0;bottom: 0;left: 50%;z-index: -1;}#sk-container-id-5 div.sk-parallel-item {display: flex;flex-direction: column;z-index: 1;position: relative;background-color: white;}#sk-container-id-5 div.sk-parallel-item:first-child::after {align-self: flex-end;width: 50%;}#sk-container-id-5 div.sk-parallel-item:last-child::after {align-self: flex-start;width: 50%;}#sk-container-id-5 div.sk-parallel-item:only-child::after {width: 0;}#sk-container-id-5 div.sk-dashed-wrapped {border: 1px dashed gray;margin: 0 0.4em 0.5em 0.4em;box-sizing: border-box;padding-bottom: 0.4em;background-color: white;}#sk-container-id-5 div.sk-label label {font-family: monospace;font-weight: bold;display: inline-block;line-height: 1.2em;}#sk-container-id-5 div.sk-label-container {text-align: center;}#sk-container-id-5 div.sk-container {/* jupyter's `normalize.less` sets `[hidden] { display: none; }` but bootstrap.min.css set `[hidden] { display: none !important; }` so we also need the `!important` here to be able to override the default hidden behavior on the sphinx rendered scikit-learn.org. See: https://github.com/scikit-learn/scikit-learn/issues/21755 */display: inline-block !important;position: relative;}#sk-container-id-5 div.sk-text-repr-fallback {display: none;}</style><div id=\"sk-container-id-5\" class=\"sk-top-container\"><div class=\"sk-text-repr-fallback\"><pre>GridSearchCV(estimator=Pipeline(steps=[(&#x27;ada&#x27;,\n",
       "                                        AdaBoostClassifier(random_state=222))]),\n",
       "             n_jobs=-1,\n",
       "             param_grid={&#x27;ada__learning_rate&#x27;: [1.0, 1.5],\n",
       "                         &#x27;ada__n_estimators&#x27;: [100, 125, 150]})</pre><b>In a Jupyter environment, please rerun this cell to show the HTML representation or trust the notebook. <br />On GitHub, the HTML representation is unable to render, please try loading this page with nbviewer.org.</b></div><div class=\"sk-container\" hidden><div class=\"sk-item sk-dashed-wrapped\"><div class=\"sk-label-container\"><div class=\"sk-label sk-toggleable\"><input class=\"sk-toggleable__control sk-hidden--visually\" id=\"sk-estimator-id-12\" type=\"checkbox\" ><label for=\"sk-estimator-id-12\" class=\"sk-toggleable__label sk-toggleable__label-arrow\">GridSearchCV</label><div class=\"sk-toggleable__content\"><pre>GridSearchCV(estimator=Pipeline(steps=[(&#x27;ada&#x27;,\n",
       "                                        AdaBoostClassifier(random_state=222))]),\n",
       "             n_jobs=-1,\n",
       "             param_grid={&#x27;ada__learning_rate&#x27;: [1.0, 1.5],\n",
       "                         &#x27;ada__n_estimators&#x27;: [100, 125, 150]})</pre></div></div></div><div class=\"sk-parallel\"><div class=\"sk-parallel-item\"><div class=\"sk-item\"><div class=\"sk-label-container\"><div class=\"sk-label sk-toggleable\"><input class=\"sk-toggleable__control sk-hidden--visually\" id=\"sk-estimator-id-13\" type=\"checkbox\" ><label for=\"sk-estimator-id-13\" class=\"sk-toggleable__label sk-toggleable__label-arrow\">estimator: Pipeline</label><div class=\"sk-toggleable__content\"><pre>Pipeline(steps=[(&#x27;ada&#x27;, AdaBoostClassifier(random_state=222))])</pre></div></div></div><div class=\"sk-serial\"><div class=\"sk-item\"><div class=\"sk-serial\"><div class=\"sk-item\"><div class=\"sk-estimator sk-toggleable\"><input class=\"sk-toggleable__control sk-hidden--visually\" id=\"sk-estimator-id-14\" type=\"checkbox\" ><label for=\"sk-estimator-id-14\" class=\"sk-toggleable__label sk-toggleable__label-arrow\">AdaBoostClassifier</label><div class=\"sk-toggleable__content\"><pre>AdaBoostClassifier(random_state=222)</pre></div></div></div></div></div></div></div></div></div></div></div></div>"
      ],
      "text/plain": [
       "GridSearchCV(estimator=Pipeline(steps=[('ada',\n",
       "                                        AdaBoostClassifier(random_state=222))]),\n",
       "             n_jobs=-1,\n",
       "             param_grid={'ada__learning_rate': [1.0, 1.5],\n",
       "                         'ada__n_estimators': [100, 125, 150]})"
      ]
     },
     "execution_count": 35,
     "metadata": {},
     "output_type": "execute_result"
    }
   ],
   "source": [
    "pipe_cvec_ada = Pipeline([\n",
    "    ('ada', AdaBoostClassifier(random_state =222))\n",
    "])\n",
    "\n",
    "pipe_cvec_ada_params = {\n",
    "    'ada__n_estimators': [100, 125, 150],\n",
    "    'ada__learning_rate': [1.0, 1.5]\n",
    "    \n",
    "}\n",
    "\n",
    "gs_cvec_ada = GridSearchCV(pipe_cvec_ada, pipe_cvec_ada_params, n_jobs = -1)\n",
    "gs_cvec_ada.fit(X_train_l, y_train_l)"
   ]
  },
  {
   "cell_type": "code",
   "execution_count": 36,
   "id": "dd9edb70-df47-4eae-a864-9c7f7718e476",
   "metadata": {},
   "outputs": [
    {
     "name": "stdout",
     "output_type": "stream",
     "text": [
      " Train accuracy: 0.7747077577045696, Test accuracy: 0.7006369426751592\n"
     ]
    }
   ],
   "source": [
    "print(f' Train accuracy: {gs_cvec_ada.score(X_train_l, y_train_l)}, Test accuracy: {gs_cvec_ada.score(X_test_l, y_test_l)}')"
   ]
  },
  {
   "cell_type": "code",
   "execution_count": 37,
   "id": "92efe7f0-90c2-4579-acb1-26fae44809bc",
   "metadata": {},
   "outputs": [
    {
     "data": {
      "text/plain": [
       "{'ada__learning_rate': 1.5, 'ada__n_estimators': 150}"
      ]
     },
     "execution_count": 37,
     "metadata": {},
     "output_type": "execute_result"
    }
   ],
   "source": [
    "gs_cvec_ada.best_params_"
   ]
  },
  {
   "cell_type": "code",
   "execution_count": 38,
   "id": "287acd1f-29fe-49d9-9167-f7a12a9a7d45",
   "metadata": {},
   "outputs": [],
   "source": [
    "y_pred_ada = gs_cvec_ada.predict(X_test_l)"
   ]
  },
  {
   "cell_type": "code",
   "execution_count": 39,
   "id": "4b34e770-c0b6-43dd-b0b8-233c425815d4",
   "metadata": {},
   "outputs": [],
   "source": [
    "tn_ada, fp_ada, fn_ada, tp_ada = confusion_matrix(y_test_l, y_pred_ada).ravel()"
   ]
  },
  {
   "cell_type": "code",
   "execution_count": 40,
   "id": "a3d17e61-9c9b-473f-9edb-0a6e6d6e531f",
   "metadata": {},
   "outputs": [
    {
     "data": {
      "image/png": "[encoded data removed]",
      "text/plain": [
       "<Figure size 432x288 with 2 Axes>"
      ]
     },
     "metadata": {
      "needs_background": "light"
     },
     "output_type": "display_data"
    }
   ],
   "source": [
    "cmd = ConfusionMatrixDisplay(confusion_matrix=confusion_matrix(y_test_l, y_pred_ada),\n",
    "                      display_labels=['Highly Rated', 'Poorly Rated']);\n",
    "cmd.plot(cmap = 'GnBu')\n",
    "plt.title('Listings AdaBoost Confusion Matrix')\n",
    "plt.tight_layout();"
   ]
  },
  {
   "cell_type": "code",
   "execution_count": 41,
   "id": "5d177658-6f7c-4ff0-b915-2c9c454e6f30",
   "metadata": {},
   "outputs": [
    {
     "name": "stdout",
     "output_type": "stream",
     "text": [
      " Sensitivity: 0.7138461538461538\n",
      " Specificity: 0.6864686468646864\n",
      " Precision: 0.709480122324159\n"
     ]
    }
   ],
   "source": [
    "#Sensitivity \n",
    "print(f' Sensitivity: {tp_ada / (tp_ada+fn_ada)}')\n",
    "#Specificity\n",
    "print(f' Specificity: {tn_ada / (tn_ada+fp_ada)}')\n",
    "#Precision \n",
    "print(f' Precision: {tp_ada/(tp_ada+fp_ada)}')"
   ]
  },
  {
   "cell_type": "markdown",
   "id": "061e15cf-f130-40d0-b3f7-0bba7874a3af",
   "metadata": {},
   "source": [
    "## GradientBoost Classifier"
   ]
  },
  {
   "cell_type": "code",
   "execution_count": 42,
   "id": "e4043ab4-62d2-4416-ba72-33edb61ea6e2",
   "metadata": {},
   "outputs": [
    {
     "data": {
      "text/html": [
       "<style>#sk-container-id-6 {color: black;background-color: white;}#sk-container-id-6 pre{padding: 0;}#sk-container-id-6 div.sk-toggleable {background-color: white;}#sk-container-id-6 label.sk-toggleable__label {cursor: pointer;display: block;width: 100%;margin-bottom: 0;padding: 0.3em;box-sizing: border-box;text-align: center;}#sk-container-id-6 label.sk-toggleable__label-arrow:before {content: \"▸\";float: left;margin-right: 0.25em;color: #696969;}#sk-container-id-6 label.sk-toggleable__label-arrow:hover:before {color: black;}#sk-container-id-6 div.sk-estimator:hover label.sk-toggleable__label-arrow:before {color: black;}#sk-container-id-6 div.sk-toggleable__content {max-height: 0;max-width: 0;overflow: hidden;text-align: left;background-color: #f0f8ff;}#sk-container-id-6 div.sk-toggleable__content pre {margin: 0.2em;color: black;border-radius: 0.25em;background-color: #f0f8ff;}#sk-container-id-6 input.sk-toggleable__control:checked~div.sk-toggleable__content {max-height: 200px;max-width: 100%;overflow: auto;}#sk-container-id-6 input.sk-toggleable__control:checked~label.sk-toggleable__label-arrow:before {content: \"▾\";}#sk-container-id-6 div.sk-estimator input.sk-toggleable__control:checked~label.sk-toggleable__label {background-color: #d4ebff;}#sk-container-id-6 div.sk-label input.sk-toggleable__control:checked~label.sk-toggleable__label {background-color: #d4ebff;}#sk-container-id-6 input.sk-hidden--visually {border: 0;clip: rect(1px 1px 1px 1px);clip: rect(1px, 1px, 1px, 1px);height: 1px;margin: -1px;overflow: hidden;padding: 0;position: absolute;width: 1px;}#sk-container-id-6 div.sk-estimator {font-family: monospace;background-color: #f0f8ff;border: 1px dotted black;border-radius: 0.25em;box-sizing: border-box;margin-bottom: 0.5em;}#sk-container-id-6 div.sk-estimator:hover {background-color: #d4ebff;}#sk-container-id-6 div.sk-parallel-item::after {content: \"\";width: 100%;border-bottom: 1px solid gray;flex-grow: 1;}#sk-container-id-6 div.sk-label:hover label.sk-toggleable__label {background-color: #d4ebff;}#sk-container-id-6 div.sk-serial::before {content: \"\";position: absolute;border-left: 1px solid gray;box-sizing: border-box;top: 0;bottom: 0;left: 50%;z-index: 0;}#sk-container-id-6 div.sk-serial {display: flex;flex-direction: column;align-items: center;background-color: white;padding-right: 0.2em;padding-left: 0.2em;position: relative;}#sk-container-id-6 div.sk-item {position: relative;z-index: 1;}#sk-container-id-6 div.sk-parallel {display: flex;align-items: stretch;justify-content: center;background-color: white;position: relative;}#sk-container-id-6 div.sk-item::before, #sk-container-id-6 div.sk-parallel-item::before {content: \"\";position: absolute;border-left: 1px solid gray;box-sizing: border-box;top: 0;bottom: 0;left: 50%;z-index: -1;}#sk-container-id-6 div.sk-parallel-item {display: flex;flex-direction: column;z-index: 1;position: relative;background-color: white;}#sk-container-id-6 div.sk-parallel-item:first-child::after {align-self: flex-end;width: 50%;}#sk-container-id-6 div.sk-parallel-item:last-child::after {align-self: flex-start;width: 50%;}#sk-container-id-6 div.sk-parallel-item:only-child::after {width: 0;}#sk-container-id-6 div.sk-dashed-wrapped {border: 1px dashed gray;margin: 0 0.4em 0.5em 0.4em;box-sizing: border-box;padding-bottom: 0.4em;background-color: white;}#sk-container-id-6 div.sk-label label {font-family: monospace;font-weight: bold;display: inline-block;line-height: 1.2em;}#sk-container-id-6 div.sk-label-container {text-align: center;}#sk-container-id-6 div.sk-container {/* jupyter's `normalize.less` sets `[hidden] { display: none; }` but bootstrap.min.css set `[hidden] { display: none !important; }` so we also need the `!important` here to be able to override the default hidden behavior on the sphinx rendered scikit-learn.org. See: https://github.com/scikit-learn/scikit-learn/issues/21755 */display: inline-block !important;position: relative;}#sk-container-id-6 div.sk-text-repr-fallback {display: none;}</style><div id=\"sk-container-id-6\" class=\"sk-top-container\"><div class=\"sk-text-repr-fallback\"><pre>GridSearchCV(estimator=Pipeline(steps=[(&#x27;g_boost&#x27;,\n",
       "                                        GradientBoostingClassifier(random_state=222))]),\n",
       "             n_jobs=-1,\n",
       "             param_grid={&#x27;g_boost__learning_rate&#x27;: [0.8, 1.0, 1.5],\n",
       "                         &#x27;g_boost__min_samples_split&#x27;: [2],\n",
       "                         &#x27;g_boost__n_estimators&#x27;: [100, 125, 150]})</pre><b>In a Jupyter environment, please rerun this cell to show the HTML representation or trust the notebook. <br />On GitHub, the HTML representation is unable to render, please try loading this page with nbviewer.org.</b></div><div class=\"sk-container\" hidden><div class=\"sk-item sk-dashed-wrapped\"><div class=\"sk-label-container\"><div class=\"sk-label sk-toggleable\"><input class=\"sk-toggleable__control sk-hidden--visually\" id=\"sk-estimator-id-15\" type=\"checkbox\" ><label for=\"sk-estimator-id-15\" class=\"sk-toggleable__label sk-toggleable__label-arrow\">GridSearchCV</label><div class=\"sk-toggleable__content\"><pre>GridSearchCV(estimator=Pipeline(steps=[(&#x27;g_boost&#x27;,\n",
       "                                        GradientBoostingClassifier(random_state=222))]),\n",
       "             n_jobs=-1,\n",
       "             param_grid={&#x27;g_boost__learning_rate&#x27;: [0.8, 1.0, 1.5],\n",
       "                         &#x27;g_boost__min_samples_split&#x27;: [2],\n",
       "                         &#x27;g_boost__n_estimators&#x27;: [100, 125, 150]})</pre></div></div></div><div class=\"sk-parallel\"><div class=\"sk-parallel-item\"><div class=\"sk-item\"><div class=\"sk-label-container\"><div class=\"sk-label sk-toggleable\"><input class=\"sk-toggleable__control sk-hidden--visually\" id=\"sk-estimator-id-16\" type=\"checkbox\" ><label for=\"sk-estimator-id-16\" class=\"sk-toggleable__label sk-toggleable__label-arrow\">estimator: Pipeline</label><div class=\"sk-toggleable__content\"><pre>Pipeline(steps=[(&#x27;g_boost&#x27;, GradientBoostingClassifier(random_state=222))])</pre></div></div></div><div class=\"sk-serial\"><div class=\"sk-item\"><div class=\"sk-serial\"><div class=\"sk-item\"><div class=\"sk-estimator sk-toggleable\"><input class=\"sk-toggleable__control sk-hidden--visually\" id=\"sk-estimator-id-17\" type=\"checkbox\" ><label for=\"sk-estimator-id-17\" class=\"sk-toggleable__label sk-toggleable__label-arrow\">GradientBoostingClassifier</label><div class=\"sk-toggleable__content\"><pre>GradientBoostingClassifier(random_state=222)</pre></div></div></div></div></div></div></div></div></div></div></div></div>"
      ],
      "text/plain": [
       "GridSearchCV(estimator=Pipeline(steps=[('g_boost',\n",
       "                                        GradientBoostingClassifier(random_state=222))]),\n",
       "             n_jobs=-1,\n",
       "             param_grid={'g_boost__learning_rate': [0.8, 1.0, 1.5],\n",
       "                         'g_boost__min_samples_split': [2],\n",
       "                         'g_boost__n_estimators': [100, 125, 150]})"
      ]
     },
     "execution_count": 42,
     "metadata": {},
     "output_type": "execute_result"
    }
   ],
   "source": [
    "pipe_cvec_g = Pipeline([\n",
    "    ('g_boost', GradientBoostingClassifier(random_state = 222))\n",
    "])\n",
    "\n",
    "pipe_cvec_g_params = {\n",
    "    'g_boost__n_estimators': [100, 125, 150],\n",
    "    'g_boost__learning_rate': [0.8, 1.0, 1.5],\n",
    "    'g_boost__min_samples_split': [2]\n",
    "    \n",
    "}\n",
    "\n",
    "gs_cvec_g = GridSearchCV(pipe_cvec_g, pipe_cvec_g_params, n_jobs = -1)\n",
    "gs_cvec_g.fit(X_train_l, y_train_l)"
   ]
  },
  {
   "cell_type": "code",
   "execution_count": 43,
   "id": "fed708b4-0977-4f11-81fe-19f30eb06cc3",
   "metadata": {},
   "outputs": [
    {
     "name": "stdout",
     "output_type": "stream",
     "text": [
      " Train accuracy: 0.9500531349628055, Test accuracy: 0.697452229299363\n"
     ]
    }
   ],
   "source": [
    "print(f' Train accuracy: {gs_cvec_g.score(X_train_l, y_train_l)}, Test accuracy: {gs_cvec_g.score(X_test_l, y_test_l)}')"
   ]
  },
  {
   "cell_type": "code",
   "execution_count": 44,
   "id": "6a9bc938-1455-4806-8061-5b9dd96ae133",
   "metadata": {},
   "outputs": [
    {
     "data": {
      "text/plain": [
       "{'g_boost__learning_rate': 0.8,\n",
       " 'g_boost__min_samples_split': 2,\n",
       " 'g_boost__n_estimators': 100}"
      ]
     },
     "execution_count": 44,
     "metadata": {},
     "output_type": "execute_result"
    }
   ],
   "source": [
    "gs_cvec_g.best_params_"
   ]
  },
  {
   "cell_type": "code",
   "execution_count": 45,
   "id": "36a0c50a-5a75-4c70-ad9a-8777154bf8af",
   "metadata": {},
   "outputs": [],
   "source": [
    "y_pred_g = gs_cvec_g.predict(X_test_l)"
   ]
  },
  {
   "cell_type": "code",
   "execution_count": 46,
   "id": "58a47c59-92e8-4a54-826c-77f0d9b2bc97",
   "metadata": {},
   "outputs": [],
   "source": [
    "tn_g, fp_g, fn_g, tp_g = confusion_matrix(y_test_l, y_pred_g).ravel()"
   ]
  },
  {
   "cell_type": "code",
   "execution_count": 47,
   "id": "e01b7d24-072c-414e-a1be-255fdb5e95fd",
   "metadata": {},
   "outputs": [
    {
     "data": {
      "image/png": "[encoded data removed]",
      "text/plain": [
       "<Figure size 432x288 with 2 Axes>"
      ]
     },
     "metadata": {
      "needs_background": "light"
     },
     "output_type": "display_data"
    }
   ],
   "source": [
    "cmd = ConfusionMatrixDisplay(confusion_matrix=confusion_matrix(y_test_l, y_pred_g),\n",
    "                      display_labels=['Highly Rated', 'Poorly Rated']);\n",
    "cmd.plot(cmap = 'GnBu')\n",
    "plt.title('Listings Gradient Boost Confusion Matrix')\n",
    "plt.tight_layout();"
   ]
  },
  {
   "cell_type": "code",
   "execution_count": 48,
   "id": "0be2963c-3ced-4ee7-a9cf-45c8c18d0267",
   "metadata": {},
   "outputs": [
    {
     "name": "stdout",
     "output_type": "stream",
     "text": [
      " Sensitivity: 0.7046153846153846\n",
      " Specificity: 0.6897689768976898\n",
      " Precision: 0.7089783281733746\n"
     ]
    }
   ],
   "source": [
    "#Sensitivity \n",
    "print(f' Sensitivity: {tp_g / (tp_g+fn_g)}')\n",
    "#Specificity\n",
    "print(f' Specificity: {tn_g / (tn_g+fp_g)}')\n",
    "#Precision \n",
    "print(f' Precision: {tp_g/(tp_g+fp_g)}')"
   ]
  },
  {
   "cell_type": "markdown",
   "id": "18db9b5a-4855-4c32-9237-fce9301e4f9a",
   "metadata": {},
   "source": [
    "## Bagging Classifier"
   ]
  },
  {
   "cell_type": "code",
   "execution_count": 49,
   "id": "8f56bd53-bbc8-4ffe-bc38-861f15467880",
   "metadata": {},
   "outputs": [
    {
     "data": {
      "text/html": [
       "<style>#sk-container-id-7 {color: black;background-color: white;}#sk-container-id-7 pre{padding: 0;}#sk-container-id-7 div.sk-toggleable {background-color: white;}#sk-container-id-7 label.sk-toggleable__label {cursor: pointer;display: block;width: 100%;margin-bottom: 0;padding: 0.3em;box-sizing: border-box;text-align: center;}#sk-container-id-7 label.sk-toggleable__label-arrow:before {content: \"▸\";float: left;margin-right: 0.25em;color: #696969;}#sk-container-id-7 label.sk-toggleable__label-arrow:hover:before {color: black;}#sk-container-id-7 div.sk-estimator:hover label.sk-toggleable__label-arrow:before {color: black;}#sk-container-id-7 div.sk-toggleable__content {max-height: 0;max-width: 0;overflow: hidden;text-align: left;background-color: #f0f8ff;}#sk-container-id-7 div.sk-toggleable__content pre {margin: 0.2em;color: black;border-radius: 0.25em;background-color: #f0f8ff;}#sk-container-id-7 input.sk-toggleable__control:checked~div.sk-toggleable__content {max-height: 200px;max-width: 100%;overflow: auto;}#sk-container-id-7 input.sk-toggleable__control:checked~label.sk-toggleable__label-arrow:before {content: \"▾\";}#sk-container-id-7 div.sk-estimator input.sk-toggleable__control:checked~label.sk-toggleable__label {background-color: #d4ebff;}#sk-container-id-7 div.sk-label input.sk-toggleable__control:checked~label.sk-toggleable__label {background-color: #d4ebff;}#sk-container-id-7 input.sk-hidden--visually {border: 0;clip: rect(1px 1px 1px 1px);clip: rect(1px, 1px, 1px, 1px);height: 1px;margin: -1px;overflow: hidden;padding: 0;position: absolute;width: 1px;}#sk-container-id-7 div.sk-estimator {font-family: monospace;background-color: #f0f8ff;border: 1px dotted black;border-radius: 0.25em;box-sizing: border-box;margin-bottom: 0.5em;}#sk-container-id-7 div.sk-estimator:hover {background-color: #d4ebff;}#sk-container-id-7 div.sk-parallel-item::after {content: \"\";width: 100%;border-bottom: 1px solid gray;flex-grow: 1;}#sk-container-id-7 div.sk-label:hover label.sk-toggleable__label {background-color: #d4ebff;}#sk-container-id-7 div.sk-serial::before {content: \"\";position: absolute;border-left: 1px solid gray;box-sizing: border-box;top: 0;bottom: 0;left: 50%;z-index: 0;}#sk-container-id-7 div.sk-serial {display: flex;flex-direction: column;align-items: center;background-color: white;padding-right: 0.2em;padding-left: 0.2em;position: relative;}#sk-container-id-7 div.sk-item {position: relative;z-index: 1;}#sk-container-id-7 div.sk-parallel {display: flex;align-items: stretch;justify-content: center;background-color: white;position: relative;}#sk-container-id-7 div.sk-item::before, #sk-container-id-7 div.sk-parallel-item::before {content: \"\";position: absolute;border-left: 1px solid gray;box-sizing: border-box;top: 0;bottom: 0;left: 50%;z-index: -1;}#sk-container-id-7 div.sk-parallel-item {display: flex;flex-direction: column;z-index: 1;position: relative;background-color: white;}#sk-container-id-7 div.sk-parallel-item:first-child::after {align-self: flex-end;width: 50%;}#sk-container-id-7 div.sk-parallel-item:last-child::after {align-self: flex-start;width: 50%;}#sk-container-id-7 div.sk-parallel-item:only-child::after {width: 0;}#sk-container-id-7 div.sk-dashed-wrapped {border: 1px dashed gray;margin: 0 0.4em 0.5em 0.4em;box-sizing: border-box;padding-bottom: 0.4em;background-color: white;}#sk-container-id-7 div.sk-label label {font-family: monospace;font-weight: bold;display: inline-block;line-height: 1.2em;}#sk-container-id-7 div.sk-label-container {text-align: center;}#sk-container-id-7 div.sk-container {/* jupyter's `normalize.less` sets `[hidden] { display: none; }` but bootstrap.min.css set `[hidden] { display: none !important; }` so we also need the `!important` here to be able to override the default hidden behavior on the sphinx rendered scikit-learn.org. See: https://github.com/scikit-learn/scikit-learn/issues/21755 */display: inline-block !important;position: relative;}#sk-container-id-7 div.sk-text-repr-fallback {display: none;}</style><div id=\"sk-container-id-7\" class=\"sk-top-container\"><div class=\"sk-text-repr-fallback\"><pre>GridSearchCV(estimator=Pipeline(steps=[(&#x27;bag&#x27;,\n",
       "                                        BaggingClassifier(random_state=222))]),\n",
       "             n_jobs=-1,\n",
       "             param_grid={&#x27;bag__max_features&#x27;: [0.65, 0.75, 0.85, 1.0],\n",
       "                         &#x27;bag__max_samples&#x27;: [0.65, 0.75, 0.85, 1.0],\n",
       "                         &#x27;bag__n_estimators&#x27;: [50, 100, 150]})</pre><b>In a Jupyter environment, please rerun this cell to show the HTML representation or trust the notebook. <br />On GitHub, the HTML representation is unable to render, please try loading this page with nbviewer.org.</b></div><div class=\"sk-container\" hidden><div class=\"sk-item sk-dashed-wrapped\"><div class=\"sk-label-container\"><div class=\"sk-label sk-toggleable\"><input class=\"sk-toggleable__control sk-hidden--visually\" id=\"sk-estimator-id-18\" type=\"checkbox\" ><label for=\"sk-estimator-id-18\" class=\"sk-toggleable__label sk-toggleable__label-arrow\">GridSearchCV</label><div class=\"sk-toggleable__content\"><pre>GridSearchCV(estimator=Pipeline(steps=[(&#x27;bag&#x27;,\n",
       "                                        BaggingClassifier(random_state=222))]),\n",
       "             n_jobs=-1,\n",
       "             param_grid={&#x27;bag__max_features&#x27;: [0.65, 0.75, 0.85, 1.0],\n",
       "                         &#x27;bag__max_samples&#x27;: [0.65, 0.75, 0.85, 1.0],\n",
       "                         &#x27;bag__n_estimators&#x27;: [50, 100, 150]})</pre></div></div></div><div class=\"sk-parallel\"><div class=\"sk-parallel-item\"><div class=\"sk-item\"><div class=\"sk-label-container\"><div class=\"sk-label sk-toggleable\"><input class=\"sk-toggleable__control sk-hidden--visually\" id=\"sk-estimator-id-19\" type=\"checkbox\" ><label for=\"sk-estimator-id-19\" class=\"sk-toggleable__label sk-toggleable__label-arrow\">estimator: Pipeline</label><div class=\"sk-toggleable__content\"><pre>Pipeline(steps=[(&#x27;bag&#x27;, BaggingClassifier(random_state=222))])</pre></div></div></div><div class=\"sk-serial\"><div class=\"sk-item\"><div class=\"sk-serial\"><div class=\"sk-item\"><div class=\"sk-estimator sk-toggleable\"><input class=\"sk-toggleable__control sk-hidden--visually\" id=\"sk-estimator-id-20\" type=\"checkbox\" ><label for=\"sk-estimator-id-20\" class=\"sk-toggleable__label sk-toggleable__label-arrow\">BaggingClassifier</label><div class=\"sk-toggleable__content\"><pre>BaggingClassifier(random_state=222)</pre></div></div></div></div></div></div></div></div></div></div></div></div>"
      ],
      "text/plain": [
       "GridSearchCV(estimator=Pipeline(steps=[('bag',\n",
       "                                        BaggingClassifier(random_state=222))]),\n",
       "             n_jobs=-1,\n",
       "             param_grid={'bag__max_features': [0.65, 0.75, 0.85, 1.0],\n",
       "                         'bag__max_samples': [0.65, 0.75, 0.85, 1.0],\n",
       "                         'bag__n_estimators': [50, 100, 150]})"
      ]
     },
     "execution_count": 49,
     "metadata": {},
     "output_type": "execute_result"
    }
   ],
   "source": [
    "pipe_cvec_bag = Pipeline([\n",
    "    ('bag', BaggingClassifier(random_state = 222))\n",
    "])\n",
    "\n",
    "pipe_cvec_bag_params = {\n",
    "    'bag__n_estimators': [50, 100, 150],\n",
    "    'bag__max_samples': [0.65, 0.75, 0.85, 1.0],\n",
    "    'bag__max_features': [0.65, 0.75, 0.85, 1.0]\n",
    "    \n",
    "}\n",
    "\n",
    "gs_cvec_bag = GridSearchCV(pipe_cvec_bag, pipe_cvec_bag_params, n_jobs = -1)\n",
    "gs_cvec_bag.fit(X_train_l, y_train_l)"
   ]
  },
  {
   "cell_type": "code",
   "execution_count": 50,
   "id": "bc2a2954-0c55-4a8f-86a6-6b0ab051277c",
   "metadata": {},
   "outputs": [
    {
     "name": "stdout",
     "output_type": "stream",
     "text": [
      " Train accuracy: 0.9994686503719448, Test accuracy: 0.7117834394904459\n"
     ]
    }
   ],
   "source": [
    "print(f' Train accuracy: {gs_cvec_bag.score(X_train_l, y_train_l)}, Test accuracy: {gs_cvec_bag.score(X_test_l, y_test_l)}')"
   ]
  },
  {
   "cell_type": "code",
   "execution_count": 51,
   "id": "e17d04fa-8a3b-4e58-bf9a-952a62cd84f3",
   "metadata": {},
   "outputs": [
    {
     "data": {
      "text/plain": [
       "{'bag__max_features': 0.75, 'bag__max_samples': 0.75, 'bag__n_estimators': 100}"
      ]
     },
     "execution_count": 51,
     "metadata": {},
     "output_type": "execute_result"
    }
   ],
   "source": [
    "gs_cvec_bag.best_params_"
   ]
  },
  {
   "cell_type": "code",
   "execution_count": 52,
   "id": "e8b1842b-4943-4457-ad5f-176ce20a7270",
   "metadata": {},
   "outputs": [],
   "source": [
    "y_pred_bag = gs_cvec_bag.predict(X_test_l)"
   ]
  },
  {
   "cell_type": "code",
   "execution_count": 53,
   "id": "08a76e16-f149-47d8-b16e-d24750d28773",
   "metadata": {},
   "outputs": [],
   "source": [
    "tn_bag, fp_bag, fn_bag, tp_bag = confusion_matrix(y_test_l, y_pred_bag).ravel()"
   ]
  },
  {
   "cell_type": "code",
   "execution_count": 54,
   "id": "93a23287-4741-4691-aabd-27c94433465b",
   "metadata": {},
   "outputs": [
    {
     "data": {
      "image/png": "[encoded data removed]",
      "text/plain": [
       "<Figure size 432x288 with 2 Axes>"
      ]
     },
     "metadata": {
      "needs_background": "light"
     },
     "output_type": "display_data"
    }
   ],
   "source": [
    "cmd = ConfusionMatrixDisplay(confusion_matrix=confusion_matrix(y_test_l, y_pred_bag),\n",
    "                      display_labels=['Highly Rated', 'Poorly Rated']);\n",
    "cmd.plot(cmap = 'GnBu')\n",
    "plt.title('Listings Bagging Classifier Confusion Matrix')\n",
    "plt.tight_layout();"
   ]
  },
  {
   "cell_type": "code",
   "execution_count": 55,
   "id": "203ed711-ff25-41a8-9673-8e94023a8c67",
   "metadata": {},
   "outputs": [
    {
     "name": "stdout",
     "output_type": "stream",
     "text": [
      " Sensitivity: 0.676923076923077\n",
      " Specificity: 0.7491749174917491\n",
      " Precision: 0.7432432432432432\n"
     ]
    }
   ],
   "source": [
    "#Sensitivity \n",
    "print(f' Sensitivity: {tp_bag / (tp_bag+fn_bag)}')\n",
    "#Specificity\n",
    "print(f' Specificity: {tn_bag / (tn_bag+fp_bag)}')\n",
    "#Precision \n",
    "print(f' Precision: {tp_bag/(tp_bag+fp_bag)}')"
   ]
  },
  {
   "cell_type": "markdown",
   "id": "ade4ad74-ee66-43be-81f6-63148903ffaa",
   "metadata": {},
   "source": [
    "# Reviews Classification Modeling"
   ]
  },
  {
   "cell_type": "markdown",
   "id": "4117fd4e-db5a-446e-a93a-30dac20c85e7",
   "metadata": {},
   "source": [
    "## Logistic Regression"
   ]
  },
  {
   "cell_type": "code",
   "execution_count": 56,
   "id": "77e1a821-1ebd-4595-b746-5215bd7e2509",
   "metadata": {},
   "outputs": [
    {
     "name": "stderr",
     "output_type": "stream",
     "text": [
      "/Users/myacarrizosa/opt/anaconda3/lib/python3.9/site-packages/joblib/externals/loky/process_executor.py:702: UserWarning: A worker stopped while some jobs were given to the executor. This can be caused by a too short worker timeout or by a memory leak.\n",
      "  warnings.warn(\n"
     ]
    },
    {
     "data": {
      "text/html": [
       "<style>#sk-container-id-8 {color: black;background-color: white;}#sk-container-id-8 pre{padding: 0;}#sk-container-id-8 div.sk-toggleable {background-color: white;}#sk-container-id-8 label.sk-toggleable__label {cursor: pointer;display: block;width: 100%;margin-bottom: 0;padding: 0.3em;box-sizing: border-box;text-align: center;}#sk-container-id-8 label.sk-toggleable__label-arrow:before {content: \"▸\";float: left;margin-right: 0.25em;color: #696969;}#sk-container-id-8 label.sk-toggleable__label-arrow:hover:before {color: black;}#sk-container-id-8 div.sk-estimator:hover label.sk-toggleable__label-arrow:before {color: black;}#sk-container-id-8 div.sk-toggleable__content {max-height: 0;max-width: 0;overflow: hidden;text-align: left;background-color: #f0f8ff;}#sk-container-id-8 div.sk-toggleable__content pre {margin: 0.2em;color: black;border-radius: 0.25em;background-color: #f0f8ff;}#sk-container-id-8 input.sk-toggleable__control:checked~div.sk-toggleable__content {max-height: 200px;max-width: 100%;overflow: auto;}#sk-container-id-8 input.sk-toggleable__control:checked~label.sk-toggleable__label-arrow:before {content: \"▾\";}#sk-container-id-8 div.sk-estimator input.sk-toggleable__control:checked~label.sk-toggleable__label {background-color: #d4ebff;}#sk-container-id-8 div.sk-label input.sk-toggleable__control:checked~label.sk-toggleable__label {background-color: #d4ebff;}#sk-container-id-8 input.sk-hidden--visually {border: 0;clip: rect(1px 1px 1px 1px);clip: rect(1px, 1px, 1px, 1px);height: 1px;margin: -1px;overflow: hidden;padding: 0;position: absolute;width: 1px;}#sk-container-id-8 div.sk-estimator {font-family: monospace;background-color: #f0f8ff;border: 1px dotted black;border-radius: 0.25em;box-sizing: border-box;margin-bottom: 0.5em;}#sk-container-id-8 div.sk-estimator:hover {background-color: #d4ebff;}#sk-container-id-8 div.sk-parallel-item::after {content: \"\";width: 100%;border-bottom: 1px solid gray;flex-grow: 1;}#sk-container-id-8 div.sk-label:hover label.sk-toggleable__label {background-color: #d4ebff;}#sk-container-id-8 div.sk-serial::before {content: \"\";position: absolute;border-left: 1px solid gray;box-sizing: border-box;top: 0;bottom: 0;left: 50%;z-index: 0;}#sk-container-id-8 div.sk-serial {display: flex;flex-direction: column;align-items: center;background-color: white;padding-right: 0.2em;padding-left: 0.2em;position: relative;}#sk-container-id-8 div.sk-item {position: relative;z-index: 1;}#sk-container-id-8 div.sk-parallel {display: flex;align-items: stretch;justify-content: center;background-color: white;position: relative;}#sk-container-id-8 div.sk-item::before, #sk-container-id-8 div.sk-parallel-item::before {content: \"\";position: absolute;border-left: 1px solid gray;box-sizing: border-box;top: 0;bottom: 0;left: 50%;z-index: -1;}#sk-container-id-8 div.sk-parallel-item {display: flex;flex-direction: column;z-index: 1;position: relative;background-color: white;}#sk-container-id-8 div.sk-parallel-item:first-child::after {align-self: flex-end;width: 50%;}#sk-container-id-8 div.sk-parallel-item:last-child::after {align-self: flex-start;width: 50%;}#sk-container-id-8 div.sk-parallel-item:only-child::after {width: 0;}#sk-container-id-8 div.sk-dashed-wrapped {border: 1px dashed gray;margin: 0 0.4em 0.5em 0.4em;box-sizing: border-box;padding-bottom: 0.4em;background-color: white;}#sk-container-id-8 div.sk-label label {font-family: monospace;font-weight: bold;display: inline-block;line-height: 1.2em;}#sk-container-id-8 div.sk-label-container {text-align: center;}#sk-container-id-8 div.sk-container {/* jupyter's `normalize.less` sets `[hidden] { display: none; }` but bootstrap.min.css set `[hidden] { display: none !important; }` so we also need the `!important` here to be able to override the default hidden behavior on the sphinx rendered scikit-learn.org. See: https://github.com/scikit-learn/scikit-learn/issues/21755 */display: inline-block !important;position: relative;}#sk-container-id-8 div.sk-text-repr-fallback {display: none;}</style><div id=\"sk-container-id-8\" class=\"sk-top-container\"><div class=\"sk-text-repr-fallback\"><pre>GridSearchCV(estimator=Pipeline(steps=[(&#x27;cvec&#x27;,\n",
       "                                        CountVectorizer(token_pattern=&#x27;[a-zA-Z0-9]+&#x27;)),\n",
       "                                       (&#x27;logreg&#x27;,\n",
       "                                        LogisticRegression(max_iter=1000,\n",
       "                                                           random_state=222))]),\n",
       "             n_jobs=-1,\n",
       "             param_grid={&#x27;cvec__max_df&#x27;: [0.9, 1.0],\n",
       "                         &#x27;cvec__ngram_range&#x27;: [(1, 1), (1, 2)],\n",
       "                         &#x27;cvec__stop_words&#x27;: [&#x27;english&#x27;, None],\n",
       "                         &#x27;logreg__solver&#x27;: [&#x27;lbfgs&#x27;, &#x27;liblinear&#x27;]})</pre><b>In a Jupyter environment, please rerun this cell to show the HTML representation or trust the notebook. <br />On GitHub, the HTML representation is unable to render, please try loading this page with nbviewer.org.</b></div><div class=\"sk-container\" hidden><div class=\"sk-item sk-dashed-wrapped\"><div class=\"sk-label-container\"><div class=\"sk-label sk-toggleable\"><input class=\"sk-toggleable__control sk-hidden--visually\" id=\"sk-estimator-id-21\" type=\"checkbox\" ><label for=\"sk-estimator-id-21\" class=\"sk-toggleable__label sk-toggleable__label-arrow\">GridSearchCV</label><div class=\"sk-toggleable__content\"><pre>GridSearchCV(estimator=Pipeline(steps=[(&#x27;cvec&#x27;,\n",
       "                                        CountVectorizer(token_pattern=&#x27;[a-zA-Z0-9]+&#x27;)),\n",
       "                                       (&#x27;logreg&#x27;,\n",
       "                                        LogisticRegression(max_iter=1000,\n",
       "                                                           random_state=222))]),\n",
       "             n_jobs=-1,\n",
       "             param_grid={&#x27;cvec__max_df&#x27;: [0.9, 1.0],\n",
       "                         &#x27;cvec__ngram_range&#x27;: [(1, 1), (1, 2)],\n",
       "                         &#x27;cvec__stop_words&#x27;: [&#x27;english&#x27;, None],\n",
       "                         &#x27;logreg__solver&#x27;: [&#x27;lbfgs&#x27;, &#x27;liblinear&#x27;]})</pre></div></div></div><div class=\"sk-parallel\"><div class=\"sk-parallel-item\"><div class=\"sk-item\"><div class=\"sk-label-container\"><div class=\"sk-label sk-toggleable\"><input class=\"sk-toggleable__control sk-hidden--visually\" id=\"sk-estimator-id-22\" type=\"checkbox\" ><label for=\"sk-estimator-id-22\" class=\"sk-toggleable__label sk-toggleable__label-arrow\">estimator: Pipeline</label><div class=\"sk-toggleable__content\"><pre>Pipeline(steps=[(&#x27;cvec&#x27;, CountVectorizer(token_pattern=&#x27;[a-zA-Z0-9]+&#x27;)),\n",
       "                (&#x27;logreg&#x27;,\n",
       "                 LogisticRegression(max_iter=1000, random_state=222))])</pre></div></div></div><div class=\"sk-serial\"><div class=\"sk-item\"><div class=\"sk-serial\"><div class=\"sk-item\"><div class=\"sk-estimator sk-toggleable\"><input class=\"sk-toggleable__control sk-hidden--visually\" id=\"sk-estimator-id-23\" type=\"checkbox\" ><label for=\"sk-estimator-id-23\" class=\"sk-toggleable__label sk-toggleable__label-arrow\">CountVectorizer</label><div class=\"sk-toggleable__content\"><pre>CountVectorizer(token_pattern=&#x27;[a-zA-Z0-9]+&#x27;)</pre></div></div></div><div class=\"sk-item\"><div class=\"sk-estimator sk-toggleable\"><input class=\"sk-toggleable__control sk-hidden--visually\" id=\"sk-estimator-id-24\" type=\"checkbox\" ><label for=\"sk-estimator-id-24\" class=\"sk-toggleable__label sk-toggleable__label-arrow\">LogisticRegression</label><div class=\"sk-toggleable__content\"><pre>LogisticRegression(max_iter=1000, random_state=222)</pre></div></div></div></div></div></div></div></div></div></div></div></div>"
      ],
      "text/plain": [
       "GridSearchCV(estimator=Pipeline(steps=[('cvec',\n",
       "                                        CountVectorizer(token_pattern='[a-zA-Z0-9]+')),\n",
       "                                       ('logreg',\n",
       "                                        LogisticRegression(max_iter=1000,\n",
       "                                                           random_state=222))]),\n",
       "             n_jobs=-1,\n",
       "             param_grid={'cvec__max_df': [0.9, 1.0],\n",
       "                         'cvec__ngram_range': [(1, 1), (1, 2)],\n",
       "                         'cvec__stop_words': ['english', None],\n",
       "                         'logreg__solver': ['lbfgs', 'liblinear']})"
      ]
     },
     "execution_count": 56,
     "metadata": {},
     "output_type": "execute_result"
    }
   ],
   "source": [
    "rpipe_cvec_logreg = Pipeline([\n",
    "    ('cvec', CountVectorizer(token_pattern = '[a-zA-Z0-9]+')),\n",
    "    ('logreg', LogisticRegression(random_state = 222, max_iter=1000))\n",
    "])\n",
    "\n",
    "rpipe_cvec_logreg_params = {\n",
    "    'cvec__stop_words': ['english', None],\n",
    "    'cvec__ngram_range': [(1,1), (1,2)],\n",
    "    'cvec__max_df': [0.9, 1.0], \n",
    "    'logreg__solver': ['lbfgs', 'liblinear']\n",
    "}\n",
    "\n",
    "rgs_cvec_logreg = GridSearchCV(rpipe_cvec_logreg, rpipe_cvec_logreg_params, n_jobs = -1)\n",
    "rgs_cvec_logreg.fit(r_X_train, r_y_train)"
   ]
  },
  {
   "cell_type": "code",
   "execution_count": 57,
   "id": "90a72fb8-cf12-467d-a465-2f7c3abc968d",
   "metadata": {},
   "outputs": [
    {
     "name": "stdout",
     "output_type": "stream",
     "text": [
      " Train accuracy: 0.8643874178940067, Test accuracy: 0.7713866111859013\n"
     ]
    }
   ],
   "source": [
    "print(f' Train accuracy: {rgs_cvec_logreg.score(r_X_train, r_y_train)}, Test accuracy: {rgs_cvec_logreg.score(r_X_test, r_y_test)}')"
   ]
  },
  {
   "cell_type": "code",
   "execution_count": 58,
   "id": "5055f67f-92fd-4d64-bb57-48309125d162",
   "metadata": {},
   "outputs": [
    {
     "data": {
      "text/plain": [
       "{'cvec__max_df': 0.9,\n",
       " 'cvec__ngram_range': (1, 1),\n",
       " 'cvec__stop_words': None,\n",
       " 'logreg__solver': 'lbfgs'}"
      ]
     },
     "execution_count": 58,
     "metadata": {},
     "output_type": "execute_result"
    }
   ],
   "source": [
    "rgs_cvec_logreg.best_params_"
   ]
  },
  {
   "cell_type": "code",
   "execution_count": 59,
   "id": "5218ee1d-130e-40b8-99b2-9a519972bd36",
   "metadata": {},
   "outputs": [],
   "source": [
    "ry_pred_logreg = rgs_cvec_logreg.predict(r_X_test)"
   ]
  },
  {
   "cell_type": "code",
   "execution_count": 60,
   "id": "5060a3f5-304b-4964-b1bd-cc650819770b",
   "metadata": {},
   "outputs": [],
   "source": [
    "rtn_lr, rfp_lr, rfn_lr, rtp_lr = confusion_matrix(r_y_test, ry_pred_logreg).ravel()"
   ]
  },
  {
   "cell_type": "code",
   "execution_count": 61,
   "id": "11749025-9dca-4e27-8e77-123e64a72396",
   "metadata": {},
   "outputs": [
    {
     "data": {
      "image/png": "[encoded data removed]",
      "text/plain": [
       "<Figure size 432x288 with 2 Axes>"
      ]
     },
     "metadata": {
      "needs_background": "light"
     },
     "output_type": "display_data"
    }
   ],
   "source": [
    "cmd = ConfusionMatrixDisplay(confusion_matrix=confusion_matrix(r_y_test, ry_pred_logreg),\n",
    "                      display_labels=['Highly Rated', 'Poorly Rated']);\n",
    "cmd.plot(cmap = 'GnBu')\n",
    "plt.title('Reviews Logistic Regression Confusion Matrix')\n",
    "plt.tight_layout();"
   ]
  },
  {
   "cell_type": "code",
   "execution_count": 62,
   "id": "2fa15cbd-8195-4267-a292-525297ba9ffe",
   "metadata": {},
   "outputs": [
    {
     "name": "stdout",
     "output_type": "stream",
     "text": [
      " Sensitivity: 0.805548674758484\n",
      " Specificity: 0.7380261248185777\n",
      " Precision: 0.7501730103806228\n"
     ]
    }
   ],
   "source": [
    "#Sensitivity \n",
    "print(f' Sensitivity: {rtp_lr / (rtp_lr+rfn_lr)}')\n",
    "#Specificity\n",
    "print(f' Specificity: {rtn_lr / (rtn_lr+rfp_lr)}')\n",
    "#Precision \n",
    "print(f' Precision: {rtp_lr/(rtp_lr+rfp_lr)}')"
   ]
  },
  {
   "cell_type": "markdown",
   "id": "5f89cdac-656f-4e67-aa1c-b72676f20086",
   "metadata": {},
   "source": [
    "## K Neighbors Classifier"
   ]
  },
  {
   "cell_type": "code",
   "execution_count": 63,
   "id": "4e13d309-2696-449a-b7f8-639e6a758c7f",
   "metadata": {},
   "outputs": [
    {
     "ename": "KeyboardInterrupt",
     "evalue": "",
     "output_type": "error",
     "traceback": [
      "\u001b[0;31m---------------------------------------------------------------------------\u001b[0m",
      "\u001b[0;31mKeyboardInterrupt\u001b[0m                         Traceback (most recent call last)",
      "Input \u001b[0;32mIn [63]\u001b[0m, in \u001b[0;36m<cell line: 18>\u001b[0;34m()\u001b[0m\n\u001b[1;32m      7\u001b[0m rpipe_cvec_knn_params \u001b[38;5;241m=\u001b[39m {\n\u001b[1;32m      8\u001b[0m     \u001b[38;5;124m'\u001b[39m\u001b[38;5;124mcvec__stop_words\u001b[39m\u001b[38;5;124m'\u001b[39m: [\u001b[38;5;124m'\u001b[39m\u001b[38;5;124menglish\u001b[39m\u001b[38;5;124m'\u001b[39m, \u001b[38;5;28;01mNone\u001b[39;00m],\n\u001b[1;32m      9\u001b[0m     \u001b[38;5;124m'\u001b[39m\u001b[38;5;124mcvec__ngram_range\u001b[39m\u001b[38;5;124m'\u001b[39m: [(\u001b[38;5;241m1\u001b[39m,\u001b[38;5;241m1\u001b[39m), (\u001b[38;5;241m1\u001b[39m,\u001b[38;5;241m2\u001b[39m)],\n\u001b[0;32m   (...)\u001b[0m\n\u001b[1;32m     14\u001b[0m     \n\u001b[1;32m     15\u001b[0m }\n\u001b[1;32m     17\u001b[0m rgs_cvec_knn \u001b[38;5;241m=\u001b[39m GridSearchCV(rpipe_cvec_knn, rpipe_cvec_knn_params, n_jobs \u001b[38;5;241m=\u001b[39m \u001b[38;5;241m-\u001b[39m\u001b[38;5;241m1\u001b[39m)\n\u001b[0;32m---> 18\u001b[0m \u001b[43mrgs_cvec_knn\u001b[49m\u001b[38;5;241;43m.\u001b[39;49m\u001b[43mfit\u001b[49m\u001b[43m(\u001b[49m\u001b[43mr_X_train\u001b[49m\u001b[43m,\u001b[49m\u001b[43m \u001b[49m\u001b[43mr_y_train\u001b[49m\u001b[43m)\u001b[49m\n",
      "File \u001b[0;32m~/opt/anaconda3/lib/python3.9/site-packages/sklearn/model_selection/_search.py:875\u001b[0m, in \u001b[0;36mBaseSearchCV.fit\u001b[0;34m(self, X, y, groups, **fit_params)\u001b[0m\n\u001b[1;32m    869\u001b[0m     results \u001b[38;5;241m=\u001b[39m \u001b[38;5;28mself\u001b[39m\u001b[38;5;241m.\u001b[39m_format_results(\n\u001b[1;32m    870\u001b[0m         all_candidate_params, n_splits, all_out, all_more_results\n\u001b[1;32m    871\u001b[0m     )\n\u001b[1;32m    873\u001b[0m     \u001b[38;5;28;01mreturn\u001b[39;00m results\n\u001b[0;32m--> 875\u001b[0m \u001b[38;5;28;43mself\u001b[39;49m\u001b[38;5;241;43m.\u001b[39;49m\u001b[43m_run_search\u001b[49m\u001b[43m(\u001b[49m\u001b[43mevaluate_candidates\u001b[49m\u001b[43m)\u001b[49m\n\u001b[1;32m    877\u001b[0m \u001b[38;5;66;03m# multimetric is determined here because in the case of a callable\u001b[39;00m\n\u001b[1;32m    878\u001b[0m \u001b[38;5;66;03m# self.scoring the return type is only known after calling\u001b[39;00m\n\u001b[1;32m    879\u001b[0m first_test_score \u001b[38;5;241m=\u001b[39m all_out[\u001b[38;5;241m0\u001b[39m][\u001b[38;5;124m\"\u001b[39m\u001b[38;5;124mtest_scores\u001b[39m\u001b[38;5;124m\"\u001b[39m]\n",
      "File \u001b[0;32m~/opt/anaconda3/lib/python3.9/site-packages/sklearn/model_selection/_search.py:1379\u001b[0m, in \u001b[0;36mGridSearchCV._run_search\u001b[0;34m(self, evaluate_candidates)\u001b[0m\n\u001b[1;32m   1377\u001b[0m \u001b[38;5;28;01mdef\u001b[39;00m \u001b[38;5;21m_run_search\u001b[39m(\u001b[38;5;28mself\u001b[39m, evaluate_candidates):\n\u001b[1;32m   1378\u001b[0m     \u001b[38;5;124;03m\"\"\"Search all candidates in param_grid\"\"\"\u001b[39;00m\n\u001b[0;32m-> 1379\u001b[0m     \u001b[43mevaluate_candidates\u001b[49m\u001b[43m(\u001b[49m\u001b[43mParameterGrid\u001b[49m\u001b[43m(\u001b[49m\u001b[38;5;28;43mself\u001b[39;49m\u001b[38;5;241;43m.\u001b[39;49m\u001b[43mparam_grid\u001b[49m\u001b[43m)\u001b[49m\u001b[43m)\u001b[49m\n",
      "File \u001b[0;32m~/opt/anaconda3/lib/python3.9/site-packages/sklearn/model_selection/_search.py:822\u001b[0m, in \u001b[0;36mBaseSearchCV.fit.<locals>.evaluate_candidates\u001b[0;34m(candidate_params, cv, more_results)\u001b[0m\n\u001b[1;32m    814\u001b[0m \u001b[38;5;28;01mif\u001b[39;00m \u001b[38;5;28mself\u001b[39m\u001b[38;5;241m.\u001b[39mverbose \u001b[38;5;241m>\u001b[39m \u001b[38;5;241m0\u001b[39m:\n\u001b[1;32m    815\u001b[0m     \u001b[38;5;28mprint\u001b[39m(\n\u001b[1;32m    816\u001b[0m         \u001b[38;5;124m\"\u001b[39m\u001b[38;5;124mFitting \u001b[39m\u001b[38;5;132;01m{0}\u001b[39;00m\u001b[38;5;124m folds for each of \u001b[39m\u001b[38;5;132;01m{1}\u001b[39;00m\u001b[38;5;124m candidates,\u001b[39m\u001b[38;5;124m\"\u001b[39m\n\u001b[1;32m    817\u001b[0m         \u001b[38;5;124m\"\u001b[39m\u001b[38;5;124m totalling \u001b[39m\u001b[38;5;132;01m{2}\u001b[39;00m\u001b[38;5;124m fits\u001b[39m\u001b[38;5;124m\"\u001b[39m\u001b[38;5;241m.\u001b[39mformat(\n\u001b[1;32m    818\u001b[0m             n_splits, n_candidates, n_candidates \u001b[38;5;241m*\u001b[39m n_splits\n\u001b[1;32m    819\u001b[0m         )\n\u001b[1;32m    820\u001b[0m     )\n\u001b[0;32m--> 822\u001b[0m out \u001b[38;5;241m=\u001b[39m \u001b[43mparallel\u001b[49m\u001b[43m(\u001b[49m\n\u001b[1;32m    823\u001b[0m \u001b[43m    \u001b[49m\u001b[43mdelayed\u001b[49m\u001b[43m(\u001b[49m\u001b[43m_fit_and_score\u001b[49m\u001b[43m)\u001b[49m\u001b[43m(\u001b[49m\n\u001b[1;32m    824\u001b[0m \u001b[43m        \u001b[49m\u001b[43mclone\u001b[49m\u001b[43m(\u001b[49m\u001b[43mbase_estimator\u001b[49m\u001b[43m)\u001b[49m\u001b[43m,\u001b[49m\n\u001b[1;32m    825\u001b[0m \u001b[43m        \u001b[49m\u001b[43mX\u001b[49m\u001b[43m,\u001b[49m\n\u001b[1;32m    826\u001b[0m \u001b[43m        \u001b[49m\u001b[43my\u001b[49m\u001b[43m,\u001b[49m\n\u001b[1;32m    827\u001b[0m \u001b[43m        \u001b[49m\u001b[43mtrain\u001b[49m\u001b[38;5;241;43m=\u001b[39;49m\u001b[43mtrain\u001b[49m\u001b[43m,\u001b[49m\n\u001b[1;32m    828\u001b[0m \u001b[43m        \u001b[49m\u001b[43mtest\u001b[49m\u001b[38;5;241;43m=\u001b[39;49m\u001b[43mtest\u001b[49m\u001b[43m,\u001b[49m\n\u001b[1;32m    829\u001b[0m \u001b[43m        \u001b[49m\u001b[43mparameters\u001b[49m\u001b[38;5;241;43m=\u001b[39;49m\u001b[43mparameters\u001b[49m\u001b[43m,\u001b[49m\n\u001b[1;32m    830\u001b[0m \u001b[43m        \u001b[49m\u001b[43msplit_progress\u001b[49m\u001b[38;5;241;43m=\u001b[39;49m\u001b[43m(\u001b[49m\u001b[43msplit_idx\u001b[49m\u001b[43m,\u001b[49m\u001b[43m \u001b[49m\u001b[43mn_splits\u001b[49m\u001b[43m)\u001b[49m\u001b[43m,\u001b[49m\n\u001b[1;32m    831\u001b[0m \u001b[43m        \u001b[49m\u001b[43mcandidate_progress\u001b[49m\u001b[38;5;241;43m=\u001b[39;49m\u001b[43m(\u001b[49m\u001b[43mcand_idx\u001b[49m\u001b[43m,\u001b[49m\u001b[43m \u001b[49m\u001b[43mn_candidates\u001b[49m\u001b[43m)\u001b[49m\u001b[43m,\u001b[49m\n\u001b[1;32m    832\u001b[0m \u001b[43m        \u001b[49m\u001b[38;5;241;43m*\u001b[39;49m\u001b[38;5;241;43m*\u001b[39;49m\u001b[43mfit_and_score_kwargs\u001b[49m\u001b[43m,\u001b[49m\n\u001b[1;32m    833\u001b[0m \u001b[43m    \u001b[49m\u001b[43m)\u001b[49m\n\u001b[1;32m    834\u001b[0m \u001b[43m    \u001b[49m\u001b[38;5;28;43;01mfor\u001b[39;49;00m\u001b[43m \u001b[49m\u001b[43m(\u001b[49m\u001b[43mcand_idx\u001b[49m\u001b[43m,\u001b[49m\u001b[43m \u001b[49m\u001b[43mparameters\u001b[49m\u001b[43m)\u001b[49m\u001b[43m,\u001b[49m\u001b[43m \u001b[49m\u001b[43m(\u001b[49m\u001b[43msplit_idx\u001b[49m\u001b[43m,\u001b[49m\u001b[43m \u001b[49m\u001b[43m(\u001b[49m\u001b[43mtrain\u001b[49m\u001b[43m,\u001b[49m\u001b[43m \u001b[49m\u001b[43mtest\u001b[49m\u001b[43m)\u001b[49m\u001b[43m)\u001b[49m\u001b[43m \u001b[49m\u001b[38;5;129;43;01min\u001b[39;49;00m\u001b[43m \u001b[49m\u001b[43mproduct\u001b[49m\u001b[43m(\u001b[49m\n\u001b[1;32m    835\u001b[0m \u001b[43m        \u001b[49m\u001b[38;5;28;43menumerate\u001b[39;49m\u001b[43m(\u001b[49m\u001b[43mcandidate_params\u001b[49m\u001b[43m)\u001b[49m\u001b[43m,\u001b[49m\u001b[43m \u001b[49m\u001b[38;5;28;43menumerate\u001b[39;49m\u001b[43m(\u001b[49m\u001b[43mcv\u001b[49m\u001b[38;5;241;43m.\u001b[39;49m\u001b[43msplit\u001b[49m\u001b[43m(\u001b[49m\u001b[43mX\u001b[49m\u001b[43m,\u001b[49m\u001b[43m \u001b[49m\u001b[43my\u001b[49m\u001b[43m,\u001b[49m\u001b[43m \u001b[49m\u001b[43mgroups\u001b[49m\u001b[43m)\u001b[49m\u001b[43m)\u001b[49m\n\u001b[1;32m    836\u001b[0m \u001b[43m    \u001b[49m\u001b[43m)\u001b[49m\n\u001b[1;32m    837\u001b[0m \u001b[43m\u001b[49m\u001b[43m)\u001b[49m\n\u001b[1;32m    839\u001b[0m \u001b[38;5;28;01mif\u001b[39;00m \u001b[38;5;28mlen\u001b[39m(out) \u001b[38;5;241m<\u001b[39m \u001b[38;5;241m1\u001b[39m:\n\u001b[1;32m    840\u001b[0m     \u001b[38;5;28;01mraise\u001b[39;00m \u001b[38;5;167;01mValueError\u001b[39;00m(\n\u001b[1;32m    841\u001b[0m         \u001b[38;5;124m\"\u001b[39m\u001b[38;5;124mNo fits were performed. \u001b[39m\u001b[38;5;124m\"\u001b[39m\n\u001b[1;32m    842\u001b[0m         \u001b[38;5;124m\"\u001b[39m\u001b[38;5;124mWas the CV iterator empty? \u001b[39m\u001b[38;5;124m\"\u001b[39m\n\u001b[1;32m    843\u001b[0m         \u001b[38;5;124m\"\u001b[39m\u001b[38;5;124mWere there no candidates?\u001b[39m\u001b[38;5;124m\"\u001b[39m\n\u001b[1;32m    844\u001b[0m     )\n",
      "File \u001b[0;32m~/opt/anaconda3/lib/python3.9/site-packages/joblib/parallel.py:1056\u001b[0m, in \u001b[0;36mParallel.__call__\u001b[0;34m(self, iterable)\u001b[0m\n\u001b[1;32m   1053\u001b[0m     \u001b[38;5;28mself\u001b[39m\u001b[38;5;241m.\u001b[39m_iterating \u001b[38;5;241m=\u001b[39m \u001b[38;5;28;01mFalse\u001b[39;00m\n\u001b[1;32m   1055\u001b[0m \u001b[38;5;28;01mwith\u001b[39;00m \u001b[38;5;28mself\u001b[39m\u001b[38;5;241m.\u001b[39m_backend\u001b[38;5;241m.\u001b[39mretrieval_context():\n\u001b[0;32m-> 1056\u001b[0m     \u001b[38;5;28;43mself\u001b[39;49m\u001b[38;5;241;43m.\u001b[39;49m\u001b[43mretrieve\u001b[49m\u001b[43m(\u001b[49m\u001b[43m)\u001b[49m\n\u001b[1;32m   1057\u001b[0m \u001b[38;5;66;03m# Make sure that we get a last message telling us we are done\u001b[39;00m\n\u001b[1;32m   1058\u001b[0m elapsed_time \u001b[38;5;241m=\u001b[39m time\u001b[38;5;241m.\u001b[39mtime() \u001b[38;5;241m-\u001b[39m \u001b[38;5;28mself\u001b[39m\u001b[38;5;241m.\u001b[39m_start_time\n",
      "File \u001b[0;32m~/opt/anaconda3/lib/python3.9/site-packages/joblib/parallel.py:935\u001b[0m, in \u001b[0;36mParallel.retrieve\u001b[0;34m(self)\u001b[0m\n\u001b[1;32m    933\u001b[0m \u001b[38;5;28;01mtry\u001b[39;00m:\n\u001b[1;32m    934\u001b[0m     \u001b[38;5;28;01mif\u001b[39;00m \u001b[38;5;28mgetattr\u001b[39m(\u001b[38;5;28mself\u001b[39m\u001b[38;5;241m.\u001b[39m_backend, \u001b[38;5;124m'\u001b[39m\u001b[38;5;124msupports_timeout\u001b[39m\u001b[38;5;124m'\u001b[39m, \u001b[38;5;28;01mFalse\u001b[39;00m):\n\u001b[0;32m--> 935\u001b[0m         \u001b[38;5;28mself\u001b[39m\u001b[38;5;241m.\u001b[39m_output\u001b[38;5;241m.\u001b[39mextend(\u001b[43mjob\u001b[49m\u001b[38;5;241;43m.\u001b[39;49m\u001b[43mget\u001b[49m\u001b[43m(\u001b[49m\u001b[43mtimeout\u001b[49m\u001b[38;5;241;43m=\u001b[39;49m\u001b[38;5;28;43mself\u001b[39;49m\u001b[38;5;241;43m.\u001b[39;49m\u001b[43mtimeout\u001b[49m\u001b[43m)\u001b[49m)\n\u001b[1;32m    936\u001b[0m     \u001b[38;5;28;01melse\u001b[39;00m:\n\u001b[1;32m    937\u001b[0m         \u001b[38;5;28mself\u001b[39m\u001b[38;5;241m.\u001b[39m_output\u001b[38;5;241m.\u001b[39mextend(job\u001b[38;5;241m.\u001b[39mget())\n",
      "File \u001b[0;32m~/opt/anaconda3/lib/python3.9/site-packages/joblib/_parallel_backends.py:542\u001b[0m, in \u001b[0;36mLokyBackend.wrap_future_result\u001b[0;34m(future, timeout)\u001b[0m\n\u001b[1;32m    539\u001b[0m \u001b[38;5;124;03m\"\"\"Wrapper for Future.result to implement the same behaviour as\u001b[39;00m\n\u001b[1;32m    540\u001b[0m \u001b[38;5;124;03mAsyncResults.get from multiprocessing.\"\"\"\u001b[39;00m\n\u001b[1;32m    541\u001b[0m \u001b[38;5;28;01mtry\u001b[39;00m:\n\u001b[0;32m--> 542\u001b[0m     \u001b[38;5;28;01mreturn\u001b[39;00m \u001b[43mfuture\u001b[49m\u001b[38;5;241;43m.\u001b[39;49m\u001b[43mresult\u001b[49m\u001b[43m(\u001b[49m\u001b[43mtimeout\u001b[49m\u001b[38;5;241;43m=\u001b[39;49m\u001b[43mtimeout\u001b[49m\u001b[43m)\u001b[49m\n\u001b[1;32m    543\u001b[0m \u001b[38;5;28;01mexcept\u001b[39;00m CfTimeoutError \u001b[38;5;28;01mas\u001b[39;00m e:\n\u001b[1;32m    544\u001b[0m     \u001b[38;5;28;01mraise\u001b[39;00m \u001b[38;5;167;01mTimeoutError\u001b[39;00m \u001b[38;5;28;01mfrom\u001b[39;00m \u001b[38;5;21;01me\u001b[39;00m\n",
      "File \u001b[0;32m~/opt/anaconda3/lib/python3.9/concurrent/futures/_base.py:441\u001b[0m, in \u001b[0;36mFuture.result\u001b[0;34m(self, timeout)\u001b[0m\n\u001b[1;32m    438\u001b[0m \u001b[38;5;28;01melif\u001b[39;00m \u001b[38;5;28mself\u001b[39m\u001b[38;5;241m.\u001b[39m_state \u001b[38;5;241m==\u001b[39m FINISHED:\n\u001b[1;32m    439\u001b[0m     \u001b[38;5;28;01mreturn\u001b[39;00m \u001b[38;5;28mself\u001b[39m\u001b[38;5;241m.\u001b[39m__get_result()\n\u001b[0;32m--> 441\u001b[0m \u001b[38;5;28;43mself\u001b[39;49m\u001b[38;5;241;43m.\u001b[39;49m\u001b[43m_condition\u001b[49m\u001b[38;5;241;43m.\u001b[39;49m\u001b[43mwait\u001b[49m\u001b[43m(\u001b[49m\u001b[43mtimeout\u001b[49m\u001b[43m)\u001b[49m\n\u001b[1;32m    443\u001b[0m \u001b[38;5;28;01mif\u001b[39;00m \u001b[38;5;28mself\u001b[39m\u001b[38;5;241m.\u001b[39m_state \u001b[38;5;129;01min\u001b[39;00m [CANCELLED, CANCELLED_AND_NOTIFIED]:\n\u001b[1;32m    444\u001b[0m     \u001b[38;5;28;01mraise\u001b[39;00m CancelledError()\n",
      "File \u001b[0;32m~/opt/anaconda3/lib/python3.9/threading.py:312\u001b[0m, in \u001b[0;36mCondition.wait\u001b[0;34m(self, timeout)\u001b[0m\n\u001b[1;32m    310\u001b[0m \u001b[38;5;28;01mtry\u001b[39;00m:    \u001b[38;5;66;03m# restore state no matter what (e.g., KeyboardInterrupt)\u001b[39;00m\n\u001b[1;32m    311\u001b[0m     \u001b[38;5;28;01mif\u001b[39;00m timeout \u001b[38;5;129;01mis\u001b[39;00m \u001b[38;5;28;01mNone\u001b[39;00m:\n\u001b[0;32m--> 312\u001b[0m         \u001b[43mwaiter\u001b[49m\u001b[38;5;241;43m.\u001b[39;49m\u001b[43macquire\u001b[49m\u001b[43m(\u001b[49m\u001b[43m)\u001b[49m\n\u001b[1;32m    313\u001b[0m         gotit \u001b[38;5;241m=\u001b[39m \u001b[38;5;28;01mTrue\u001b[39;00m\n\u001b[1;32m    314\u001b[0m     \u001b[38;5;28;01melse\u001b[39;00m:\n",
      "\u001b[0;31mKeyboardInterrupt\u001b[0m: "
     ]
    }
   ],
   "source": [
    "rpipe_cvec_knn = Pipeline([\n",
    "    ('cvec', CountVectorizer(token_pattern = '[a-zA-Z0-9]+')),\n",
    "    ('ss', StandardScaler(with_mean = False)),\n",
    "    ('knn', KNeighborsClassifier())\n",
    "])\n",
    "\n",
    "rpipe_cvec_knn_params = {\n",
    "    'cvec__stop_words': ['english', None],\n",
    "    'cvec__ngram_range': [(1,1), (1,2)],\n",
    "    'cvec__max_df': [0.9, 1.0],\n",
    "    'knn__n_neighbors': [3, 5, 7],\n",
    "    'knn__weights': ['uniform', 'distance'],\n",
    "    'knn__metric': ['minkowski', 'euclidean', 'manhattan']\n",
    "    \n",
    "}\n",
    "\n",
    "rgs_cvec_knn = GridSearchCV(rpipe_cvec_knn, rpipe_cvec_knn_params, n_jobs = -1)\n",
    "rgs_cvec_knn.fit(r_X_train, r_y_train)"
   ]
  },
  {
   "cell_type": "code",
   "execution_count": null,
   "id": "7bf9edac-509a-43a2-9d7e-230ef776d045",
   "metadata": {},
   "outputs": [],
   "source": [
    "print(f' Train accuracy: {rgs_cvec_knn.score(r_X_train, r_y_train)}, Test accuracy: {rgs_cvec_knn.score(r_X_test, r_y_test)}')"
   ]
  },
  {
   "cell_type": "code",
   "execution_count": null,
   "id": "7a5b752e-ba2c-4d8d-9dfc-2d6fbfc223c2",
   "metadata": {},
   "outputs": [],
   "source": [
    "rgs_cvec_knn.best_params_"
   ]
  },
  {
   "cell_type": "code",
   "execution_count": null,
   "id": "5ee17078-a53c-41bd-b00f-9a1c81f9d038",
   "metadata": {},
   "outputs": [],
   "source": [
    "ry_pred_knn = rgs_cvec_knn.predict(r_X_test)"
   ]
  },
  {
   "cell_type": "code",
   "execution_count": null,
   "id": "c78e04a8-6ff2-4468-8286-f3717c904c1b",
   "metadata": {},
   "outputs": [],
   "source": [
    "rtn_knn, rfp_knn, rfn_knn, rtp_knn = confusion_matrix(r_y_test, ry_pred_knn).ravel()"
   ]
  },
  {
   "cell_type": "code",
   "execution_count": null,
   "id": "eec12c53-8fe1-4610-8b2b-d5c5d38dbc5f",
   "metadata": {},
   "outputs": [],
   "source": [
    "cmd = ConfusionMatrixDisplay(confusion_matrix=confusion_matrix(r_y_test, ry_pred_knn),\n",
    "                      display_labels=['Highly Rated', 'Poorly Rated']);\n",
    "cmd.plot(cmap = 'GnBu')\n",
    "plt.title('Reviews KNN Confusion Matrix')\n",
    "plt.tight_layout();"
   ]
  },
  {
   "cell_type": "code",
   "execution_count": null,
   "id": "11433a9d-24cb-4837-af03-b9d30449ceb9",
   "metadata": {},
   "outputs": [],
   "source": [
    "#Sensitivity \n",
    "print(f' Sensitivity: {rtp_knn / (rtp_knn+rfn_knn)}')\n",
    "#Specificity\n",
    "print(f' Specificity: {rtn_knn / (rtn_knn+rfp_knn)}')\n",
    "#Precision \n",
    "print(f' Precision: {rtp_knn/(rtp_knn+rfp_knn)}')"
   ]
  },
  {
   "cell_type": "markdown",
   "id": "5f3190b9-a954-4c6c-8245-6db71cc260de",
   "metadata": {},
   "source": [
    "## Decision Tree"
   ]
  },
  {
   "cell_type": "code",
   "execution_count": null,
   "id": "43a1b8e6-c63a-4550-8b89-af1d8f771173",
   "metadata": {},
   "outputs": [],
   "source": [
    "rpipe_cvec_dt = Pipeline([\n",
    "    ('cvec', CountVectorizer(token_pattern = '[a-zA-Z0-9]+')),\n",
    "    ('dt', DecisionTreeClassifier(random_state = 222))\n",
    "])\n",
    "\n",
    "rpipe_cvec_dt_params = {\n",
    "    'cvec__stop_words': ['english', None],\n",
    "    'cvec__ngram_range': [(1,1), (1,2)],\n",
    "    'cvec__max_df': [0.9, 1.0],\n",
    "    'dt__max_depth': [3, 5, 8],\n",
    "    'dt__min_samples_leaf': [1, 2, 5]\n",
    "    \n",
    "}\n",
    "\n",
    "rgs_cvec_dt = GridSearchCV(rpipe_cvec_dt, rpipe_cvec_dt_params, n_jobs = -1)\n",
    "rgs_cvec_dt.fit(r_X_train, r_y_train)\n"
   ]
  },
  {
   "cell_type": "code",
   "execution_count": null,
   "id": "284a30bd-278f-4e34-ae0e-26927c873a91",
   "metadata": {},
   "outputs": [],
   "source": [
    "print(f' Train accuracy: {rgs_cvec_dt.score(r_X_train, r_y_train)}, Test accuracy: {rgs_cvec_dt.score(r_X_test, r_y_test)}')"
   ]
  },
  {
   "cell_type": "code",
   "execution_count": null,
   "id": "5876a0f5-8eb5-48b1-8fae-1c99c603a0fe",
   "metadata": {},
   "outputs": [],
   "source": [
    "rgs_cvec_dt.best_params_"
   ]
  },
  {
   "cell_type": "code",
   "execution_count": null,
   "id": "7c866545-e7ac-4320-8d2f-09910a873f03",
   "metadata": {},
   "outputs": [],
   "source": [
    "ry_pred_dt = rgs_cvec_dt.predict(r_X_test)"
   ]
  },
  {
   "cell_type": "code",
   "execution_count": null,
   "id": "187549ed-0b26-4544-95df-b3411343fe21",
   "metadata": {},
   "outputs": [],
   "source": [
    "rtn_dt, rfp_dt, rfn_dt, rtp_dt = confusion_matrix(r_y_test, ry_pred_dt).ravel()"
   ]
  },
  {
   "cell_type": "code",
   "execution_count": null,
   "id": "47685e92-ec0d-4256-90bc-b86b0ae9dc23",
   "metadata": {},
   "outputs": [],
   "source": [
    "cmd = ConfusionMatrixDisplay(confusion_matrix=confusion_matrix(r_y_test, ry_pred_dt),\n",
    "                      display_labels=['Highly Rated', 'Poorly Rated']);\n",
    "cmd.plot(cmap = 'GnBu')\n",
    "plt.title('Reviews Decision Tree Confusion Matrix')\n",
    "plt.tight_layout();"
   ]
  },
  {
   "cell_type": "code",
   "execution_count": null,
   "id": "cec44579-dc9e-4bcf-9ad9-ad9cd474a103",
   "metadata": {},
   "outputs": [],
   "source": [
    "#Sensitivity \n",
    "print(f' Sensitivity: {rtp_dt / (rtp_dt+rfn_dt)}')\n",
    "#Specificity\n",
    "print(f' Specificity: {rtn_dt / (rtn_dt+rfp_dt)}')\n",
    "#Precision \n",
    "print(f' Precision: {rtp_dt/(rtp_dt+rfp_dt)}')"
   ]
  },
  {
   "cell_type": "markdown",
   "id": "582308da-3f5c-483e-a3fa-7b953e19073d",
   "metadata": {},
   "source": [
    "## Random Forest"
   ]
  },
  {
   "cell_type": "code",
   "execution_count": null,
   "id": "03987563-75d1-4b9d-aa0b-4eb0079ddecc",
   "metadata": {},
   "outputs": [],
   "source": [
    "rpipe_cvec_rf = Pipeline([\n",
    "    ('cvec', CountVectorizer(token_pattern = '[a-zA-Z0-9]+')),\n",
    "    ('rf', RandomForestClassifier(random_state =222))\n",
    "])\n",
    "\n",
    "rpipe_cvec_rf_params = {\n",
    "    'cvec__stop_words': ['english', None],\n",
    "    'cvec__ngram_range': [(1,1), (1,2)],\n",
    "    'cvec__max_df': [0.9, 1.0],\n",
    "    'rf__n_estimators': [100, 125, 150],\n",
    "    'rf__max_depth': [3, 5, 8],\n",
    "    'rf__min_samples_leaf': [1, 2, 5]\n",
    "    \n",
    "}\n",
    "\n",
    "rgs_cvec_rf = GridSearchCV(rpipe_cvec_rf, rpipe_cvec_rf_params, n_jobs = -1)\n",
    "rgs_cvec_rf.fit(r_X_train, r_y_train)"
   ]
  },
  {
   "cell_type": "code",
   "execution_count": null,
   "id": "384d1077-bdd6-47ae-9f6f-57013636cf3a",
   "metadata": {},
   "outputs": [],
   "source": [
    "print(f' Train accuracy: {rgs_cvec_rf.score(r_X_train, r_y_train)}, Test accuracy: {rgs_cvec_rf.score(r_X_test, r_y_test)}')"
   ]
  },
  {
   "cell_type": "code",
   "execution_count": null,
   "id": "8cfc5829-4da0-4f60-8716-72758bbab3bb",
   "metadata": {},
   "outputs": [],
   "source": [
    "rgs_cvec_rf.best_params_"
   ]
  },
  {
   "cell_type": "code",
   "execution_count": null,
   "id": "ed362f9d-7084-4e01-9770-3a99f15fff2a",
   "metadata": {},
   "outputs": [],
   "source": [
    "ry_pred_rf = rgs_cvec_rf.predict(r_X_test)"
   ]
  },
  {
   "cell_type": "code",
   "execution_count": null,
   "id": "29bffb71-0fde-4add-9886-5d2573e552fd",
   "metadata": {},
   "outputs": [],
   "source": [
    "rtn_rf, rfp_rf, rfn_rf, rtp_rf = confusion_matrix(r_y_test, ry_pred_rf).ravel()"
   ]
  },
  {
   "cell_type": "code",
   "execution_count": null,
   "id": "aec3241f-d304-49e7-8317-6939b9fc3595",
   "metadata": {},
   "outputs": [],
   "source": [
    "cmd = ConfusionMatrixDisplay(confusion_matrix=confusion_matrix(r_y_test, ry_pred_rf),\n",
    "                      display_labels=['Highly Rated', 'Poorly Rated']);\n",
    "cmd.plot(cmap = 'GnBu')\n",
    "plt.title('Reviews Random Forests Confusion Matrix')\n",
    "plt.tight_layout();"
   ]
  },
  {
   "cell_type": "code",
   "execution_count": null,
   "id": "e8166dbf-084b-4050-98b2-f717e4b0b8e9",
   "metadata": {},
   "outputs": [],
   "source": [
    "#Sensitivity \n",
    "print(f' Sensitivity: {rtp_rf / (rtp_rf+rfn_rf)}')\n",
    "#Specificity\n",
    "print(f' Specificity: {rtn_rf / (rtn_rf+rfp_rf)}')\n",
    "#Precision \n",
    "print(f' Precision: {rtp_rf/(rtp_rf+rfp_rf)}')"
   ]
  },
  {
   "cell_type": "markdown",
   "id": "a1f944e5-eccc-4d03-80d0-b2e187044828",
   "metadata": {},
   "source": [
    "## ADA Boost"
   ]
  },
  {
   "cell_type": "code",
   "execution_count": null,
   "id": "082448f6-c8da-4826-9cc1-d0921efae303",
   "metadata": {},
   "outputs": [],
   "source": [
    "rpipe_cvec_ada = Pipeline([\n",
    "    ('cvec', CountVectorizer(token_pattern = '[a-zA-Z0-9]+')),\n",
    "    ('ada', AdaBoostClassifier(random_state =222))\n",
    "])\n",
    "\n",
    "rpipe_cvec_ada_params = {\n",
    "    'cvec__stop_words': ['english', None],\n",
    "    'cvec__ngram_range': [(1,1), (1,2)],\n",
    "    'cvec__max_df': [0.9, 1.0],\n",
    "    'ada__n_estimators': [100, 125, 150],\n",
    "    'ada__learning_rate': [1.0, 1.5]\n",
    "    \n",
    "}\n",
    "\n",
    "rgs_cvec_ada = GridSearchCV(rpipe_cvec_ada, rpipe_cvec_ada_params, n_jobs = -1)\n",
    "rgs_cvec_ada.fit(r_X_train, r_y_train)"
   ]
  },
  {
   "cell_type": "code",
   "execution_count": null,
   "id": "04cfdd35-86da-4fb7-8dba-372452de64aa",
   "metadata": {},
   "outputs": [],
   "source": [
    "print(f' Train accuracy: {rgs_cvec_ada.score(r_X_train, r_y_train)}, Test accuracy: {rgs_cvec_ada.score(r_X_test, r_y_test)}')"
   ]
  },
  {
   "cell_type": "code",
   "execution_count": null,
   "id": "da34ab8a-dddb-49ca-bb4f-38ba675fdc57",
   "metadata": {},
   "outputs": [],
   "source": [
    "rgs_cvec_ada.best_params_"
   ]
  },
  {
   "cell_type": "code",
   "execution_count": null,
   "id": "8484e63f-0850-4e22-9d9b-c530c87ff704",
   "metadata": {},
   "outputs": [],
   "source": [
    "ry_pred_ada = rgs_cvec_ada.predict(r_X_test)"
   ]
  },
  {
   "cell_type": "code",
   "execution_count": null,
   "id": "08b88d96-0ebe-4f42-8bfe-0736ee6494d2",
   "metadata": {},
   "outputs": [],
   "source": [
    "rtn_ada, rfp_ada, rfn_ada, rtp_ada = confusion_matrix(r_y_test, ry_pred_ada).ravel()"
   ]
  },
  {
   "cell_type": "code",
   "execution_count": null,
   "id": "9c45938d-049a-40b9-aede-cdfcc23bafa2",
   "metadata": {},
   "outputs": [],
   "source": [
    "cmd = ConfusionMatrixDisplay(confusion_matrix=confusion_matrix(r_y_test, ry_pred_ada),\n",
    "                      display_labels=['Highly Rated', 'Poorly Rated']);\n",
    "cmd.plot(cmap = 'GnBu')\n",
    "plt.title('Reviews AdaBoost Confusion Matrix')\n",
    "plt.tight_layout();"
   ]
  },
  {
   "cell_type": "code",
   "execution_count": null,
   "id": "7bf045fd-2c7d-471f-bd83-cec9563a8ce7",
   "metadata": {},
   "outputs": [],
   "source": [
    "#Sensitivity \n",
    "print(f' Sensitivity: {rtp_ada / (rtp_ada+rfn_ada)}')\n",
    "#Specificity\n",
    "print(f' Specificity: {rtn_ada / (rtn_ada+rfp_ada)}')\n",
    "#Precision \n",
    "print(f' Precision: {rtp_ada/(rtp_ada+rfp_ada)}')"
   ]
  },
  {
   "cell_type": "markdown",
   "id": "a3fd11cb-5d8d-4fb9-96e4-e450ed799775",
   "metadata": {},
   "source": [
    "## Gradient Boost"
   ]
  },
  {
   "cell_type": "code",
   "execution_count": null,
   "id": "38969036-611b-4ed5-87b4-eb7a07b20154",
   "metadata": {},
   "outputs": [],
   "source": [
    "rpipe_cvec_g = Pipeline([\n",
    "    ('cvec', CountVectorizer(token_pattern = '[a-zA-Z0-9]+')),\n",
    "    ('g_boost', GradientBoostingClassifier(random_state = 222))\n",
    "])\n",
    "\n",
    "rpipe_cvec_g_params = {\n",
    "    'cvec__stop_words': ['english', None],\n",
    "    'cvec__ngram_range': [(1,1), (1,2)],\n",
    "    'cvec__max_df': [0.9, 1.0],\n",
    "    'g_boost__n_estimators': [100, 125, 150],\n",
    "    'g_boost__learning_rate': [0.8, 1.0, 1.5],\n",
    "    'g_boost__min_samples_split': [2]\n",
    "    \n",
    "}\n",
    "\n",
    "rgs_cvec_g = GridSearchCV(rpipe_cvec_g, rpipe_cvec_g_params, n_jobs = -1)\n",
    "rgs_cvec_g.fit(r_X_train, r_y_train)"
   ]
  },
  {
   "cell_type": "code",
   "execution_count": null,
   "id": "00685a8c-6f10-484c-a9be-181af894f1a3",
   "metadata": {},
   "outputs": [],
   "source": [
    "print(f' Train accuracy: {rgs_cvec_g.score(r_X_train, r_y_train)}, Test accuracy: {rgs_cvec_g.score(r_X_test, r_y_test)}')"
   ]
  },
  {
   "cell_type": "code",
   "execution_count": null,
   "id": "bc44e9b5-1f21-4a57-8d3f-ed4cb1673b9a",
   "metadata": {},
   "outputs": [],
   "source": [
    "rgs_cvec_g.best_params_"
   ]
  },
  {
   "cell_type": "code",
   "execution_count": null,
   "id": "da5ad401-5483-4c96-8204-60c38fa6a4e3",
   "metadata": {},
   "outputs": [],
   "source": [
    "ry_pred_g = rgs_cvec_g.predict(r_X_test)"
   ]
  },
  {
   "cell_type": "code",
   "execution_count": null,
   "id": "2276daf0-8529-42e4-9bf4-18fc5346c72d",
   "metadata": {},
   "outputs": [],
   "source": [
    "rtn_g, rfp_g, rfn_g, rtp_g = confusion_matrix(r_y_test, ry_pred_g).ravel()"
   ]
  },
  {
   "cell_type": "code",
   "execution_count": null,
   "id": "9383da3d-2db5-4ea1-a6fe-53465a20fa59",
   "metadata": {},
   "outputs": [],
   "source": [
    "cmd = ConfusionMatrixDisplay(confusion_matrix=confusion_matrix(r_y_test, ry_pred_g),\n",
    "                      display_labels=['Highly Rated', 'Poorly Rated']);\n",
    "cmd.plot(cmap = 'GnBu')\n",
    "plt.title('Reviews Gradient Boost Confusion Matrix')\n",
    "plt.tight_layout();"
   ]
  },
  {
   "cell_type": "code",
   "execution_count": null,
   "id": "52c90212-67a7-44cd-9652-9b849f048cac",
   "metadata": {},
   "outputs": [],
   "source": [
    "#Sensitivity \n",
    "print(f' Sensitivity: {rtp_g / (rtp_g+rfn_g)}')\n",
    "#Specificity\n",
    "print(f' Specificity: {rtn_g / (rtn_g+rfp_g)}')\n",
    "#Precision \n",
    "print(f' Precision: {rtp_g/(rtp_g+rfp_g)}')"
   ]
  },
  {
   "cell_type": "markdown",
   "id": "9a1792ca-48ed-4619-a503-496556c12e89",
   "metadata": {},
   "source": [
    "## Bagging Classifier"
   ]
  },
  {
   "cell_type": "code",
   "execution_count": null,
   "id": "4f7534d9-65fb-4aa2-b992-ed1b795364c2",
   "metadata": {},
   "outputs": [],
   "source": [
    "rpipe_cvec_bag = Pipeline([\n",
    "    ('cvec', CountVectorizer(token_pattern = '[a-zA-Z0-9]+')),\n",
    "    ('bag', BaggingClassifier(random_state = 222))\n",
    "])\n",
    "\n",
    "rpipe_cvec_bag_params = {\n",
    "    'cvec__stop_words': ['english', None],\n",
    "    'cvec__ngram_range': [(1,1), (1,2)],\n",
    "    'cvec__max_df': [0.9, 1.0],\n",
    "    'bag__n_estimators': [50, 100, 150],\n",
    "    'bag__max_samples': [0.65, 0.75, 0.85, 1.0],\n",
    "    'bag__max_features': [0.65, 0.75, 0.85, 1.0]\n",
    "    \n",
    "}\n",
    "\n",
    "rgs_cvec_bag = GridSearchCV(rpipe_cvec_bag, rpipe_cvec_bag_params, n_jobs = -1)\n",
    "rgs_cvec_bag.fit(r_X_train, r_y_train)"
   ]
  },
  {
   "cell_type": "code",
   "execution_count": null,
   "id": "1098529c-df3f-493d-8c54-00f828a8dc35",
   "metadata": {},
   "outputs": [],
   "source": [
    "print(f' Train accuracy: {rgs_cvec_bag.score(r_X_train, r_y_train)}, Test accuracy: {rgs_cvec_bag.score(r_X_test, r_y_test)}')"
   ]
  },
  {
   "cell_type": "code",
   "execution_count": null,
   "id": "c50e8ec4-62f1-4775-9edd-274cb8df285f",
   "metadata": {},
   "outputs": [],
   "source": [
    "rgs_cvec_bag.best_params_"
   ]
  },
  {
   "cell_type": "code",
   "execution_count": null,
   "id": "88c9f61f-2406-40de-830a-2a9f2b89f65c",
   "metadata": {},
   "outputs": [],
   "source": [
    "ry_pred_bag = rgs_cvec_bag.predict(r_X_test)"
   ]
  },
  {
   "cell_type": "code",
   "execution_count": null,
   "id": "971f3d6a-8aaf-44a6-8e5a-3083074d2c68",
   "metadata": {},
   "outputs": [],
   "source": [
    "rtn_bag, rfp_bag, rfn_bag, rtp_bag = confusion_matrix(r_y_test, ry_pred_bag).ravel()"
   ]
  },
  {
   "cell_type": "code",
   "execution_count": null,
   "id": "1227b392-39bc-4ac9-985f-dfdb7abf70de",
   "metadata": {},
   "outputs": [],
   "source": [
    "cmd = ConfusionMatrixDisplay(confusion_matrix=confusion_matrix(r_y_test, ry_pred_bag),\n",
    "                      display_labels=['Highly Rated', 'Poorly Rated']);\n",
    "cmd.plot(cmap = 'GnBu')\n",
    "plt.title('Reviews Bagging Classifier Confusion Matrix')\n",
    "plt.tight_layout();"
   ]
  },
  {
   "cell_type": "code",
   "execution_count": null,
   "id": "5340f534-d158-4855-b39f-605ed8b3a1f6",
   "metadata": {},
   "outputs": [],
   "source": [
    "#Sensitivity \n",
    "print(f' Sensitivity: {rtp_bag / (rtp_bag+rfn_bag)}')\n",
    "#Specificity\n",
    "print(f' Specificity: {rtn_bag / (rtn_bag+rfp_bag)}')\n",
    "#Precision \n",
    "print(f' Precision: {rtp_bag/(rtp_bag+rfp_bag)}')"
   ]
  },
  {
   "cell_type": "code",
   "execution_count": null,
   "id": "db78c5f1-acc5-44a0-9cc5-512e3be18661",
   "metadata": {},
   "outputs": [],
   "source": []
  }
 ],
 "metadata": {
  "kernelspec": {
   "display_name": "Python 3 (ipykernel)",
   "language": "python",
   "name": "python3"
  },
  "language_info": {
   "codemirror_mode": {
    "name": "ipython",
    "version": 3
   },
   "file_extension": ".py",
   "mimetype": "text/x-python",
   "name": "python",
   "nbconvert_exporter": "python",
   "pygments_lexer": "ipython3",
   "version": "3.9.12"
  }
 },
 "nbformat": 4,
 "nbformat_minor": 5
}
